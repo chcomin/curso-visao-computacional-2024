{
 "cells": [
  {
   "cell_type": "markdown",
   "metadata": {},
   "source": [
    "# Aumentando o tamanho de imagens\n",
    "\n",
    "Veremos algumas técnicas que podem ser utilizadas para aumentar o tamanho de imagens. "
   ]
  },
  {
   "cell_type": "code",
   "execution_count": 1,
   "metadata": {},
   "outputs": [],
   "source": [
    "import torch\n",
    "from torch import nn\n",
    "import torch.nn.functional as F"
   ]
  },
  {
   "cell_type": "markdown",
   "metadata": {},
   "source": [
    "### Aumento de resolução de imagens por interpolação"
   ]
  },
  {
   "cell_type": "code",
   "execution_count": 2,
   "metadata": {},
   "outputs": [
    {
     "name": "stdout",
     "output_type": "stream",
     "text": [
      "torch.Size([1, 3, 56, 56])\n",
      "torch.Size([1, 3, 56, 56])\n"
     ]
    }
   ],
   "source": [
    "x = torch.rand(1, 3, 28, 28)\n",
    "\n",
    "# Podemos definir o tamanho da saída...\n",
    "y = F.interpolate(x, size=(56, 56), mode='bilinear')\n",
    "print(y.shape)\n",
    "\n",
    "# ...ou o fator de escala\n",
    "y = F.interpolate(x, scale_factor=2., mode='bilinear')\n",
    "print(y.shape)"
   ]
  },
  {
   "cell_type": "markdown",
   "metadata": {},
   "source": [
    "A camada Upsample basicamente chama a função F.interpolate:"
   ]
  },
  {
   "cell_type": "code",
   "execution_count": 3,
   "metadata": {},
   "outputs": [
    {
     "data": {
      "text/plain": [
       "torch.Size([1, 3, 56, 56])"
      ]
     },
     "execution_count": 3,
     "metadata": {},
     "output_type": "execute_result"
    }
   ],
   "source": [
    "upsample = nn.Upsample(size=(56, 56), mode='bilinear')\n",
    "y = upsample(x)\n",
    "y.shape"
   ]
  },
  {
   "cell_type": "markdown",
   "metadata": {},
   "source": [
    "### Aumento de resolução de imagens por convolução transposta\n",
    "\n",
    "Uma forma comum de aumentar o tamanho de imagens é através da chamada *convolução transposta*. No código abaixo, o resultado possui o dobro do tamanho do sinal de entrada:"
   ]
  },
  {
   "cell_type": "code",
   "execution_count": 4,
   "metadata": {},
   "outputs": [
    {
     "name": "stdout",
     "output_type": "stream",
     "text": [
      "torch.Size([1, 1, 15])\n"
     ]
    }
   ],
   "source": [
    "x = torch.tensor([6, 3, 7, 9, 8, 3, 1], dtype=torch.float32).reshape(1, 1, -1)\n",
    "w = torch.tensor([1, 2, 3], dtype=torch.float32).reshape(1, 1, -1)\n",
    "\n",
    "y = F.conv_transpose1d(x, w, stride=2)\n",
    "print(y.shape)"
   ]
  },
  {
   "cell_type": "markdown",
   "metadata": {},
   "source": [
    "#### Interpretação da convolução transposta\n",
    "\n",
    "Mas o que é a convolução transposta? Para entender ela, primeiro lembramos do fato de que uma convolução pode ser representada como uma multiplicação matricial:"
   ]
  },
  {
   "cell_type": "code",
   "execution_count": 5,
   "metadata": {},
   "outputs": [
    {
     "name": "stdout",
     "output_type": "stream",
     "text": [
      "tensor([[[21., 44., 34.,  5.]]])\n",
      "tensor([[21., 44., 34.,  5.]])\n"
     ]
    },
    {
     "name": "stderr",
     "output_type": "stream",
     "text": [
      "[W NNPACK.cpp:64] Could not initialize NNPACK! Reason: Unsupported hardware.\n"
     ]
    }
   ],
   "source": [
    "x_half = F.conv1d(x, w, stride=2, padding=1)\n",
    "\n",
    "# Equivalente à convolução acima. Por causa do stride=2, o kernel \"pula\" \n",
    "# duas posições em cada linha\n",
    "matrix = torch.tensor([[2, 3, 0, 0, 0, 0, 0],\n",
    "                       [0, 1, 2, 3, 0, 0, 0],\n",
    "                       [0, 0, 0, 1, 2, 3, 0],\n",
    "                       [0, 0, 0, 0, 0, 1, 2]], dtype=torch.float32)\n",
    "\n",
    "#        4x7 @ 7x1 \n",
    "res = (matrix@x.reshape(7,1)).T\n",
    "print(x_half)\n",
    "print(res)"
   ]
  },
  {
   "cell_type": "markdown",
   "metadata": {},
   "source": [
    "A convolução transposta consiste em fazer exatamente a mesma multiplicação, mas utilizando a transposta da matriz w!"
   ]
  },
  {
   "cell_type": "code",
   "execution_count": 6,
   "metadata": {},
   "outputs": [
    {
     "name": "stdout",
     "output_type": "stream",
     "text": [
      "tensor([[[ 42., 107.,  88., 166.,  68., 107.,  10.]]])\n",
      "tensor([[ 42., 107.,  88., 166.,  68., 107.,  10.]])\n"
     ]
    }
   ],
   "source": [
    "x_rec = F.conv_transpose1d(x_half, w, stride=2, padding=1)\n",
    "\n",
    "#        7x4   @  4x1\n",
    "res = (matrix.T@x_half.reshape(4,1)).T\n",
    "print(x_rec)\n",
    "print(res)"
   ]
  },
  {
   "cell_type": "markdown",
   "metadata": {},
   "source": [
    "Por isso ela recebe o nome de convolução transposta.\n",
    "\n",
    "Outra forma de interpretar a convolução transposta é pensar que o sinal de entrada é intercalado com valores 0, e uma convolução normal é realizada:"
   ]
  },
  {
   "cell_type": "code",
   "execution_count": 7,
   "metadata": {},
   "outputs": [
    {
     "data": {
      "text/plain": [
       "tensor([[[ 42., 107.,  88., 166.,  68., 107.,  10.]]])"
      ]
     },
     "execution_count": 7,
     "metadata": {},
     "output_type": "execute_result"
    }
   ],
   "source": [
    "x_filled = torch.zeros(7)\n",
    "# Preenche índices ímpares com o valor de x_half\n",
    "x_filled[::2] = x_half\n",
    "x_filled = x_filled.reshape(1,1,7)\n",
    "# Aplica a convolução, precisamos inverter os valores de w para dar certo!\n",
    "# w: [1,2,3] -> [3,2,1]\n",
    "F.conv1d(x_filled, w.flip(2), padding=1)"
   ]
  },
  {
   "cell_type": "markdown",
   "metadata": {},
   "source": [
    "É como se a convolução fosse realizada com stride=0.5. Como o sinal de entrada foi intercalado com zeros, o filtro desliza 0.5 pixels nos valores originais, ao invés de 1 pixel como seria na convolução normal. Por isso é comum a convolução transposta ser descrita como \"fractionally stridded convolution\".\n",
    "\n",
    "Se tivéssemos utilizado a função `F.conv_transpose1d` com `stride=3`, teríamos um sinal de resultado com o triplo do tamanho. Nesse caso é como se tivéssemos aplicado uma convolução com passo 0.33."
   ]
  },
  {
   "cell_type": "markdown",
   "metadata": {},
   "source": [
    "#### Uso da convolução transposta em decodificadores\n",
    "\n",
    "Uma convolução com stride=2 gera um resultado com metade do tamanho. Já uma convolução transposta com stride=2 gera um resultado com o dobro do tamanho. Portanto, essas operações podem ser utilizadas em tarefas de segmentação para reduzir o tamanho da imagem e depois aumentar o tamanho novamente."
   ]
  },
  {
   "cell_type": "code",
   "execution_count": 8,
   "metadata": {},
   "outputs": [
    {
     "name": "stdout",
     "output_type": "stream",
     "text": [
      "torch.Size([1, 1, 7])\n"
     ]
    }
   ],
   "source": [
    "x = torch.rand(1, 1, 7)\n",
    "x_half = F.conv1d(x, w, stride=2, padding=1)\n",
    "x_rec = F.conv_transpose1d(x_half, w, stride=2, padding=1)\n",
    "# O tamanho da saída é igual ao tamanho da entrada:\n",
    "print(x_rec.shape)"
   ]
  },
  {
   "cell_type": "markdown",
   "metadata": {},
   "source": [
    "O sinal acima possui tamanho ímpar (7). Quando o tamanho é par, temos uma pequena variação do tamanho:"
   ]
  },
  {
   "cell_type": "code",
   "execution_count": 9,
   "metadata": {},
   "outputs": [
    {
     "name": "stdout",
     "output_type": "stream",
     "text": [
      "torch.Size([1, 1, 7])\n"
     ]
    }
   ],
   "source": [
    "x = torch.rand(1, 1, 8)\n",
    "x_half = F.conv1d(x, w, stride=2, padding=1)\n",
    "x_rec = F.conv_transpose1d(x_half, w, stride=2, padding=1)\n",
    "print(x_rec.shape)"
   ]
  },
  {
   "cell_type": "markdown",
   "metadata": {},
   "source": [
    "Isso ocorre porque tamanhos diferentes de entrada podem gerar saídas com mesmo tamanho em uma convolução com stride=2. Nesses casos, a função `conv_transpose1d` aceita um parâmetro opcional `output_padding` que pode ser utilizado para calcular o tamanho da saída de forma correta:"
   ]
  },
  {
   "cell_type": "code",
   "execution_count": 10,
   "metadata": {},
   "outputs": [
    {
     "name": "stdout",
     "output_type": "stream",
     "text": [
      "torch.Size([1, 1, 8])\n"
     ]
    }
   ],
   "source": [
    "x_rec = F.conv_transpose1d(x_half, w, stride=2, padding=1, output_padding=1)\n",
    "print(x_rec.shape)"
   ]
  },
  {
   "cell_type": "markdown",
   "metadata": {},
   "source": [
    "### Interpolação vs convolução transposta\n",
    "\n",
    "Qual método utilizar para aumentar o tamanho de imagens?\n",
    "\n",
    "**Interpolação**\n",
    "\n",
    "Vantagens:\n",
    "* Não possui parâmetros adicionais para treinar;\n",
    "* A interpolação de vizinhos mais próximos é extremamente eficiente;\n",
    "* Podemos escolher exatamente o tamanho da saída;\n",
    "\n",
    "**Convolução transposta**\n",
    "\n",
    "Vantagens:\n",
    "* A rede pode aprender o melhor filtro possível para aumentar o tamanho das imagens da base;\n",
    "\n",
    "Desvantagens:\n",
    "* Em algumas tarefas, ela pode adicionar parâmetros desnecessários;\n",
    "* É preciso adicionar uma lógica complicada para garantir que o tamanho da imagem de saída seja igual ao tamanho da imagem de entrada (parâmetro output_padding);"
   ]
  }
 ],
 "metadata": {
  "kernelspec": {
   "display_name": "vc2024",
   "language": "python",
   "name": "python3"
  },
  "language_info": {
   "codemirror_mode": {
    "name": "ipython",
    "version": 3
   },
   "file_extension": ".py",
   "mimetype": "text/x-python",
   "name": "python",
   "nbconvert_exporter": "python",
   "pygments_lexer": "ipython3",
   "version": "3.12.2"
  }
 },
 "nbformat": 4,
 "nbformat_minor": 2
}
