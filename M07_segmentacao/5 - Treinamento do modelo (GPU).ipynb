{
 "cells": [
  {
   "cell_type": "markdown",
   "metadata": {},
   "source": [
    "# Segmentação de imagens\n",
    "\n",
    "Este notebook utiliza scripts contendo todos os conceitos vistos anteriormente:\n",
    "\n",
    "1. Definição de um loop de treinamento para imagens de segmentação no arquivo train.py. Veja o comentário no início do arquivo para entender as pequenas diferenças entre o treinamento de segmentação e de classificação;\n",
    "2. Definição do dataset de segmentação no arquivo dataset.py (utilizado dentro do script train.py)\n",
    "3. Definição do modelo EncoderDecoder dentro do arquivo models.py"
   ]
  },
  {
   "cell_type": "code",
   "execution_count": 1,
   "metadata": {},
   "outputs": [
    {
     "data": {
      "image/png": "[encoded data removed]",
      "text/plain": [
       "<Figure size 900x300 with 2 Axes>"
      ]
     },
     "metadata": {},
     "output_type": "display_data"
    }
   ],
   "source": [
    "import torch\n",
    "from torchvision.models import resnet18, ResNet18_Weights\n",
    "import train\n",
    "from models import EncoderDecoder\n",
    "\n",
    "params = {\n",
    "    'bs_train':32,\n",
    "    'bs_valid':8,\n",
    "    'num_epochs':10,\n",
    "    'lr':0.01,\n",
    "    'weight_decay':1e-3,\n",
    "    'resize_size':384,  \n",
    "    'seed':0\n",
    "}\n",
    "\n",
    "encoder = resnet18(weights=ResNet18_Weights.DEFAULT)\n",
    "model = EncoderDecoder(encoder, decoder_channels=64, num_classes=2)\n",
    "ds_train, ds_valid, logger = train.train(model, **params)"
   ]
  },
  {
   "cell_type": "code",
   "execution_count": 2,
   "metadata": {},
   "outputs": [
    {
     "data": {
      "text/plain": [
       "(9, 0.031060459092259407, 0.050960078835487366, 0.9527960419654846)"
      ]
     },
     "execution_count": 2,
     "metadata": {},
     "output_type": "execute_result"
    }
   ],
   "source": [
    "logger[-1]"
   ]
  },
  {
   "cell_type": "markdown",
   "metadata": {},
   "source": [
    "### Segmentação utilizando modelos do Pytorch\n",
    "\n",
    "O Pytorch possui modelos pré-treinados que podem ser utilizados"
   ]
  },
  {
   "cell_type": "code",
   "execution_count": 2,
   "metadata": {},
   "outputs": [],
   "source": [
    "import torch\n",
    "from torch import nn\n",
    "from torchvision.models.segmentation import deeplabv3_resnet50, DeepLabV3_ResNet50_Weights\n",
    "\n",
    "# Modelo de segmentação com encoder ResNet50 treinado no ImageNet \n",
    "# e encoder e decoder treinados no dataset COCO\n",
    "model = deeplabv3_resnet50(weights=DeepLabV3_ResNet50_Weights.DEFAULT)\n",
    "# Alteração do modelo para ter 2 canais como saída\n",
    "model.classifier[4] = nn.Conv2d(256, 2, 1)"
   ]
  },
  {
   "cell_type": "markdown",
   "metadata": {},
   "source": [
    "Um pequeno detalhe é que o modelo deeplab do Pytorch retorna um dicionário. O resultado do modelo pode ser acessado pela chave 'out'"
   ]
  },
  {
   "cell_type": "code",
   "execution_count": 3,
   "metadata": {},
   "outputs": [
    {
     "data": {
      "text/plain": [
       "torch.Size([8, 2, 224, 224])"
      ]
     },
     "execution_count": 3,
     "metadata": {},
     "output_type": "execute_result"
    }
   ],
   "source": [
    "x = torch.rand(8, 3, 224, 224)\n",
    "out = model(x)['out']\n",
    "out.shape"
   ]
  },
  {
   "cell_type": "markdown",
   "metadata": {},
   "source": [
    "Então no script de treinamento é preciso acessar o resultado utilizando essa chave, senão o cálculo da entropia cruzada dará problema. \n",
    "\n",
    "Feito isso, o modelo pode ser treinado assim como fizemos acima"
   ]
  },
  {
   "cell_type": "code",
   "execution_count": null,
   "metadata": {},
   "outputs": [],
   "source": [
    "params = {\n",
    "    'bs_train':32,\n",
    "    'bs_valid':8,\n",
    "    'num_epochs':10,\n",
    "    'lr':0.01,\n",
    "    'weight_decay':1e-3,\n",
    "    'resize_size':384,  \n",
    "    'seed':0\n",
    "}\n",
    "\n",
    "# Linha comentada para evitar execução:\n",
    "#ds_train, ds_valid, logger = train.train(model, **params)"
   ]
  }
 ],
 "metadata": {
  "kernelspec": {
   "display_name": "vc2024",
   "language": "python",
   "name": "python3"
  },
  "language_info": {
   "codemirror_mode": {
    "name": "ipython",
    "version": 3
   },
   "file_extension": ".py",
   "mimetype": "text/x-python",
   "name": "python",
   "nbconvert_exporter": "python",
   "pygments_lexer": "ipython3",
   "version": "3.12.2"
  }
 },
 "nbformat": 4,
 "nbformat_minor": 2
}
