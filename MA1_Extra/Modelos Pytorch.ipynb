{
 "cells": [
  {
   "cell_type": "code",
   "execution_count": 79,
   "metadata": {},
   "outputs": [
    {
     "data": {
      "text/html": [
       "<div>\n",
       "<style scoped>\n",
       "    .dataframe tbody tr th:only-of-type {\n",
       "        vertical-align: middle;\n",
       "    }\n",
       "\n",
       "    .dataframe tbody tr th {\n",
       "        vertical-align: top;\n",
       "    }\n",
       "\n",
       "    .dataframe thead th {\n",
       "        text-align: right;\n",
       "    }\n",
       "</style>\n",
       "<table border=\"1\" class=\"dataframe\">\n",
       "  <thead>\n",
       "    <tr style=\"text-align: right;\">\n",
       "      <th></th>\n",
       "      <th>Weight</th>\n",
       "      <th>Acc@1</th>\n",
       "      <th>Acc@5</th>\n",
       "      <th>Params</th>\n",
       "      <th>GFLOPS</th>\n",
       "      <th>Family</th>\n",
       "    </tr>\n",
       "  </thead>\n",
       "  <tbody>\n",
       "    <tr>\n",
       "      <th>0</th>\n",
       "      <td>AlexNet_Weights.IMAGENET1K_V1</td>\n",
       "      <td>56.522</td>\n",
       "      <td>79.066</td>\n",
       "      <td>61.1</td>\n",
       "      <td>0.71</td>\n",
       "      <td>AlexNet</td>\n",
       "    </tr>\n",
       "    <tr>\n",
       "      <th>1</th>\n",
       "      <td>ConvNeXt_Base_Weights.IMAGENET1K_V1</td>\n",
       "      <td>84.062</td>\n",
       "      <td>96.870</td>\n",
       "      <td>88.6</td>\n",
       "      <td>15.36</td>\n",
       "      <td>ConvNeXt</td>\n",
       "    </tr>\n",
       "    <tr>\n",
       "      <th>2</th>\n",
       "      <td>ConvNeXt_Large_Weights.IMAGENET1K_V1</td>\n",
       "      <td>84.414</td>\n",
       "      <td>96.976</td>\n",
       "      <td>197.8</td>\n",
       "      <td>34.36</td>\n",
       "      <td>ConvNeXt</td>\n",
       "    </tr>\n",
       "    <tr>\n",
       "      <th>3</th>\n",
       "      <td>ConvNeXt_Small_Weights.IMAGENET1K_V1</td>\n",
       "      <td>83.616</td>\n",
       "      <td>96.650</td>\n",
       "      <td>50.2</td>\n",
       "      <td>8.68</td>\n",
       "      <td>ConvNeXt</td>\n",
       "    </tr>\n",
       "    <tr>\n",
       "      <th>4</th>\n",
       "      <td>ConvNeXt_Tiny_Weights.IMAGENET1K_V1</td>\n",
       "      <td>82.520</td>\n",
       "      <td>96.146</td>\n",
       "      <td>28.6</td>\n",
       "      <td>4.46</td>\n",
       "      <td>ConvNeXt</td>\n",
       "    </tr>\n",
       "    <tr>\n",
       "      <th>...</th>\n",
       "      <td>...</td>\n",
       "      <td>...</td>\n",
       "      <td>...</td>\n",
       "      <td>...</td>\n",
       "      <td>...</td>\n",
       "      <td>...</td>\n",
       "    </tr>\n",
       "    <tr>\n",
       "      <th>110</th>\n",
       "      <td>ViT_L_32_Weights.IMAGENET1K_V1</td>\n",
       "      <td>76.972</td>\n",
       "      <td>93.070</td>\n",
       "      <td>306.5</td>\n",
       "      <td>15.38</td>\n",
       "      <td>ViT</td>\n",
       "    </tr>\n",
       "    <tr>\n",
       "      <th>111</th>\n",
       "      <td>Wide_ResNet101_2_Weights.IMAGENET1K_V1</td>\n",
       "      <td>78.848</td>\n",
       "      <td>94.284</td>\n",
       "      <td>126.9</td>\n",
       "      <td>22.75</td>\n",
       "      <td>Wide</td>\n",
       "    </tr>\n",
       "    <tr>\n",
       "      <th>112</th>\n",
       "      <td>Wide_ResNet101_2_Weights.IMAGENET1K_V2</td>\n",
       "      <td>82.510</td>\n",
       "      <td>96.020</td>\n",
       "      <td>126.9</td>\n",
       "      <td>22.75</td>\n",
       "      <td>Wide</td>\n",
       "    </tr>\n",
       "    <tr>\n",
       "      <th>113</th>\n",
       "      <td>Wide_ResNet50_2_Weights.IMAGENET1K_V1</td>\n",
       "      <td>78.468</td>\n",
       "      <td>94.086</td>\n",
       "      <td>68.9</td>\n",
       "      <td>11.40</td>\n",
       "      <td>Wide</td>\n",
       "    </tr>\n",
       "    <tr>\n",
       "      <th>114</th>\n",
       "      <td>Wide_ResNet50_2_Weights.IMAGENET1K_V2</td>\n",
       "      <td>81.602</td>\n",
       "      <td>95.758</td>\n",
       "      <td>68.9</td>\n",
       "      <td>11.40</td>\n",
       "      <td>Wide</td>\n",
       "    </tr>\n",
       "  </tbody>\n",
       "</table>\n",
       "<p>115 rows × 6 columns</p>\n",
       "</div>"
      ],
      "text/plain": [
       "                                     Weight   Acc@1   Acc@5  Params  GFLOPS  \\\n",
       "0             AlexNet_Weights.IMAGENET1K_V1  56.522  79.066    61.1    0.71   \n",
       "1       ConvNeXt_Base_Weights.IMAGENET1K_V1  84.062  96.870    88.6   15.36   \n",
       "2      ConvNeXt_Large_Weights.IMAGENET1K_V1  84.414  96.976   197.8   34.36   \n",
       "3      ConvNeXt_Small_Weights.IMAGENET1K_V1  83.616  96.650    50.2    8.68   \n",
       "4       ConvNeXt_Tiny_Weights.IMAGENET1K_V1  82.520  96.146    28.6    4.46   \n",
       "..                                      ...     ...     ...     ...     ...   \n",
       "110          ViT_L_32_Weights.IMAGENET1K_V1  76.972  93.070   306.5   15.38   \n",
       "111  Wide_ResNet101_2_Weights.IMAGENET1K_V1  78.848  94.284   126.9   22.75   \n",
       "112  Wide_ResNet101_2_Weights.IMAGENET1K_V2  82.510  96.020   126.9   22.75   \n",
       "113   Wide_ResNet50_2_Weights.IMAGENET1K_V1  78.468  94.086    68.9   11.40   \n",
       "114   Wide_ResNet50_2_Weights.IMAGENET1K_V2  81.602  95.758    68.9   11.40   \n",
       "\n",
       "       Family  \n",
       "0     AlexNet  \n",
       "1    ConvNeXt  \n",
       "2    ConvNeXt  \n",
       "3    ConvNeXt  \n",
       "4    ConvNeXt  \n",
       "..        ...  \n",
       "110       ViT  \n",
       "111      Wide  \n",
       "112      Wide  \n",
       "113      Wide  \n",
       "114      Wide  \n",
       "\n",
       "[115 rows x 6 columns]"
      ]
     },
     "execution_count": 79,
     "metadata": {},
     "output_type": "execute_result"
    }
   ],
   "source": [
    "import re\n",
    "import pandas as pd\n",
    "\n",
    "df = pd.read_csv('models.csv', skipinitialspace=True)\n",
    "df['Params'] = df['Params'].str.replace('M', '').astype(float)\n",
    "family = []\n",
    "for name in df['Weight']:\n",
    "    family.append(re.split(r'\\d|_', name)[0])\n",
    "df['Family'] = family\n",
    "df"
   ]
  },
  {
   "cell_type": "code",
   "execution_count": 81,
   "metadata": {},
   "outputs": [
    {
     "data": {
      "application/vnd.plotly.v1+json": {
       "config": {
        "plotlyServerURL": "https://plot.ly"
       },
       "data": [
        {
         "customdata": [
          [
           "AlexNet_Weights.IMAGENET1K_V1",
           0.71
          ]
         ],
         "hovertemplate": "Family=AlexNet<br>Params=%{x}<br>Acc@1=%{y}<br>Weight=%{customdata[0]}<br>GFLOPS=%{customdata[1]}<extra></extra>",
         "legendgroup": "AlexNet",
         "marker": {
          "color": "#636efa",
          "size": 4,
          "symbol": "circle"
         },
         "mode": "markers",
         "name": "AlexNet",
         "orientation": "v",
         "showlegend": true,
         "type": "scatter",
         "x": [
          61.1
         ],
         "xaxis": "x",
         "y": [
          56.522
         ],
         "yaxis": "y"
        },
        {
         "customdata": [
          [
           "ConvNeXt_Base_Weights.IMAGENET1K_V1",
           15.36
          ],
          [
           "ConvNeXt_Large_Weights.IMAGENET1K_V1",
           34.36
          ],
          [
           "ConvNeXt_Small_Weights.IMAGENET1K_V1",
           8.68
          ],
          [
           "ConvNeXt_Tiny_Weights.IMAGENET1K_V1",
           4.46
          ]
         ],
         "hovertemplate": "Family=ConvNeXt<br>Params=%{x}<br>Acc@1=%{y}<br>Weight=%{customdata[0]}<br>GFLOPS=%{customdata[1]}<extra></extra>",
         "legendgroup": "ConvNeXt",
         "marker": {
          "color": "#EF553B",
          "size": 4,
          "symbol": "circle"
         },
         "mode": "markers",
         "name": "ConvNeXt",
         "orientation": "v",
         "showlegend": true,
         "type": "scatter",
         "x": [
          88.6,
          197.8,
          50.2,
          28.6
         ],
         "xaxis": "x",
         "y": [
          84.062,
          84.414,
          83.616,
          82.52
         ],
         "yaxis": "y"
        },
        {
         "customdata": [
          [
           "DenseNet121_Weights.IMAGENET1K_V1",
           2.83
          ],
          [
           "DenseNet161_Weights.IMAGENET1K_V1",
           7.73
          ],
          [
           "DenseNet169_Weights.IMAGENET1K_V1",
           3.36
          ],
          [
           "DenseNet201_Weights.IMAGENET1K_V1",
           4.29
          ]
         ],
         "hovertemplate": "Family=DenseNet<br>Params=%{x}<br>Acc@1=%{y}<br>Weight=%{customdata[0]}<br>GFLOPS=%{customdata[1]}<extra></extra>",
         "legendgroup": "DenseNet",
         "marker": {
          "color": "#00cc96",
          "size": 4,
          "symbol": "circle"
         },
         "mode": "markers",
         "name": "DenseNet",
         "orientation": "v",
         "showlegend": true,
         "type": "scatter",
         "x": [
          8,
          28.7,
          14.1,
          20
         ],
         "xaxis": "x",
         "y": [
          74.434,
          77.138,
          75.6,
          76.896
         ],
         "yaxis": "y"
        },
        {
         "customdata": [
          [
           "EfficientNet_B0_Weights.IMAGENET1K_V1",
           0.39
          ],
          [
           "EfficientNet_B1_Weights.IMAGENET1K_V1",
           0.69
          ],
          [
           "EfficientNet_B1_Weights.IMAGENET1K_V2",
           0.69
          ],
          [
           "EfficientNet_B2_Weights.IMAGENET1K_V1",
           1.09
          ],
          [
           "EfficientNet_B3_Weights.IMAGENET1K_V1",
           1.83
          ],
          [
           "EfficientNet_B4_Weights.IMAGENET1K_V1",
           4.39
          ],
          [
           "EfficientNet_B5_Weights.IMAGENET1K_V1",
           10.27
          ],
          [
           "EfficientNet_B6_Weights.IMAGENET1K_V1",
           19.07
          ],
          [
           "EfficientNet_B7_Weights.IMAGENET1K_V1",
           37.75
          ],
          [
           "EfficientNet_V2_L_Weights.IMAGENET1K_V1",
           56.08
          ],
          [
           "EfficientNet_V2_M_Weights.IMAGENET1K_V1",
           24.58
          ],
          [
           "EfficientNet_V2_S_Weights.IMAGENET1K_V1",
           8.37
          ]
         ],
         "hovertemplate": "Family=EfficientNet<br>Params=%{x}<br>Acc@1=%{y}<br>Weight=%{customdata[0]}<br>GFLOPS=%{customdata[1]}<extra></extra>",
         "legendgroup": "EfficientNet",
         "marker": {
          "color": "#ab63fa",
          "size": 4,
          "symbol": "circle"
         },
         "mode": "markers",
         "name": "EfficientNet",
         "orientation": "v",
         "showlegend": true,
         "type": "scatter",
         "x": [
          5.3,
          7.8,
          7.8,
          9.1,
          12.2,
          19.3,
          30.4,
          43,
          66.3,
          118.5,
          54.1,
          21.5
         ],
         "xaxis": "x",
         "y": [
          77.692,
          78.642,
          79.838,
          80.608,
          82.008,
          83.384,
          83.444,
          84.008,
          84.122,
          85.808,
          85.112,
          84.228
         ],
         "yaxis": "y"
        },
        {
         "customdata": [
          [
           "GoogLeNet_Weights.IMAGENET1K_V1",
           1.5
          ]
         ],
         "hovertemplate": "Family=GoogLeNet<br>Params=%{x}<br>Acc@1=%{y}<br>Weight=%{customdata[0]}<br>GFLOPS=%{customdata[1]}<extra></extra>",
         "legendgroup": "GoogLeNet",
         "marker": {
          "color": "#FFA15A",
          "size": 4,
          "symbol": "circle"
         },
         "mode": "markers",
         "name": "GoogLeNet",
         "orientation": "v",
         "showlegend": true,
         "type": "scatter",
         "x": [
          6.6
         ],
         "xaxis": "x",
         "y": [
          69.778
         ],
         "yaxis": "y"
        },
        {
         "customdata": [
          [
           "Inception_V3_Weights.IMAGENET1K_V1",
           5.71
          ]
         ],
         "hovertemplate": "Family=Inception<br>Params=%{x}<br>Acc@1=%{y}<br>Weight=%{customdata[0]}<br>GFLOPS=%{customdata[1]}<extra></extra>",
         "legendgroup": "Inception",
         "marker": {
          "color": "#19d3f3",
          "size": 4,
          "symbol": "circle"
         },
         "mode": "markers",
         "name": "Inception",
         "orientation": "v",
         "showlegend": true,
         "type": "scatter",
         "x": [
          27.2
         ],
         "xaxis": "x",
         "y": [
          77.294
         ],
         "yaxis": "y"
        },
        {
         "customdata": [
          [
           "MNASNet0_5_Weights.IMAGENET1K_V1",
           0.1
          ],
          [
           "MNASNet0_75_Weights.IMAGENET1K_V1",
           0.21
          ],
          [
           "MNASNet1_0_Weights.IMAGENET1K_V1",
           0.31
          ],
          [
           "MNASNet1_3_Weights.IMAGENET1K_V1",
           0.53
          ]
         ],
         "hovertemplate": "Family=MNASNet<br>Params=%{x}<br>Acc@1=%{y}<br>Weight=%{customdata[0]}<br>GFLOPS=%{customdata[1]}<extra></extra>",
         "legendgroup": "MNASNet",
         "marker": {
          "color": "#FF6692",
          "size": 4,
          "symbol": "circle"
         },
         "mode": "markers",
         "name": "MNASNet",
         "orientation": "v",
         "showlegend": true,
         "type": "scatter",
         "x": [
          2.2,
          3.2,
          4.4,
          6.3
         ],
         "xaxis": "x",
         "y": [
          67.734,
          71.18,
          73.456,
          76.506
         ],
         "yaxis": "y"
        },
        {
         "customdata": [
          [
           "MaxVit_T_Weights.IMAGENET1K_V1",
           5.56
          ]
         ],
         "hovertemplate": "Family=MaxVit<br>Params=%{x}<br>Acc@1=%{y}<br>Weight=%{customdata[0]}<br>GFLOPS=%{customdata[1]}<extra></extra>",
         "legendgroup": "MaxVit",
         "marker": {
          "color": "#B6E880",
          "size": 4,
          "symbol": "circle"
         },
         "mode": "markers",
         "name": "MaxVit",
         "orientation": "v",
         "showlegend": true,
         "type": "scatter",
         "x": [
          30.9
         ],
         "xaxis": "x",
         "y": [
          83.7
         ],
         "yaxis": "y"
        },
        {
         "customdata": [
          [
           "MobileNet_V2_Weights.IMAGENET1K_V1",
           0.3
          ],
          [
           "MobileNet_V2_Weights.IMAGENET1K_V2",
           0.3
          ],
          [
           "MobileNet_V3_Large_Weights.IMAGENET1K_V1",
           0.22
          ],
          [
           "MobileNet_V3_Large_Weights.IMAGENET1K_V2",
           0.22
          ],
          [
           "MobileNet_V3_Small_Weights.IMAGENET1K_V1",
           0.06
          ]
         ],
         "hovertemplate": "Family=MobileNet<br>Params=%{x}<br>Acc@1=%{y}<br>Weight=%{customdata[0]}<br>GFLOPS=%{customdata[1]}<extra></extra>",
         "legendgroup": "MobileNet",
         "marker": {
          "color": "#FF97FF",
          "size": 4,
          "symbol": "circle"
         },
         "mode": "markers",
         "name": "MobileNet",
         "orientation": "v",
         "showlegend": true,
         "type": "scatter",
         "x": [
          3.5,
          3.5,
          5.5,
          5.5,
          2.5
         ],
         "xaxis": "x",
         "y": [
          71.878,
          72.154,
          74.042,
          75.274,
          67.668
         ],
         "yaxis": "y"
        },
        {
         "customdata": [
          [
           "RegNet_X_16GF_Weights.IMAGENET1K_V1",
           15.94
          ],
          [
           "RegNet_X_16GF_Weights.IMAGENET1K_V2",
           15.94
          ],
          [
           "RegNet_X_1_6GF_Weights.IMAGENET1K_V1",
           1.6
          ],
          [
           "RegNet_X_1_6GF_Weights.IMAGENET1K_V2",
           1.6
          ],
          [
           "RegNet_X_32GF_Weights.IMAGENET1K_V1",
           31.74
          ],
          [
           "RegNet_X_32GF_Weights.IMAGENET1K_V2",
           31.74
          ],
          [
           "RegNet_X_3_2GF_Weights.IMAGENET1K_V1",
           3.18
          ],
          [
           "RegNet_X_3_2GF_Weights.IMAGENET1K_V2",
           3.18
          ],
          [
           "RegNet_X_400MF_Weights.IMAGENET1K_V1",
           0.41
          ],
          [
           "RegNet_X_400MF_Weights.IMAGENET1K_V2",
           0.41
          ],
          [
           "RegNet_X_800MF_Weights.IMAGENET1K_V1",
           0.8
          ],
          [
           "RegNet_X_800MF_Weights.IMAGENET1K_V2",
           0.8
          ],
          [
           "RegNet_X_8GF_Weights.IMAGENET1K_V1",
           8
          ],
          [
           "RegNet_X_8GF_Weights.IMAGENET1K_V2",
           8
          ],
          [
           "RegNet_Y_128GF_Weights.IMAGENET1K_SWAG_E2E_V1",
           374.57
          ],
          [
           "RegNet_Y_128GF_Weights.IMAGENET1K_SWAG_LINEAR_V1",
           127.52
          ],
          [
           "RegNet_Y_16GF_Weights.IMAGENET1K_V1",
           15.91
          ],
          [
           "RegNet_Y_16GF_Weights.IMAGENET1K_V2",
           15.91
          ],
          [
           "RegNet_Y_16GF_Weights.IMAGENET1K_SWAG_E2E_V1",
           46.73
          ],
          [
           "RegNet_Y_16GF_Weights.IMAGENET1K_SWAG_LINEAR_V1",
           15.91
          ],
          [
           "RegNet_Y_1_6GF_Weights.IMAGENET1K_V1",
           1.61
          ],
          [
           "RegNet_Y_1_6GF_Weights.IMAGENET1K_V2",
           1.61
          ],
          [
           "RegNet_Y_32GF_Weights.IMAGENET1K_V1",
           32.28
          ],
          [
           "RegNet_Y_32GF_Weights.IMAGENET1K_V2",
           32.28
          ],
          [
           "RegNet_Y_32GF_Weights.IMAGENET1K_SWAG_E2E_V1",
           94.83
          ],
          [
           "RegNet_Y_32GF_Weights.IMAGENET1K_SWAG_LINEAR_V1",
           32.28
          ],
          [
           "RegNet_Y_3_2GF_Weights.IMAGENET1K_V1",
           3.18
          ],
          [
           "RegNet_Y_3_2GF_Weights.IMAGENET1K_V2",
           3.18
          ],
          [
           "RegNet_Y_400MF_Weights.IMAGENET1K_V1",
           0.4
          ],
          [
           "RegNet_Y_400MF_Weights.IMAGENET1K_V2",
           0.4
          ],
          [
           "RegNet_Y_800MF_Weights.IMAGENET1K_V1",
           0.83
          ],
          [
           "RegNet_Y_800MF_Weights.IMAGENET1K_V2",
           0.83
          ],
          [
           "RegNet_Y_8GF_Weights.IMAGENET1K_V1",
           8.47
          ],
          [
           "RegNet_Y_8GF_Weights.IMAGENET1K_V2",
           8.47
          ]
         ],
         "hovertemplate": "Family=RegNet<br>Params=%{x}<br>Acc@1=%{y}<br>Weight=%{customdata[0]}<br>GFLOPS=%{customdata[1]}<extra></extra>",
         "legendgroup": "RegNet",
         "marker": {
          "color": "#FECB52",
          "size": 4,
          "symbol": "circle"
         },
         "mode": "markers",
         "name": "RegNet",
         "orientation": "v",
         "showlegend": true,
         "type": "scatter",
         "x": [
          54.3,
          54.3,
          9.2,
          9.2,
          107.8,
          107.8,
          15.3,
          15.3,
          5.5,
          5.5,
          7.3,
          7.3,
          39.6,
          39.6,
          644.8,
          644.8,
          83.6,
          83.6,
          83.6,
          83.6,
          11.2,
          11.2,
          145,
          145,
          145,
          145,
          19.4,
          19.4,
          4.3,
          4.3,
          6.4,
          6.4,
          39.4,
          39.4
         ],
         "xaxis": "x",
         "y": [
          80.058,
          82.716,
          77.04,
          79.668,
          80.622,
          83.014,
          78.364,
          81.196,
          72.834,
          74.864,
          75.212,
          77.522,
          79.344,
          81.682,
          88.228,
          86.068,
          80.424,
          82.886,
          86.012,
          83.976,
          77.95,
          80.876,
          80.878,
          83.368,
          86.838,
          84.622,
          78.948,
          81.982,
          74.046,
          75.804,
          76.42,
          78.828,
          80.032,
          82.828
         ],
         "yaxis": "y"
        },
        {
         "customdata": [
          [
           "ResNeXt101_32X8D_Weights.IMAGENET1K_V1",
           16.41
          ],
          [
           "ResNeXt101_32X8D_Weights.IMAGENET1K_V2",
           16.41
          ],
          [
           "ResNeXt101_64X4D_Weights.IMAGENET1K_V1",
           15.46
          ],
          [
           "ResNeXt50_32X4D_Weights.IMAGENET1K_V1",
           4.23
          ],
          [
           "ResNeXt50_32X4D_Weights.IMAGENET1K_V2",
           4.23
          ]
         ],
         "hovertemplate": "Family=ResNeXt<br>Params=%{x}<br>Acc@1=%{y}<br>Weight=%{customdata[0]}<br>GFLOPS=%{customdata[1]}<extra></extra>",
         "legendgroup": "ResNeXt",
         "marker": {
          "color": "#636efa",
          "size": 4,
          "symbol": "circle"
         },
         "mode": "markers",
         "name": "ResNeXt",
         "orientation": "v",
         "showlegend": true,
         "type": "scatter",
         "x": [
          88.8,
          88.8,
          83.5,
          25,
          25
         ],
         "xaxis": "x",
         "y": [
          79.312,
          82.834,
          83.246,
          77.618,
          81.198
         ],
         "yaxis": "y"
        },
        {
         "customdata": [
          [
           "ResNet101_Weights.IMAGENET1K_V1",
           7.8
          ],
          [
           "ResNet101_Weights.IMAGENET1K_V2",
           7.8
          ],
          [
           "ResNet152_Weights.IMAGENET1K_V1",
           11.51
          ],
          [
           "ResNet152_Weights.IMAGENET1K_V2",
           11.51
          ],
          [
           "ResNet18_Weights.IMAGENET1K_V1",
           1.81
          ],
          [
           "ResNet34_Weights.IMAGENET1K_V1",
           3.66
          ],
          [
           "ResNet50_Weights.IMAGENET1K_V1",
           4.09
          ],
          [
           "ResNet50_Weights.IMAGENET1K_V2",
           4.09
          ]
         ],
         "hovertemplate": "Family=ResNet<br>Params=%{x}<br>Acc@1=%{y}<br>Weight=%{customdata[0]}<br>GFLOPS=%{customdata[1]}<extra></extra>",
         "legendgroup": "ResNet",
         "marker": {
          "color": "#EF553B",
          "size": 4,
          "symbol": "circle"
         },
         "mode": "markers",
         "name": "ResNet",
         "orientation": "v",
         "showlegend": true,
         "type": "scatter",
         "x": [
          44.5,
          44.5,
          60.2,
          60.2,
          11.7,
          21.8,
          25.6,
          25.6
         ],
         "xaxis": "x",
         "y": [
          77.374,
          81.886,
          78.312,
          82.284,
          69.758,
          73.314,
          76.13,
          80.858
         ],
         "yaxis": "y"
        },
        {
         "customdata": [
          [
           "ShuffleNet_V2_X0_5_Weights.IMAGENET1K_V1",
           0.04
          ],
          [
           "ShuffleNet_V2_X1_0_Weights.IMAGENET1K_V1",
           0.14
          ],
          [
           "ShuffleNet_V2_X1_5_Weights.IMAGENET1K_V1",
           0.3
          ],
          [
           "ShuffleNet_V2_X2_0_Weights.IMAGENET1K_V1",
           0.58
          ]
         ],
         "hovertemplate": "Family=ShuffleNet<br>Params=%{x}<br>Acc@1=%{y}<br>Weight=%{customdata[0]}<br>GFLOPS=%{customdata[1]}<extra></extra>",
         "legendgroup": "ShuffleNet",
         "marker": {
          "color": "#00cc96",
          "size": 4,
          "symbol": "circle"
         },
         "mode": "markers",
         "name": "ShuffleNet",
         "orientation": "v",
         "showlegend": true,
         "type": "scatter",
         "x": [
          1.4,
          2.3,
          3.5,
          7.4
         ],
         "xaxis": "x",
         "y": [
          60.552,
          69.362,
          72.996,
          76.23
         ],
         "yaxis": "y"
        },
        {
         "customdata": [
          [
           "SqueezeNet1_0_Weights.IMAGENET1K_V1",
           0.82
          ],
          [
           "SqueezeNet1_1_Weights.IMAGENET1K_V1",
           0.35
          ]
         ],
         "hovertemplate": "Family=SqueezeNet<br>Params=%{x}<br>Acc@1=%{y}<br>Weight=%{customdata[0]}<br>GFLOPS=%{customdata[1]}<extra></extra>",
         "legendgroup": "SqueezeNet",
         "marker": {
          "color": "#ab63fa",
          "size": 4,
          "symbol": "circle"
         },
         "mode": "markers",
         "name": "SqueezeNet",
         "orientation": "v",
         "showlegend": true,
         "type": "scatter",
         "x": [
          1.2,
          1.2
         ],
         "xaxis": "x",
         "y": [
          58.092,
          58.178
         ],
         "yaxis": "y"
        },
        {
         "customdata": [
          [
           "Swin_B_Weights.IMAGENET1K_V1",
           15.43
          ],
          [
           "Swin_S_Weights.IMAGENET1K_V1",
           8.74
          ],
          [
           "Swin_T_Weights.IMAGENET1K_V1",
           4.49
          ],
          [
           "Swin_V2_B_Weights.IMAGENET1K_V1",
           20.32
          ],
          [
           "Swin_V2_S_Weights.IMAGENET1K_V1",
           11.55
          ],
          [
           "Swin_V2_T_Weights.IMAGENET1K_V1",
           5.94
          ]
         ],
         "hovertemplate": "Family=Swin<br>Params=%{x}<br>Acc@1=%{y}<br>Weight=%{customdata[0]}<br>GFLOPS=%{customdata[1]}<extra></extra>",
         "legendgroup": "Swin",
         "marker": {
          "color": "#FFA15A",
          "size": 4,
          "symbol": "circle"
         },
         "mode": "markers",
         "name": "Swin",
         "orientation": "v",
         "showlegend": true,
         "type": "scatter",
         "x": [
          87.8,
          49.6,
          28.3,
          87.9,
          49.7,
          28.4
         ],
         "xaxis": "x",
         "y": [
          83.582,
          83.196,
          81.474,
          84.112,
          83.712,
          82.072
         ],
         "yaxis": "y"
        },
        {
         "customdata": [
          [
           "VGG11_BN_Weights.IMAGENET1K_V1",
           7.61
          ],
          [
           "VGG11_Weights.IMAGENET1K_V1",
           7.61
          ],
          [
           "VGG13_BN_Weights.IMAGENET1K_V1",
           11.31
          ],
          [
           "VGG13_Weights.IMAGENET1K_V1",
           11.31
          ],
          [
           "VGG16_BN_Weights.IMAGENET1K_V1",
           15.47
          ],
          [
           "VGG16_Weights.IMAGENET1K_V1",
           15.47
          ],
          [
           "VGG16_Weights.IMAGENET1K_FEATURES",
           15.47
          ],
          [
           "VGG19_BN_Weights.IMAGENET1K_V1",
           19.63
          ],
          [
           "VGG19_Weights.IMAGENET1K_V1",
           19.63
          ]
         ],
         "hovertemplate": "Family=VGG<br>Params=%{x}<br>Acc@1=%{y}<br>Weight=%{customdata[0]}<br>GFLOPS=%{customdata[1]}<extra></extra>",
         "legendgroup": "VGG",
         "marker": {
          "color": "#19d3f3",
          "size": 4,
          "symbol": "circle"
         },
         "mode": "markers",
         "name": "VGG",
         "orientation": "v",
         "showlegend": true,
         "type": "scatter",
         "x": [
          132.9,
          132.9,
          133.1,
          133,
          138.4,
          138.4,
          138.4,
          143.7,
          143.7
         ],
         "xaxis": "x",
         "y": [
          70.37,
          69.02,
          71.586,
          69.928,
          73.36,
          71.592,
          null,
          74.218,
          72.376
         ],
         "yaxis": "y"
        },
        {
         "customdata": [
          [
           "ViT_B_16_Weights.IMAGENET1K_V1",
           17.56
          ],
          [
           "ViT_B_16_Weights.IMAGENET1K_SWAG_E2E_V1",
           55.48
          ],
          [
           "ViT_B_16_Weights.IMAGENET1K_SWAG_LINEAR_V1",
           17.56
          ],
          [
           "ViT_B_32_Weights.IMAGENET1K_V1",
           4.41
          ],
          [
           "ViT_H_14_Weights.IMAGENET1K_SWAG_E2E_V1",
           1016.72
          ],
          [
           "ViT_H_14_Weights.IMAGENET1K_SWAG_LINEAR_V1",
           167.29
          ],
          [
           "ViT_L_16_Weights.IMAGENET1K_V1",
           61.55
          ],
          [
           "ViT_L_16_Weights.IMAGENET1K_SWAG_E2E_V1",
           361.99
          ],
          [
           "ViT_L_16_Weights.IMAGENET1K_SWAG_LINEAR_V1",
           61.55
          ],
          [
           "ViT_L_32_Weights.IMAGENET1K_V1",
           15.38
          ]
         ],
         "hovertemplate": "Family=ViT<br>Params=%{x}<br>Acc@1=%{y}<br>Weight=%{customdata[0]}<br>GFLOPS=%{customdata[1]}<extra></extra>",
         "legendgroup": "ViT",
         "marker": {
          "color": "#FF6692",
          "size": 4,
          "symbol": "circle"
         },
         "mode": "markers",
         "name": "ViT",
         "orientation": "v",
         "showlegend": true,
         "type": "scatter",
         "x": [
          86.6,
          86.9,
          86.6,
          88.2,
          633.5,
          632,
          304.3,
          305.2,
          304.3,
          306.5
         ],
         "xaxis": "x",
         "y": [
          81.072,
          85.304,
          81.886,
          75.912,
          88.552,
          85.708,
          79.662,
          88.064,
          85.146,
          76.972
         ],
         "yaxis": "y"
        },
        {
         "customdata": [
          [
           "Wide_ResNet101_2_Weights.IMAGENET1K_V1",
           22.75
          ],
          [
           "Wide_ResNet101_2_Weights.IMAGENET1K_V2",
           22.75
          ],
          [
           "Wide_ResNet50_2_Weights.IMAGENET1K_V1",
           11.4
          ],
          [
           "Wide_ResNet50_2_Weights.IMAGENET1K_V2",
           11.4
          ]
         ],
         "hovertemplate": "Family=Wide<br>Params=%{x}<br>Acc@1=%{y}<br>Weight=%{customdata[0]}<br>GFLOPS=%{customdata[1]}<extra></extra>",
         "legendgroup": "Wide",
         "marker": {
          "color": "#B6E880",
          "size": 4,
          "symbol": "circle"
         },
         "mode": "markers",
         "name": "Wide",
         "orientation": "v",
         "showlegend": true,
         "type": "scatter",
         "x": [
          126.9,
          126.9,
          68.9,
          68.9
         ],
         "xaxis": "x",
         "y": [
          78.848,
          82.51,
          78.468,
          81.602
         ],
         "yaxis": "y"
        }
       ],
       "layout": {
        "legend": {
         "title": {
          "text": "Family"
         },
         "tracegroupgap": 0
        },
        "margin": {
         "t": 60
        },
        "template": {
         "data": {
          "bar": [
           {
            "error_x": {
             "color": "#2a3f5f"
            },
            "error_y": {
             "color": "#2a3f5f"
            },
            "marker": {
             "line": {
              "color": "#E5ECF6",
              "width": 0.5
             },
             "pattern": {
              "fillmode": "overlay",
              "size": 10,
              "solidity": 0.2
             }
            },
            "type": "bar"
           }
          ],
          "barpolar": [
           {
            "marker": {
             "line": {
              "color": "#E5ECF6",
              "width": 0.5
             },
             "pattern": {
              "fillmode": "overlay",
              "size": 10,
              "solidity": 0.2
             }
            },
            "type": "barpolar"
           }
          ],
          "carpet": [
           {
            "aaxis": {
             "endlinecolor": "#2a3f5f",
             "gridcolor": "white",
             "linecolor": "white",
             "minorgridcolor": "white",
             "startlinecolor": "#2a3f5f"
            },
            "baxis": {
             "endlinecolor": "#2a3f5f",
             "gridcolor": "white",
             "linecolor": "white",
             "minorgridcolor": "white",
             "startlinecolor": "#2a3f5f"
            },
            "type": "carpet"
           }
          ],
          "choropleth": [
           {
            "colorbar": {
             "outlinewidth": 0,
             "ticks": ""
            },
            "type": "choropleth"
           }
          ],
          "contour": [
           {
            "colorbar": {
             "outlinewidth": 0,
             "ticks": ""
            },
            "colorscale": [
             [
              0,
              "#0d0887"
             ],
             [
              0.1111111111111111,
              "#46039f"
             ],
             [
              0.2222222222222222,
              "#7201a8"
             ],
             [
              0.3333333333333333,
              "#9c179e"
             ],
             [
              0.4444444444444444,
              "#bd3786"
             ],
             [
              0.5555555555555556,
              "#d8576b"
             ],
             [
              0.6666666666666666,
              "#ed7953"
             ],
             [
              0.7777777777777778,
              "#fb9f3a"
             ],
             [
              0.8888888888888888,
              "#fdca26"
             ],
             [
              1,
              "#f0f921"
             ]
            ],
            "type": "contour"
           }
          ],
          "contourcarpet": [
           {
            "colorbar": {
             "outlinewidth": 0,
             "ticks": ""
            },
            "type": "contourcarpet"
           }
          ],
          "heatmap": [
           {
            "colorbar": {
             "outlinewidth": 0,
             "ticks": ""
            },
            "colorscale": [
             [
              0,
              "#0d0887"
             ],
             [
              0.1111111111111111,
              "#46039f"
             ],
             [
              0.2222222222222222,
              "#7201a8"
             ],
             [
              0.3333333333333333,
              "#9c179e"
             ],
             [
              0.4444444444444444,
              "#bd3786"
             ],
             [
              0.5555555555555556,
              "#d8576b"
             ],
             [
              0.6666666666666666,
              "#ed7953"
             ],
             [
              0.7777777777777778,
              "#fb9f3a"
             ],
             [
              0.8888888888888888,
              "#fdca26"
             ],
             [
              1,
              "#f0f921"
             ]
            ],
            "type": "heatmap"
           }
          ],
          "heatmapgl": [
           {
            "colorbar": {
             "outlinewidth": 0,
             "ticks": ""
            },
            "colorscale": [
             [
              0,
              "#0d0887"
             ],
             [
              0.1111111111111111,
              "#46039f"
             ],
             [
              0.2222222222222222,
              "#7201a8"
             ],
             [
              0.3333333333333333,
              "#9c179e"
             ],
             [
              0.4444444444444444,
              "#bd3786"
             ],
             [
              0.5555555555555556,
              "#d8576b"
             ],
             [
              0.6666666666666666,
              "#ed7953"
             ],
             [
              0.7777777777777778,
              "#fb9f3a"
             ],
             [
              0.8888888888888888,
              "#fdca26"
             ],
             [
              1,
              "#f0f921"
             ]
            ],
            "type": "heatmapgl"
           }
          ],
          "histogram": [
           {
            "marker": {
             "pattern": {
              "fillmode": "overlay",
              "size": 10,
              "solidity": 0.2
             }
            },
            "type": "histogram"
           }
          ],
          "histogram2d": [
           {
            "colorbar": {
             "outlinewidth": 0,
             "ticks": ""
            },
            "colorscale": [
             [
              0,
              "#0d0887"
             ],
             [
              0.1111111111111111,
              "#46039f"
             ],
             [
              0.2222222222222222,
              "#7201a8"
             ],
             [
              0.3333333333333333,
              "#9c179e"
             ],
             [
              0.4444444444444444,
              "#bd3786"
             ],
             [
              0.5555555555555556,
              "#d8576b"
             ],
             [
              0.6666666666666666,
              "#ed7953"
             ],
             [
              0.7777777777777778,
              "#fb9f3a"
             ],
             [
              0.8888888888888888,
              "#fdca26"
             ],
             [
              1,
              "#f0f921"
             ]
            ],
            "type": "histogram2d"
           }
          ],
          "histogram2dcontour": [
           {
            "colorbar": {
             "outlinewidth": 0,
             "ticks": ""
            },
            "colorscale": [
             [
              0,
              "#0d0887"
             ],
             [
              0.1111111111111111,
              "#46039f"
             ],
             [
              0.2222222222222222,
              "#7201a8"
             ],
             [
              0.3333333333333333,
              "#9c179e"
             ],
             [
              0.4444444444444444,
              "#bd3786"
             ],
             [
              0.5555555555555556,
              "#d8576b"
             ],
             [
              0.6666666666666666,
              "#ed7953"
             ],
             [
              0.7777777777777778,
              "#fb9f3a"
             ],
             [
              0.8888888888888888,
              "#fdca26"
             ],
             [
              1,
              "#f0f921"
             ]
            ],
            "type": "histogram2dcontour"
           }
          ],
          "mesh3d": [
           {
            "colorbar": {
             "outlinewidth": 0,
             "ticks": ""
            },
            "type": "mesh3d"
           }
          ],
          "parcoords": [
           {
            "line": {
             "colorbar": {
              "outlinewidth": 0,
              "ticks": ""
             }
            },
            "type": "parcoords"
           }
          ],
          "pie": [
           {
            "automargin": true,
            "type": "pie"
           }
          ],
          "scatter": [
           {
            "fillpattern": {
             "fillmode": "overlay",
             "size": 10,
             "solidity": 0.2
            },
            "type": "scatter"
           }
          ],
          "scatter3d": [
           {
            "line": {
             "colorbar": {
              "outlinewidth": 0,
              "ticks": ""
             }
            },
            "marker": {
             "colorbar": {
              "outlinewidth": 0,
              "ticks": ""
             }
            },
            "type": "scatter3d"
           }
          ],
          "scattercarpet": [
           {
            "marker": {
             "colorbar": {
              "outlinewidth": 0,
              "ticks": ""
             }
            },
            "type": "scattercarpet"
           }
          ],
          "scattergeo": [
           {
            "marker": {
             "colorbar": {
              "outlinewidth": 0,
              "ticks": ""
             }
            },
            "type": "scattergeo"
           }
          ],
          "scattergl": [
           {
            "marker": {
             "colorbar": {
              "outlinewidth": 0,
              "ticks": ""
             }
            },
            "type": "scattergl"
           }
          ],
          "scattermapbox": [
           {
            "marker": {
             "colorbar": {
              "outlinewidth": 0,
              "ticks": ""
             }
            },
            "type": "scattermapbox"
           }
          ],
          "scatterpolar": [
           {
            "marker": {
             "colorbar": {
              "outlinewidth": 0,
              "ticks": ""
             }
            },
            "type": "scatterpolar"
           }
          ],
          "scatterpolargl": [
           {
            "marker": {
             "colorbar": {
              "outlinewidth": 0,
              "ticks": ""
             }
            },
            "type": "scatterpolargl"
           }
          ],
          "scatterternary": [
           {
            "marker": {
             "colorbar": {
              "outlinewidth": 0,
              "ticks": ""
             }
            },
            "type": "scatterternary"
           }
          ],
          "surface": [
           {
            "colorbar": {
             "outlinewidth": 0,
             "ticks": ""
            },
            "colorscale": [
             [
              0,
              "#0d0887"
             ],
             [
              0.1111111111111111,
              "#46039f"
             ],
             [
              0.2222222222222222,
              "#7201a8"
             ],
             [
              0.3333333333333333,
              "#9c179e"
             ],
             [
              0.4444444444444444,
              "#bd3786"
             ],
             [
              0.5555555555555556,
              "#d8576b"
             ],
             [
              0.6666666666666666,
              "#ed7953"
             ],
             [
              0.7777777777777778,
              "#fb9f3a"
             ],
             [
              0.8888888888888888,
              "#fdca26"
             ],
             [
              1,
              "#f0f921"
             ]
            ],
            "type": "surface"
           }
          ],
          "table": [
           {
            "cells": {
             "fill": {
              "color": "#EBF0F8"
             },
             "line": {
              "color": "white"
             }
            },
            "header": {
             "fill": {
              "color": "#C8D4E3"
             },
             "line": {
              "color": "white"
             }
            },
            "type": "table"
           }
          ]
         },
         "layout": {
          "annotationdefaults": {
           "arrowcolor": "#2a3f5f",
           "arrowhead": 0,
           "arrowwidth": 1
          },
          "autotypenumbers": "strict",
          "coloraxis": {
           "colorbar": {
            "outlinewidth": 0,
            "ticks": ""
           }
          },
          "colorscale": {
           "diverging": [
            [
             0,
             "#8e0152"
            ],
            [
             0.1,
             "#c51b7d"
            ],
            [
             0.2,
             "#de77ae"
            ],
            [
             0.3,
             "#f1b6da"
            ],
            [
             0.4,
             "#fde0ef"
            ],
            [
             0.5,
             "#f7f7f7"
            ],
            [
             0.6,
             "#e6f5d0"
            ],
            [
             0.7,
             "#b8e186"
            ],
            [
             0.8,
             "#7fbc41"
            ],
            [
             0.9,
             "#4d9221"
            ],
            [
             1,
             "#276419"
            ]
           ],
           "sequential": [
            [
             0,
             "#0d0887"
            ],
            [
             0.1111111111111111,
             "#46039f"
            ],
            [
             0.2222222222222222,
             "#7201a8"
            ],
            [
             0.3333333333333333,
             "#9c179e"
            ],
            [
             0.4444444444444444,
             "#bd3786"
            ],
            [
             0.5555555555555556,
             "#d8576b"
            ],
            [
             0.6666666666666666,
             "#ed7953"
            ],
            [
             0.7777777777777778,
             "#fb9f3a"
            ],
            [
             0.8888888888888888,
             "#fdca26"
            ],
            [
             1,
             "#f0f921"
            ]
           ],
           "sequentialminus": [
            [
             0,
             "#0d0887"
            ],
            [
             0.1111111111111111,
             "#46039f"
            ],
            [
             0.2222222222222222,
             "#7201a8"
            ],
            [
             0.3333333333333333,
             "#9c179e"
            ],
            [
             0.4444444444444444,
             "#bd3786"
            ],
            [
             0.5555555555555556,
             "#d8576b"
            ],
            [
             0.6666666666666666,
             "#ed7953"
            ],
            [
             0.7777777777777778,
             "#fb9f3a"
            ],
            [
             0.8888888888888888,
             "#fdca26"
            ],
            [
             1,
             "#f0f921"
            ]
           ]
          },
          "colorway": [
           "#636efa",
           "#EF553B",
           "#00cc96",
           "#ab63fa",
           "#FFA15A",
           "#19d3f3",
           "#FF6692",
           "#B6E880",
           "#FF97FF",
           "#FECB52"
          ],
          "font": {
           "color": "#2a3f5f"
          },
          "geo": {
           "bgcolor": "white",
           "lakecolor": "white",
           "landcolor": "#E5ECF6",
           "showlakes": true,
           "showland": true,
           "subunitcolor": "white"
          },
          "hoverlabel": {
           "align": "left"
          },
          "hovermode": "closest",
          "mapbox": {
           "style": "light"
          },
          "paper_bgcolor": "white",
          "plot_bgcolor": "#E5ECF6",
          "polar": {
           "angularaxis": {
            "gridcolor": "white",
            "linecolor": "white",
            "ticks": ""
           },
           "bgcolor": "#E5ECF6",
           "radialaxis": {
            "gridcolor": "white",
            "linecolor": "white",
            "ticks": ""
           }
          },
          "scene": {
           "xaxis": {
            "backgroundcolor": "#E5ECF6",
            "gridcolor": "white",
            "gridwidth": 2,
            "linecolor": "white",
            "showbackground": true,
            "ticks": "",
            "zerolinecolor": "white"
           },
           "yaxis": {
            "backgroundcolor": "#E5ECF6",
            "gridcolor": "white",
            "gridwidth": 2,
            "linecolor": "white",
            "showbackground": true,
            "ticks": "",
            "zerolinecolor": "white"
           },
           "zaxis": {
            "backgroundcolor": "#E5ECF6",
            "gridcolor": "white",
            "gridwidth": 2,
            "linecolor": "white",
            "showbackground": true,
            "ticks": "",
            "zerolinecolor": "white"
           }
          },
          "shapedefaults": {
           "line": {
            "color": "#2a3f5f"
           }
          },
          "ternary": {
           "aaxis": {
            "gridcolor": "white",
            "linecolor": "white",
            "ticks": ""
           },
           "baxis": {
            "gridcolor": "white",
            "linecolor": "white",
            "ticks": ""
           },
           "bgcolor": "#E5ECF6",
           "caxis": {
            "gridcolor": "white",
            "linecolor": "white",
            "ticks": ""
           }
          },
          "title": {
           "x": 0.05
          },
          "xaxis": {
           "automargin": true,
           "gridcolor": "white",
           "linecolor": "white",
           "ticks": "",
           "title": {
            "standoff": 15
           },
           "zerolinecolor": "white",
           "zerolinewidth": 2
          },
          "yaxis": {
           "automargin": true,
           "gridcolor": "white",
           "linecolor": "white",
           "ticks": "",
           "title": {
            "standoff": 15
           },
           "zerolinecolor": "white",
           "zerolinewidth": 2
          }
         }
        },
        "xaxis": {
         "anchor": "y",
         "domain": [
          0,
          1
         ],
         "title": {
          "text": "Params"
         },
         "type": "log"
        },
        "yaxis": {
         "anchor": "x",
         "domain": [
          0,
          1
         ],
         "title": {
          "text": "Acc@1"
         }
        }
       }
      }
     },
     "metadata": {},
     "output_type": "display_data"
    },
    {
     "data": {
      "application/vnd.plotly.v1+json": {
       "config": {
        "plotlyServerURL": "https://plot.ly"
       },
       "data": [
        {
         "customdata": [
          [
           "AlexNet_Weights.IMAGENET1K_V1",
           61.1
          ]
         ],
         "hovertemplate": "Family=AlexNet<br>GFLOPS=%{x}<br>Acc@1=%{y}<br>Weight=%{customdata[0]}<br>Params=%{customdata[1]}<extra></extra>",
         "legendgroup": "AlexNet",
         "marker": {
          "color": "#636efa",
          "size": 4,
          "symbol": "circle"
         },
         "mode": "markers",
         "name": "AlexNet",
         "orientation": "v",
         "showlegend": true,
         "type": "scatter",
         "x": [
          0.71
         ],
         "xaxis": "x",
         "y": [
          56.522
         ],
         "yaxis": "y"
        },
        {
         "customdata": [
          [
           "ConvNeXt_Base_Weights.IMAGENET1K_V1",
           88.6
          ],
          [
           "ConvNeXt_Large_Weights.IMAGENET1K_V1",
           197.8
          ],
          [
           "ConvNeXt_Small_Weights.IMAGENET1K_V1",
           50.2
          ],
          [
           "ConvNeXt_Tiny_Weights.IMAGENET1K_V1",
           28.6
          ]
         ],
         "hovertemplate": "Family=ConvNeXt<br>GFLOPS=%{x}<br>Acc@1=%{y}<br>Weight=%{customdata[0]}<br>Params=%{customdata[1]}<extra></extra>",
         "legendgroup": "ConvNeXt",
         "marker": {
          "color": "#EF553B",
          "size": 4,
          "symbol": "circle"
         },
         "mode": "markers",
         "name": "ConvNeXt",
         "orientation": "v",
         "showlegend": true,
         "type": "scatter",
         "x": [
          15.36,
          34.36,
          8.68,
          4.46
         ],
         "xaxis": "x",
         "y": [
          84.062,
          84.414,
          83.616,
          82.52
         ],
         "yaxis": "y"
        },
        {
         "customdata": [
          [
           "DenseNet121_Weights.IMAGENET1K_V1",
           8
          ],
          [
           "DenseNet161_Weights.IMAGENET1K_V1",
           28.7
          ],
          [
           "DenseNet169_Weights.IMAGENET1K_V1",
           14.1
          ],
          [
           "DenseNet201_Weights.IMAGENET1K_V1",
           20
          ]
         ],
         "hovertemplate": "Family=DenseNet<br>GFLOPS=%{x}<br>Acc@1=%{y}<br>Weight=%{customdata[0]}<br>Params=%{customdata[1]}<extra></extra>",
         "legendgroup": "DenseNet",
         "marker": {
          "color": "#00cc96",
          "size": 4,
          "symbol": "circle"
         },
         "mode": "markers",
         "name": "DenseNet",
         "orientation": "v",
         "showlegend": true,
         "type": "scatter",
         "x": [
          2.83,
          7.73,
          3.36,
          4.29
         ],
         "xaxis": "x",
         "y": [
          74.434,
          77.138,
          75.6,
          76.896
         ],
         "yaxis": "y"
        },
        {
         "customdata": [
          [
           "EfficientNet_B0_Weights.IMAGENET1K_V1",
           5.3
          ],
          [
           "EfficientNet_B1_Weights.IMAGENET1K_V1",
           7.8
          ],
          [
           "EfficientNet_B1_Weights.IMAGENET1K_V2",
           7.8
          ],
          [
           "EfficientNet_B2_Weights.IMAGENET1K_V1",
           9.1
          ],
          [
           "EfficientNet_B3_Weights.IMAGENET1K_V1",
           12.2
          ],
          [
           "EfficientNet_B4_Weights.IMAGENET1K_V1",
           19.3
          ],
          [
           "EfficientNet_B5_Weights.IMAGENET1K_V1",
           30.4
          ],
          [
           "EfficientNet_B6_Weights.IMAGENET1K_V1",
           43
          ],
          [
           "EfficientNet_B7_Weights.IMAGENET1K_V1",
           66.3
          ],
          [
           "EfficientNet_V2_L_Weights.IMAGENET1K_V1",
           118.5
          ],
          [
           "EfficientNet_V2_M_Weights.IMAGENET1K_V1",
           54.1
          ],
          [
           "EfficientNet_V2_S_Weights.IMAGENET1K_V1",
           21.5
          ]
         ],
         "hovertemplate": "Family=EfficientNet<br>GFLOPS=%{x}<br>Acc@1=%{y}<br>Weight=%{customdata[0]}<br>Params=%{customdata[1]}<extra></extra>",
         "legendgroup": "EfficientNet",
         "marker": {
          "color": "#ab63fa",
          "size": 4,
          "symbol": "circle"
         },
         "mode": "markers",
         "name": "EfficientNet",
         "orientation": "v",
         "showlegend": true,
         "type": "scatter",
         "x": [
          0.39,
          0.69,
          0.69,
          1.09,
          1.83,
          4.39,
          10.27,
          19.07,
          37.75,
          56.08,
          24.58,
          8.37
         ],
         "xaxis": "x",
         "y": [
          77.692,
          78.642,
          79.838,
          80.608,
          82.008,
          83.384,
          83.444,
          84.008,
          84.122,
          85.808,
          85.112,
          84.228
         ],
         "yaxis": "y"
        },
        {
         "customdata": [
          [
           "GoogLeNet_Weights.IMAGENET1K_V1",
           6.6
          ]
         ],
         "hovertemplate": "Family=GoogLeNet<br>GFLOPS=%{x}<br>Acc@1=%{y}<br>Weight=%{customdata[0]}<br>Params=%{customdata[1]}<extra></extra>",
         "legendgroup": "GoogLeNet",
         "marker": {
          "color": "#FFA15A",
          "size": 4,
          "symbol": "circle"
         },
         "mode": "markers",
         "name": "GoogLeNet",
         "orientation": "v",
         "showlegend": true,
         "type": "scatter",
         "x": [
          1.5
         ],
         "xaxis": "x",
         "y": [
          69.778
         ],
         "yaxis": "y"
        },
        {
         "customdata": [
          [
           "Inception_V3_Weights.IMAGENET1K_V1",
           27.2
          ]
         ],
         "hovertemplate": "Family=Inception<br>GFLOPS=%{x}<br>Acc@1=%{y}<br>Weight=%{customdata[0]}<br>Params=%{customdata[1]}<extra></extra>",
         "legendgroup": "Inception",
         "marker": {
          "color": "#19d3f3",
          "size": 4,
          "symbol": "circle"
         },
         "mode": "markers",
         "name": "Inception",
         "orientation": "v",
         "showlegend": true,
         "type": "scatter",
         "x": [
          5.71
         ],
         "xaxis": "x",
         "y": [
          77.294
         ],
         "yaxis": "y"
        },
        {
         "customdata": [
          [
           "MNASNet0_5_Weights.IMAGENET1K_V1",
           2.2
          ],
          [
           "MNASNet0_75_Weights.IMAGENET1K_V1",
           3.2
          ],
          [
           "MNASNet1_0_Weights.IMAGENET1K_V1",
           4.4
          ],
          [
           "MNASNet1_3_Weights.IMAGENET1K_V1",
           6.3
          ]
         ],
         "hovertemplate": "Family=MNASNet<br>GFLOPS=%{x}<br>Acc@1=%{y}<br>Weight=%{customdata[0]}<br>Params=%{customdata[1]}<extra></extra>",
         "legendgroup": "MNASNet",
         "marker": {
          "color": "#FF6692",
          "size": 4,
          "symbol": "circle"
         },
         "mode": "markers",
         "name": "MNASNet",
         "orientation": "v",
         "showlegend": true,
         "type": "scatter",
         "x": [
          0.1,
          0.21,
          0.31,
          0.53
         ],
         "xaxis": "x",
         "y": [
          67.734,
          71.18,
          73.456,
          76.506
         ],
         "yaxis": "y"
        },
        {
         "customdata": [
          [
           "MaxVit_T_Weights.IMAGENET1K_V1",
           30.9
          ]
         ],
         "hovertemplate": "Family=MaxVit<br>GFLOPS=%{x}<br>Acc@1=%{y}<br>Weight=%{customdata[0]}<br>Params=%{customdata[1]}<extra></extra>",
         "legendgroup": "MaxVit",
         "marker": {
          "color": "#B6E880",
          "size": 4,
          "symbol": "circle"
         },
         "mode": "markers",
         "name": "MaxVit",
         "orientation": "v",
         "showlegend": true,
         "type": "scatter",
         "x": [
          5.56
         ],
         "xaxis": "x",
         "y": [
          83.7
         ],
         "yaxis": "y"
        },
        {
         "customdata": [
          [
           "MobileNet_V2_Weights.IMAGENET1K_V1",
           3.5
          ],
          [
           "MobileNet_V2_Weights.IMAGENET1K_V2",
           3.5
          ],
          [
           "MobileNet_V3_Large_Weights.IMAGENET1K_V1",
           5.5
          ],
          [
           "MobileNet_V3_Large_Weights.IMAGENET1K_V2",
           5.5
          ],
          [
           "MobileNet_V3_Small_Weights.IMAGENET1K_V1",
           2.5
          ]
         ],
         "hovertemplate": "Family=MobileNet<br>GFLOPS=%{x}<br>Acc@1=%{y}<br>Weight=%{customdata[0]}<br>Params=%{customdata[1]}<extra></extra>",
         "legendgroup": "MobileNet",
         "marker": {
          "color": "#FF97FF",
          "size": 4,
          "symbol": "circle"
         },
         "mode": "markers",
         "name": "MobileNet",
         "orientation": "v",
         "showlegend": true,
         "type": "scatter",
         "x": [
          0.3,
          0.3,
          0.22,
          0.22,
          0.06
         ],
         "xaxis": "x",
         "y": [
          71.878,
          72.154,
          74.042,
          75.274,
          67.668
         ],
         "yaxis": "y"
        },
        {
         "customdata": [
          [
           "RegNet_X_16GF_Weights.IMAGENET1K_V1",
           54.3
          ],
          [
           "RegNet_X_16GF_Weights.IMAGENET1K_V2",
           54.3
          ],
          [
           "RegNet_X_1_6GF_Weights.IMAGENET1K_V1",
           9.2
          ],
          [
           "RegNet_X_1_6GF_Weights.IMAGENET1K_V2",
           9.2
          ],
          [
           "RegNet_X_32GF_Weights.IMAGENET1K_V1",
           107.8
          ],
          [
           "RegNet_X_32GF_Weights.IMAGENET1K_V2",
           107.8
          ],
          [
           "RegNet_X_3_2GF_Weights.IMAGENET1K_V1",
           15.3
          ],
          [
           "RegNet_X_3_2GF_Weights.IMAGENET1K_V2",
           15.3
          ],
          [
           "RegNet_X_400MF_Weights.IMAGENET1K_V1",
           5.5
          ],
          [
           "RegNet_X_400MF_Weights.IMAGENET1K_V2",
           5.5
          ],
          [
           "RegNet_X_800MF_Weights.IMAGENET1K_V1",
           7.3
          ],
          [
           "RegNet_X_800MF_Weights.IMAGENET1K_V2",
           7.3
          ],
          [
           "RegNet_X_8GF_Weights.IMAGENET1K_V1",
           39.6
          ],
          [
           "RegNet_X_8GF_Weights.IMAGENET1K_V2",
           39.6
          ],
          [
           "RegNet_Y_128GF_Weights.IMAGENET1K_SWAG_E2E_V1",
           644.8
          ],
          [
           "RegNet_Y_128GF_Weights.IMAGENET1K_SWAG_LINEAR_V1",
           644.8
          ],
          [
           "RegNet_Y_16GF_Weights.IMAGENET1K_V1",
           83.6
          ],
          [
           "RegNet_Y_16GF_Weights.IMAGENET1K_V2",
           83.6
          ],
          [
           "RegNet_Y_16GF_Weights.IMAGENET1K_SWAG_E2E_V1",
           83.6
          ],
          [
           "RegNet_Y_16GF_Weights.IMAGENET1K_SWAG_LINEAR_V1",
           83.6
          ],
          [
           "RegNet_Y_1_6GF_Weights.IMAGENET1K_V1",
           11.2
          ],
          [
           "RegNet_Y_1_6GF_Weights.IMAGENET1K_V2",
           11.2
          ],
          [
           "RegNet_Y_32GF_Weights.IMAGENET1K_V1",
           145
          ],
          [
           "RegNet_Y_32GF_Weights.IMAGENET1K_V2",
           145
          ],
          [
           "RegNet_Y_32GF_Weights.IMAGENET1K_SWAG_E2E_V1",
           145
          ],
          [
           "RegNet_Y_32GF_Weights.IMAGENET1K_SWAG_LINEAR_V1",
           145
          ],
          [
           "RegNet_Y_3_2GF_Weights.IMAGENET1K_V1",
           19.4
          ],
          [
           "RegNet_Y_3_2GF_Weights.IMAGENET1K_V2",
           19.4
          ],
          [
           "RegNet_Y_400MF_Weights.IMAGENET1K_V1",
           4.3
          ],
          [
           "RegNet_Y_400MF_Weights.IMAGENET1K_V2",
           4.3
          ],
          [
           "RegNet_Y_800MF_Weights.IMAGENET1K_V1",
           6.4
          ],
          [
           "RegNet_Y_800MF_Weights.IMAGENET1K_V2",
           6.4
          ],
          [
           "RegNet_Y_8GF_Weights.IMAGENET1K_V1",
           39.4
          ],
          [
           "RegNet_Y_8GF_Weights.IMAGENET1K_V2",
           39.4
          ]
         ],
         "hovertemplate": "Family=RegNet<br>GFLOPS=%{x}<br>Acc@1=%{y}<br>Weight=%{customdata[0]}<br>Params=%{customdata[1]}<extra></extra>",
         "legendgroup": "RegNet",
         "marker": {
          "color": "#FECB52",
          "size": 4,
          "symbol": "circle"
         },
         "mode": "markers",
         "name": "RegNet",
         "orientation": "v",
         "showlegend": true,
         "type": "scatter",
         "x": [
          15.94,
          15.94,
          1.6,
          1.6,
          31.74,
          31.74,
          3.18,
          3.18,
          0.41,
          0.41,
          0.8,
          0.8,
          8,
          8,
          374.57,
          127.52,
          15.91,
          15.91,
          46.73,
          15.91,
          1.61,
          1.61,
          32.28,
          32.28,
          94.83,
          32.28,
          3.18,
          3.18,
          0.4,
          0.4,
          0.83,
          0.83,
          8.47,
          8.47
         ],
         "xaxis": "x",
         "y": [
          80.058,
          82.716,
          77.04,
          79.668,
          80.622,
          83.014,
          78.364,
          81.196,
          72.834,
          74.864,
          75.212,
          77.522,
          79.344,
          81.682,
          88.228,
          86.068,
          80.424,
          82.886,
          86.012,
          83.976,
          77.95,
          80.876,
          80.878,
          83.368,
          86.838,
          84.622,
          78.948,
          81.982,
          74.046,
          75.804,
          76.42,
          78.828,
          80.032,
          82.828
         ],
         "yaxis": "y"
        },
        {
         "customdata": [
          [
           "ResNeXt101_32X8D_Weights.IMAGENET1K_V1",
           88.8
          ],
          [
           "ResNeXt101_32X8D_Weights.IMAGENET1K_V2",
           88.8
          ],
          [
           "ResNeXt101_64X4D_Weights.IMAGENET1K_V1",
           83.5
          ],
          [
           "ResNeXt50_32X4D_Weights.IMAGENET1K_V1",
           25
          ],
          [
           "ResNeXt50_32X4D_Weights.IMAGENET1K_V2",
           25
          ]
         ],
         "hovertemplate": "Family=ResNeXt<br>GFLOPS=%{x}<br>Acc@1=%{y}<br>Weight=%{customdata[0]}<br>Params=%{customdata[1]}<extra></extra>",
         "legendgroup": "ResNeXt",
         "marker": {
          "color": "#636efa",
          "size": 4,
          "symbol": "circle"
         },
         "mode": "markers",
         "name": "ResNeXt",
         "orientation": "v",
         "showlegend": true,
         "type": "scatter",
         "x": [
          16.41,
          16.41,
          15.46,
          4.23,
          4.23
         ],
         "xaxis": "x",
         "y": [
          79.312,
          82.834,
          83.246,
          77.618,
          81.198
         ],
         "yaxis": "y"
        },
        {
         "customdata": [
          [
           "ResNet101_Weights.IMAGENET1K_V1",
           44.5
          ],
          [
           "ResNet101_Weights.IMAGENET1K_V2",
           44.5
          ],
          [
           "ResNet152_Weights.IMAGENET1K_V1",
           60.2
          ],
          [
           "ResNet152_Weights.IMAGENET1K_V2",
           60.2
          ],
          [
           "ResNet18_Weights.IMAGENET1K_V1",
           11.7
          ],
          [
           "ResNet34_Weights.IMAGENET1K_V1",
           21.8
          ],
          [
           "ResNet50_Weights.IMAGENET1K_V1",
           25.6
          ],
          [
           "ResNet50_Weights.IMAGENET1K_V2",
           25.6
          ]
         ],
         "hovertemplate": "Family=ResNet<br>GFLOPS=%{x}<br>Acc@1=%{y}<br>Weight=%{customdata[0]}<br>Params=%{customdata[1]}<extra></extra>",
         "legendgroup": "ResNet",
         "marker": {
          "color": "#EF553B",
          "size": 4,
          "symbol": "circle"
         },
         "mode": "markers",
         "name": "ResNet",
         "orientation": "v",
         "showlegend": true,
         "type": "scatter",
         "x": [
          7.8,
          7.8,
          11.51,
          11.51,
          1.81,
          3.66,
          4.09,
          4.09
         ],
         "xaxis": "x",
         "y": [
          77.374,
          81.886,
          78.312,
          82.284,
          69.758,
          73.314,
          76.13,
          80.858
         ],
         "yaxis": "y"
        },
        {
         "customdata": [
          [
           "ShuffleNet_V2_X0_5_Weights.IMAGENET1K_V1",
           1.4
          ],
          [
           "ShuffleNet_V2_X1_0_Weights.IMAGENET1K_V1",
           2.3
          ],
          [
           "ShuffleNet_V2_X1_5_Weights.IMAGENET1K_V1",
           3.5
          ],
          [
           "ShuffleNet_V2_X2_0_Weights.IMAGENET1K_V1",
           7.4
          ]
         ],
         "hovertemplate": "Family=ShuffleNet<br>GFLOPS=%{x}<br>Acc@1=%{y}<br>Weight=%{customdata[0]}<br>Params=%{customdata[1]}<extra></extra>",
         "legendgroup": "ShuffleNet",
         "marker": {
          "color": "#00cc96",
          "size": 4,
          "symbol": "circle"
         },
         "mode": "markers",
         "name": "ShuffleNet",
         "orientation": "v",
         "showlegend": true,
         "type": "scatter",
         "x": [
          0.04,
          0.14,
          0.3,
          0.58
         ],
         "xaxis": "x",
         "y": [
          60.552,
          69.362,
          72.996,
          76.23
         ],
         "yaxis": "y"
        },
        {
         "customdata": [
          [
           "SqueezeNet1_0_Weights.IMAGENET1K_V1",
           1.2
          ],
          [
           "SqueezeNet1_1_Weights.IMAGENET1K_V1",
           1.2
          ]
         ],
         "hovertemplate": "Family=SqueezeNet<br>GFLOPS=%{x}<br>Acc@1=%{y}<br>Weight=%{customdata[0]}<br>Params=%{customdata[1]}<extra></extra>",
         "legendgroup": "SqueezeNet",
         "marker": {
          "color": "#ab63fa",
          "size": 4,
          "symbol": "circle"
         },
         "mode": "markers",
         "name": "SqueezeNet",
         "orientation": "v",
         "showlegend": true,
         "type": "scatter",
         "x": [
          0.82,
          0.35
         ],
         "xaxis": "x",
         "y": [
          58.092,
          58.178
         ],
         "yaxis": "y"
        },
        {
         "customdata": [
          [
           "Swin_B_Weights.IMAGENET1K_V1",
           87.8
          ],
          [
           "Swin_S_Weights.IMAGENET1K_V1",
           49.6
          ],
          [
           "Swin_T_Weights.IMAGENET1K_V1",
           28.3
          ],
          [
           "Swin_V2_B_Weights.IMAGENET1K_V1",
           87.9
          ],
          [
           "Swin_V2_S_Weights.IMAGENET1K_V1",
           49.7
          ],
          [
           "Swin_V2_T_Weights.IMAGENET1K_V1",
           28.4
          ]
         ],
         "hovertemplate": "Family=Swin<br>GFLOPS=%{x}<br>Acc@1=%{y}<br>Weight=%{customdata[0]}<br>Params=%{customdata[1]}<extra></extra>",
         "legendgroup": "Swin",
         "marker": {
          "color": "#FFA15A",
          "size": 4,
          "symbol": "circle"
         },
         "mode": "markers",
         "name": "Swin",
         "orientation": "v",
         "showlegend": true,
         "type": "scatter",
         "x": [
          15.43,
          8.74,
          4.49,
          20.32,
          11.55,
          5.94
         ],
         "xaxis": "x",
         "y": [
          83.582,
          83.196,
          81.474,
          84.112,
          83.712,
          82.072
         ],
         "yaxis": "y"
        },
        {
         "customdata": [
          [
           "VGG11_BN_Weights.IMAGENET1K_V1",
           132.9
          ],
          [
           "VGG11_Weights.IMAGENET1K_V1",
           132.9
          ],
          [
           "VGG13_BN_Weights.IMAGENET1K_V1",
           133.1
          ],
          [
           "VGG13_Weights.IMAGENET1K_V1",
           133
          ],
          [
           "VGG16_BN_Weights.IMAGENET1K_V1",
           138.4
          ],
          [
           "VGG16_Weights.IMAGENET1K_V1",
           138.4
          ],
          [
           "VGG16_Weights.IMAGENET1K_FEATURES",
           138.4
          ],
          [
           "VGG19_BN_Weights.IMAGENET1K_V1",
           143.7
          ],
          [
           "VGG19_Weights.IMAGENET1K_V1",
           143.7
          ]
         ],
         "hovertemplate": "Family=VGG<br>GFLOPS=%{x}<br>Acc@1=%{y}<br>Weight=%{customdata[0]}<br>Params=%{customdata[1]}<extra></extra>",
         "legendgroup": "VGG",
         "marker": {
          "color": "#19d3f3",
          "size": 4,
          "symbol": "circle"
         },
         "mode": "markers",
         "name": "VGG",
         "orientation": "v",
         "showlegend": true,
         "type": "scatter",
         "x": [
          7.61,
          7.61,
          11.31,
          11.31,
          15.47,
          15.47,
          15.47,
          19.63,
          19.63
         ],
         "xaxis": "x",
         "y": [
          70.37,
          69.02,
          71.586,
          69.928,
          73.36,
          71.592,
          null,
          74.218,
          72.376
         ],
         "yaxis": "y"
        },
        {
         "customdata": [
          [
           "ViT_B_16_Weights.IMAGENET1K_V1",
           86.6
          ],
          [
           "ViT_B_16_Weights.IMAGENET1K_SWAG_E2E_V1",
           86.9
          ],
          [
           "ViT_B_16_Weights.IMAGENET1K_SWAG_LINEAR_V1",
           86.6
          ],
          [
           "ViT_B_32_Weights.IMAGENET1K_V1",
           88.2
          ],
          [
           "ViT_H_14_Weights.IMAGENET1K_SWAG_E2E_V1",
           633.5
          ],
          [
           "ViT_H_14_Weights.IMAGENET1K_SWAG_LINEAR_V1",
           632
          ],
          [
           "ViT_L_16_Weights.IMAGENET1K_V1",
           304.3
          ],
          [
           "ViT_L_16_Weights.IMAGENET1K_SWAG_E2E_V1",
           305.2
          ],
          [
           "ViT_L_16_Weights.IMAGENET1K_SWAG_LINEAR_V1",
           304.3
          ],
          [
           "ViT_L_32_Weights.IMAGENET1K_V1",
           306.5
          ]
         ],
         "hovertemplate": "Family=ViT<br>GFLOPS=%{x}<br>Acc@1=%{y}<br>Weight=%{customdata[0]}<br>Params=%{customdata[1]}<extra></extra>",
         "legendgroup": "ViT",
         "marker": {
          "color": "#FF6692",
          "size": 4,
          "symbol": "circle"
         },
         "mode": "markers",
         "name": "ViT",
         "orientation": "v",
         "showlegend": true,
         "type": "scatter",
         "x": [
          17.56,
          55.48,
          17.56,
          4.41,
          1016.72,
          167.29,
          61.55,
          361.99,
          61.55,
          15.38
         ],
         "xaxis": "x",
         "y": [
          81.072,
          85.304,
          81.886,
          75.912,
          88.552,
          85.708,
          79.662,
          88.064,
          85.146,
          76.972
         ],
         "yaxis": "y"
        },
        {
         "customdata": [
          [
           "Wide_ResNet101_2_Weights.IMAGENET1K_V1",
           126.9
          ],
          [
           "Wide_ResNet101_2_Weights.IMAGENET1K_V2",
           126.9
          ],
          [
           "Wide_ResNet50_2_Weights.IMAGENET1K_V1",
           68.9
          ],
          [
           "Wide_ResNet50_2_Weights.IMAGENET1K_V2",
           68.9
          ]
         ],
         "hovertemplate": "Family=Wide<br>GFLOPS=%{x}<br>Acc@1=%{y}<br>Weight=%{customdata[0]}<br>Params=%{customdata[1]}<extra></extra>",
         "legendgroup": "Wide",
         "marker": {
          "color": "#B6E880",
          "size": 4,
          "symbol": "circle"
         },
         "mode": "markers",
         "name": "Wide",
         "orientation": "v",
         "showlegend": true,
         "type": "scatter",
         "x": [
          22.75,
          22.75,
          11.4,
          11.4
         ],
         "xaxis": "x",
         "y": [
          78.848,
          82.51,
          78.468,
          81.602
         ],
         "yaxis": "y"
        }
       ],
       "layout": {
        "legend": {
         "title": {
          "text": "Family"
         },
         "tracegroupgap": 0
        },
        "margin": {
         "t": 60
        },
        "template": {
         "data": {
          "bar": [
           {
            "error_x": {
             "color": "#2a3f5f"
            },
            "error_y": {
             "color": "#2a3f5f"
            },
            "marker": {
             "line": {
              "color": "#E5ECF6",
              "width": 0.5
             },
             "pattern": {
              "fillmode": "overlay",
              "size": 10,
              "solidity": 0.2
             }
            },
            "type": "bar"
           }
          ],
          "barpolar": [
           {
            "marker": {
             "line": {
              "color": "#E5ECF6",
              "width": 0.5
             },
             "pattern": {
              "fillmode": "overlay",
              "size": 10,
              "solidity": 0.2
             }
            },
            "type": "barpolar"
           }
          ],
          "carpet": [
           {
            "aaxis": {
             "endlinecolor": "#2a3f5f",
             "gridcolor": "white",
             "linecolor": "white",
             "minorgridcolor": "white",
             "startlinecolor": "#2a3f5f"
            },
            "baxis": {
             "endlinecolor": "#2a3f5f",
             "gridcolor": "white",
             "linecolor": "white",
             "minorgridcolor": "white",
             "startlinecolor": "#2a3f5f"
            },
            "type": "carpet"
           }
          ],
          "choropleth": [
           {
            "colorbar": {
             "outlinewidth": 0,
             "ticks": ""
            },
            "type": "choropleth"
           }
          ],
          "contour": [
           {
            "colorbar": {
             "outlinewidth": 0,
             "ticks": ""
            },
            "colorscale": [
             [
              0,
              "#0d0887"
             ],
             [
              0.1111111111111111,
              "#46039f"
             ],
             [
              0.2222222222222222,
              "#7201a8"
             ],
             [
              0.3333333333333333,
              "#9c179e"
             ],
             [
              0.4444444444444444,
              "#bd3786"
             ],
             [
              0.5555555555555556,
              "#d8576b"
             ],
             [
              0.6666666666666666,
              "#ed7953"
             ],
             [
              0.7777777777777778,
              "#fb9f3a"
             ],
             [
              0.8888888888888888,
              "#fdca26"
             ],
             [
              1,
              "#f0f921"
             ]
            ],
            "type": "contour"
           }
          ],
          "contourcarpet": [
           {
            "colorbar": {
             "outlinewidth": 0,
             "ticks": ""
            },
            "type": "contourcarpet"
           }
          ],
          "heatmap": [
           {
            "colorbar": {
             "outlinewidth": 0,
             "ticks": ""
            },
            "colorscale": [
             [
              0,
              "#0d0887"
             ],
             [
              0.1111111111111111,
              "#46039f"
             ],
             [
              0.2222222222222222,
              "#7201a8"
             ],
             [
              0.3333333333333333,
              "#9c179e"
             ],
             [
              0.4444444444444444,
              "#bd3786"
             ],
             [
              0.5555555555555556,
              "#d8576b"
             ],
             [
              0.6666666666666666,
              "#ed7953"
             ],
             [
              0.7777777777777778,
              "#fb9f3a"
             ],
             [
              0.8888888888888888,
              "#fdca26"
             ],
             [
              1,
              "#f0f921"
             ]
            ],
            "type": "heatmap"
           }
          ],
          "heatmapgl": [
           {
            "colorbar": {
             "outlinewidth": 0,
             "ticks": ""
            },
            "colorscale": [
             [
              0,
              "#0d0887"
             ],
             [
              0.1111111111111111,
              "#46039f"
             ],
             [
              0.2222222222222222,
              "#7201a8"
             ],
             [
              0.3333333333333333,
              "#9c179e"
             ],
             [
              0.4444444444444444,
              "#bd3786"
             ],
             [
              0.5555555555555556,
              "#d8576b"
             ],
             [
              0.6666666666666666,
              "#ed7953"
             ],
             [
              0.7777777777777778,
              "#fb9f3a"
             ],
             [
              0.8888888888888888,
              "#fdca26"
             ],
             [
              1,
              "#f0f921"
             ]
            ],
            "type": "heatmapgl"
           }
          ],
          "histogram": [
           {
            "marker": {
             "pattern": {
              "fillmode": "overlay",
              "size": 10,
              "solidity": 0.2
             }
            },
            "type": "histogram"
           }
          ],
          "histogram2d": [
           {
            "colorbar": {
             "outlinewidth": 0,
             "ticks": ""
            },
            "colorscale": [
             [
              0,
              "#0d0887"
             ],
             [
              0.1111111111111111,
              "#46039f"
             ],
             [
              0.2222222222222222,
              "#7201a8"
             ],
             [
              0.3333333333333333,
              "#9c179e"
             ],
             [
              0.4444444444444444,
              "#bd3786"
             ],
             [
              0.5555555555555556,
              "#d8576b"
             ],
             [
              0.6666666666666666,
              "#ed7953"
             ],
             [
              0.7777777777777778,
              "#fb9f3a"
             ],
             [
              0.8888888888888888,
              "#fdca26"
             ],
             [
              1,
              "#f0f921"
             ]
            ],
            "type": "histogram2d"
           }
          ],
          "histogram2dcontour": [
           {
            "colorbar": {
             "outlinewidth": 0,
             "ticks": ""
            },
            "colorscale": [
             [
              0,
              "#0d0887"
             ],
             [
              0.1111111111111111,
              "#46039f"
             ],
             [
              0.2222222222222222,
              "#7201a8"
             ],
             [
              0.3333333333333333,
              "#9c179e"
             ],
             [
              0.4444444444444444,
              "#bd3786"
             ],
             [
              0.5555555555555556,
              "#d8576b"
             ],
             [
              0.6666666666666666,
              "#ed7953"
             ],
             [
              0.7777777777777778,
              "#fb9f3a"
             ],
             [
              0.8888888888888888,
              "#fdca26"
             ],
             [
              1,
              "#f0f921"
             ]
            ],
            "type": "histogram2dcontour"
           }
          ],
          "mesh3d": [
           {
            "colorbar": {
             "outlinewidth": 0,
             "ticks": ""
            },
            "type": "mesh3d"
           }
          ],
          "parcoords": [
           {
            "line": {
             "colorbar": {
              "outlinewidth": 0,
              "ticks": ""
             }
            },
            "type": "parcoords"
           }
          ],
          "pie": [
           {
            "automargin": true,
            "type": "pie"
           }
          ],
          "scatter": [
           {
            "fillpattern": {
             "fillmode": "overlay",
             "size": 10,
             "solidity": 0.2
            },
            "type": "scatter"
           }
          ],
          "scatter3d": [
           {
            "line": {
             "colorbar": {
              "outlinewidth": 0,
              "ticks": ""
             }
            },
            "marker": {
             "colorbar": {
              "outlinewidth": 0,
              "ticks": ""
             }
            },
            "type": "scatter3d"
           }
          ],
          "scattercarpet": [
           {
            "marker": {
             "colorbar": {
              "outlinewidth": 0,
              "ticks": ""
             }
            },
            "type": "scattercarpet"
           }
          ],
          "scattergeo": [
           {
            "marker": {
             "colorbar": {
              "outlinewidth": 0,
              "ticks": ""
             }
            },
            "type": "scattergeo"
           }
          ],
          "scattergl": [
           {
            "marker": {
             "colorbar": {
              "outlinewidth": 0,
              "ticks": ""
             }
            },
            "type": "scattergl"
           }
          ],
          "scattermapbox": [
           {
            "marker": {
             "colorbar": {
              "outlinewidth": 0,
              "ticks": ""
             }
            },
            "type": "scattermapbox"
           }
          ],
          "scatterpolar": [
           {
            "marker": {
             "colorbar": {
              "outlinewidth": 0,
              "ticks": ""
             }
            },
            "type": "scatterpolar"
           }
          ],
          "scatterpolargl": [
           {
            "marker": {
             "colorbar": {
              "outlinewidth": 0,
              "ticks": ""
             }
            },
            "type": "scatterpolargl"
           }
          ],
          "scatterternary": [
           {
            "marker": {
             "colorbar": {
              "outlinewidth": 0,
              "ticks": ""
             }
            },
            "type": "scatterternary"
           }
          ],
          "surface": [
           {
            "colorbar": {
             "outlinewidth": 0,
             "ticks": ""
            },
            "colorscale": [
             [
              0,
              "#0d0887"
             ],
             [
              0.1111111111111111,
              "#46039f"
             ],
             [
              0.2222222222222222,
              "#7201a8"
             ],
             [
              0.3333333333333333,
              "#9c179e"
             ],
             [
              0.4444444444444444,
              "#bd3786"
             ],
             [
              0.5555555555555556,
              "#d8576b"
             ],
             [
              0.6666666666666666,
              "#ed7953"
             ],
             [
              0.7777777777777778,
              "#fb9f3a"
             ],
             [
              0.8888888888888888,
              "#fdca26"
             ],
             [
              1,
              "#f0f921"
             ]
            ],
            "type": "surface"
           }
          ],
          "table": [
           {
            "cells": {
             "fill": {
              "color": "#EBF0F8"
             },
             "line": {
              "color": "white"
             }
            },
            "header": {
             "fill": {
              "color": "#C8D4E3"
             },
             "line": {
              "color": "white"
             }
            },
            "type": "table"
           }
          ]
         },
         "layout": {
          "annotationdefaults": {
           "arrowcolor": "#2a3f5f",
           "arrowhead": 0,
           "arrowwidth": 1
          },
          "autotypenumbers": "strict",
          "coloraxis": {
           "colorbar": {
            "outlinewidth": 0,
            "ticks": ""
           }
          },
          "colorscale": {
           "diverging": [
            [
             0,
             "#8e0152"
            ],
            [
             0.1,
             "#c51b7d"
            ],
            [
             0.2,
             "#de77ae"
            ],
            [
             0.3,
             "#f1b6da"
            ],
            [
             0.4,
             "#fde0ef"
            ],
            [
             0.5,
             "#f7f7f7"
            ],
            [
             0.6,
             "#e6f5d0"
            ],
            [
             0.7,
             "#b8e186"
            ],
            [
             0.8,
             "#7fbc41"
            ],
            [
             0.9,
             "#4d9221"
            ],
            [
             1,
             "#276419"
            ]
           ],
           "sequential": [
            [
             0,
             "#0d0887"
            ],
            [
             0.1111111111111111,
             "#46039f"
            ],
            [
             0.2222222222222222,
             "#7201a8"
            ],
            [
             0.3333333333333333,
             "#9c179e"
            ],
            [
             0.4444444444444444,
             "#bd3786"
            ],
            [
             0.5555555555555556,
             "#d8576b"
            ],
            [
             0.6666666666666666,
             "#ed7953"
            ],
            [
             0.7777777777777778,
             "#fb9f3a"
            ],
            [
             0.8888888888888888,
             "#fdca26"
            ],
            [
             1,
             "#f0f921"
            ]
           ],
           "sequentialminus": [
            [
             0,
             "#0d0887"
            ],
            [
             0.1111111111111111,
             "#46039f"
            ],
            [
             0.2222222222222222,
             "#7201a8"
            ],
            [
             0.3333333333333333,
             "#9c179e"
            ],
            [
             0.4444444444444444,
             "#bd3786"
            ],
            [
             0.5555555555555556,
             "#d8576b"
            ],
            [
             0.6666666666666666,
             "#ed7953"
            ],
            [
             0.7777777777777778,
             "#fb9f3a"
            ],
            [
             0.8888888888888888,
             "#fdca26"
            ],
            [
             1,
             "#f0f921"
            ]
           ]
          },
          "colorway": [
           "#636efa",
           "#EF553B",
           "#00cc96",
           "#ab63fa",
           "#FFA15A",
           "#19d3f3",
           "#FF6692",
           "#B6E880",
           "#FF97FF",
           "#FECB52"
          ],
          "font": {
           "color": "#2a3f5f"
          },
          "geo": {
           "bgcolor": "white",
           "lakecolor": "white",
           "landcolor": "#E5ECF6",
           "showlakes": true,
           "showland": true,
           "subunitcolor": "white"
          },
          "hoverlabel": {
           "align": "left"
          },
          "hovermode": "closest",
          "mapbox": {
           "style": "light"
          },
          "paper_bgcolor": "white",
          "plot_bgcolor": "#E5ECF6",
          "polar": {
           "angularaxis": {
            "gridcolor": "white",
            "linecolor": "white",
            "ticks": ""
           },
           "bgcolor": "#E5ECF6",
           "radialaxis": {
            "gridcolor": "white",
            "linecolor": "white",
            "ticks": ""
           }
          },
          "scene": {
           "xaxis": {
            "backgroundcolor": "#E5ECF6",
            "gridcolor": "white",
            "gridwidth": 2,
            "linecolor": "white",
            "showbackground": true,
            "ticks": "",
            "zerolinecolor": "white"
           },
           "yaxis": {
            "backgroundcolor": "#E5ECF6",
            "gridcolor": "white",
            "gridwidth": 2,
            "linecolor": "white",
            "showbackground": true,
            "ticks": "",
            "zerolinecolor": "white"
           },
           "zaxis": {
            "backgroundcolor": "#E5ECF6",
            "gridcolor": "white",
            "gridwidth": 2,
            "linecolor": "white",
            "showbackground": true,
            "ticks": "",
            "zerolinecolor": "white"
           }
          },
          "shapedefaults": {
           "line": {
            "color": "#2a3f5f"
           }
          },
          "ternary": {
           "aaxis": {
            "gridcolor": "white",
            "linecolor": "white",
            "ticks": ""
           },
           "baxis": {
            "gridcolor": "white",
            "linecolor": "white",
            "ticks": ""
           },
           "bgcolor": "#E5ECF6",
           "caxis": {
            "gridcolor": "white",
            "linecolor": "white",
            "ticks": ""
           }
          },
          "title": {
           "x": 0.05
          },
          "xaxis": {
           "automargin": true,
           "gridcolor": "white",
           "linecolor": "white",
           "ticks": "",
           "title": {
            "standoff": 15
           },
           "zerolinecolor": "white",
           "zerolinewidth": 2
          },
          "yaxis": {
           "automargin": true,
           "gridcolor": "white",
           "linecolor": "white",
           "ticks": "",
           "title": {
            "standoff": 15
           },
           "zerolinecolor": "white",
           "zerolinewidth": 2
          }
         }
        },
        "xaxis": {
         "anchor": "y",
         "domain": [
          0,
          1
         ],
         "title": {
          "text": "GFLOPS"
         },
         "type": "log"
        },
        "yaxis": {
         "anchor": "x",
         "domain": [
          0,
          1
         ],
         "title": {
          "text": "Acc@1"
         }
        }
       }
      }
     },
     "metadata": {},
     "output_type": "display_data"
    }
   ],
   "source": [
    "import plotly.express as px\n",
    "\n",
    "fig1 = px.scatter(df, x='Params', y='Acc@1', hover_data=['Weight', 'GFLOPS'],\n",
    "                 log_x=True, color='Family')\n",
    "fig1.update_traces(marker={'size': 4})\n",
    "fig2 = px.scatter(df, x='GFLOPS', y='Acc@1', hover_data=['Weight', 'Params'],\n",
    "                 log_x=True, color='Family')\n",
    "fig2.update_traces(marker={'size': 4})\n",
    "fig1.show()\n",
    "fig2.show()"
   ]
  }
 ],
 "metadata": {
  "kernelspec": {
   "display_name": "vc2024",
   "language": "python",
   "name": "python3"
  },
  "language_info": {
   "codemirror_mode": {
    "name": "ipython",
    "version": 3
   },
   "file_extension": ".py",
   "mimetype": "text/x-python",
   "name": "python",
   "nbconvert_exporter": "python",
   "pygments_lexer": "ipython3",
   "version": "3.12.2"
  }
 },
 "nbformat": 4,
 "nbformat_minor": 2
}
