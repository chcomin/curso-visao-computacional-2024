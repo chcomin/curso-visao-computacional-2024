{
 "cells": [
  {
   "cell_type": "code",
   "execution_count": 1,
   "metadata": {},
   "outputs": [
    {
     "name": "stdout",
     "output_type": "stream",
     "text": [
      "batch_idx=0\n",
      "['idx=0 processado por worker 0', 'idx=1 processado por worker 0', 'idx=2 processado por worker 0', 'idx=3 processado por worker 0']\n",
      "batch_idx=1\n",
      "['idx=4 processado por worker 1', 'idx=5 processado por worker 1', 'idx=6 processado por worker 1', 'idx=7 processado por worker 1']\n",
      "batch_idx=2\n",
      "['idx=8 processado por worker 2', 'idx=9 processado por worker 2', 'idx=10 processado por worker 2', 'idx=11 processado por worker 2']\n",
      "batch_idx=3\n",
      "['idx=12 processado por worker 0', 'idx=13 processado por worker 0', 'idx=14 processado por worker 0']\n"
     ]
    }
   ],
   "source": [
    "import dataloader\n",
    "\n",
    "dataloader.main()"
   ]
  }
 ],
 "metadata": {
  "kernelspec": {
   "display_name": "vc2024",
   "language": "python",
   "name": "python3"
  },
  "language_info": {
   "codemirror_mode": {
    "name": "ipython",
    "version": 3
   },
   "file_extension": ".py",
   "mimetype": "text/x-python",
   "name": "python",
   "nbconvert_exporter": "python",
   "pygments_lexer": "ipython3",
   "version": "3.12.2"
  }
 },
 "nbformat": 4,
 "nbformat_minor": 2
}
