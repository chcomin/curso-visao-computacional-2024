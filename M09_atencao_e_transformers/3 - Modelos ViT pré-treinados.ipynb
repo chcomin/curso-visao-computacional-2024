{
 "cells": [
  {
   "cell_type": "markdown",
   "metadata": {},
   "source": [
    "# Modelos ViT pré-treinados"
   ]
  },
  {
   "cell_type": "markdown",
   "metadata": {},
   "source": [
    "### Biblioteca Pytorch Image Models (timm)"
   ]
  },
  {
   "cell_type": "code",
   "execution_count": 23,
   "metadata": {},
   "outputs": [
    {
     "data": {
      "text/plain": [
       "torch.Size([1, 1000])"
      ]
     },
     "execution_count": 23,
     "metadata": {},
     "output_type": "execute_result"
    }
   ],
   "source": [
    "import torch\n",
    "import timm\n",
    "\n",
    "tag = 'vit_base_patch16_224'\n",
    "\n",
    "model = timm.create_model(tag, pretrained=True)\n",
    "model.eval()\n",
    "\n",
    "x = torch.rand(1, 3, 224, 224)\n",
    "with torch.no_grad():\n",
    "    scores = model(x)\n",
    "scores.shape"
   ]
  },
  {
   "cell_type": "code",
   "execution_count": 24,
   "metadata": {},
   "outputs": [
    {
     "data": {
      "text/plain": [
       "torch.Size([1, 768])"
      ]
     },
     "execution_count": 24,
     "metadata": {},
     "output_type": "execute_result"
    }
   ],
   "source": [
    "model = timm.create_model(tag, pretrained=True, num_classes=0)\n",
    "model.eval()\n",
    "\n",
    "with torch.no_grad():\n",
    "    scores = model(x)\n",
    "scores.shape"
   ]
  },
  {
   "cell_type": "markdown",
   "metadata": {},
   "source": [
    "### Modelos treinados no ImageNet\n",
    "\n",
    "How to train your ViT? Data, Augmentation, and Regularization in Vision Transformers\n",
    "\n",
    "https://arxiv.org/abs/2106.10270\n",
    "\n",
    "* ImageNet 1k: 1281167 imagens separadas em 1000 classes\n",
    "* ImageNet 21k: 14197122 images separadas em 21841 classes"
   ]
  },
  {
   "cell_type": "code",
   "execution_count": 25,
   "metadata": {},
   "outputs": [],
   "source": [
    "tag = 'vit_base_patch16_224.augreg_in1k'\n",
    "tag = 'vit_base_patch16_224.augreg_in21k_ft_in1k'"
   ]
  },
  {
   "cell_type": "markdown",
   "metadata": {},
   "source": [
    "### Treinamento para recuperar regiões apagadas de imagens\n",
    "\n",
    "Masked Autoencoders Are Scalable Vision Learners\n",
    "\n",
    "https://arxiv.org/abs/2111.06377\n",
    "\n",
    "Treinado no ImageNet 1k\n",
    "\n",
    "![](../data/notebook_images/mae.png)"
   ]
  },
  {
   "cell_type": "code",
   "execution_count": null,
   "metadata": {},
   "outputs": [],
   "source": [
    "tag = 'vit_base_patch16_224.mae'"
   ]
  },
  {
   "cell_type": "markdown",
   "metadata": {},
   "source": [
    "### Similaridade entre imagens transformadas\n",
    "\n",
    "Emerging Properties in Self-Supervised Vision Transformers\n",
    "\n",
    "https://arxiv.org/pdf/2104.14294\n",
    "\n",
    "A Simple Framework for Contrastive Learning of Visual Representations\n",
    "\n",
    "https://arxiv.org/abs/2002.05709\n",
    "\n",
    "![](../data/notebook_images/SimCLR.png)"
   ]
  },
  {
   "cell_type": "code",
   "execution_count": 1,
   "metadata": {},
   "outputs": [],
   "source": [
    "tag = 'vit_base_patch14_reg4_dinov2.lvd142m'"
   ]
  },
  {
   "cell_type": "markdown",
   "metadata": {},
   "source": [
    "### Similaridade entre textos e imagens\n",
    "\n",
    "Learning Transferable Visual Models From Natural Language Supervision\n",
    "\n",
    "https://arxiv.org/abs/2103.00020\n",
    "\n",
    "* OpenAI: 400 milhões de pares de textos e imagens\n",
    "* OpenCLIP: 2.32 **bilhões** de pares de textos e imagens"
   ]
  },
  {
   "cell_type": "code",
   "execution_count": 2,
   "metadata": {},
   "outputs": [],
   "source": [
    "tag = 'vit_base_patch16_clip_224.laion2b_ft_in12k_in1k'\n",
    "tag = 'vit_base_patch16_clip_224.openai_ft_in12k_in1k'"
   ]
  }
 ],
 "metadata": {
  "kernelspec": {
   "display_name": "vc2024",
   "language": "python",
   "name": "python3"
  },
  "language_info": {
   "codemirror_mode": {
    "name": "ipython",
    "version": 3
   },
   "file_extension": ".py",
   "mimetype": "text/x-python",
   "name": "python",
   "nbconvert_exporter": "python",
   "pygments_lexer": "ipython3",
   "version": "3.12.2"
  }
 },
 "nbformat": 4,
 "nbformat_minor": 2
}
