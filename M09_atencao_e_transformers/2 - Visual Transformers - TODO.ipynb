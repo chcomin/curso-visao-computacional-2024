{
 "cells": [
  {
   "cell_type": "markdown",
   "metadata": {},
   "source": [
    "# Modelo ViT\n",
    "\n",
    "Implementação do Visual Transformer"
   ]
  },
  {
   "cell_type": "markdown",
   "metadata": {},
   "source": [
    "### Configurações iniciais"
   ]
  },
  {
   "cell_type": "code",
   "execution_count": 39,
   "metadata": {},
   "outputs": [],
   "source": [
    "import torch\n",
    "from torch import nn\n",
    "\n",
    "class PatchifyLayer(nn.Module):\n",
    "    \"\"\"Módulo que transforma uma imagem em um conjunto de tokens. Mesmo\n",
    "    módulo implementado no notebook anterior.\"\"\"\n",
    "        \n",
    "    def __init__(self, image_size, patch_size, token_dim):\n",
    "        super().__init__()\n",
    "        self.conv_proj = nn.Conv2d(\n",
    "            3, token_dim, kernel_size=patch_size, stride=patch_size\n",
    "        )\n",
    "        new_size = image_size//patch_size\n",
    "        seq_length = new_size**2\n",
    "        self.token_dim = token_dim\n",
    "        self.new_size = new_size\n",
    "        self.seq_length = seq_length\n",
    "\n",
    "    def forward(self, x):\n",
    "        x = self.conv_proj(x)\n",
    "        x = x.reshape(x.shape[0], self.token_dim, -1)\n",
    "        x = x.permute(0, 2, 1)\n",
    "\n",
    "        return x\n",
    "    \n",
    "# Parâmetros de teste. Os nomes utilizados são os mesmos do código-fonte do Pytorch\n",
    "bs = 8             # batch size\n",
    "image_size = 224   # tamanho da imagem\n",
    "patch_size = 16    # tamanho dos patches 16x16 para gerar tokens\n",
    "num_layers = 12    # número de camadas\n",
    "num_heads = 12     # número de cabeças para a multihead attention\n",
    "token_dim = 768    # dimensão de cada token\n",
    "mlp_dim = 3072     # dimensão da camada linear após a atenção\n",
    "seq_length = (image_size//patch_size)**2  # tamanho de cada sequência"
   ]
  },
  {
   "cell_type": "markdown",
   "metadata": {},
   "source": [
    "### Camada linear\n",
    "\n",
    "A camada linear implementada abaixo será utilizada após cada camada de atenção. Ela é uma camada simples formada por linear->relu->linear. As camadas lineares incluem uma expansão de canais, ou seja, o número de canais é aumentado na primeira camada e reduzido na segunda."
   ]
  },
  {
   "cell_type": "code",
   "execution_count": 42,
   "metadata": {},
   "outputs": [
    {
     "data": {
      "text/plain": [
       "torch.Size([8, 196, 768])"
      ]
     },
     "execution_count": 42,
     "metadata": {},
     "output_type": "execute_result"
    }
   ],
   "source": [
    "class MLP(nn.Module):\n",
    "    \"\"\"Camada multilayer perceptron / feedforward. \n",
    "    Nota: Usualmente mlp_dim>token_dim.\"\"\"\n",
    "\n",
    "    def __init__(self, token_dim, mlp_dim):\n",
    "        super().__init__()\n",
    "\n",
    "        self.layers = nn.Sequential(\n",
    "            torch.nn.Linear(token_dim, mlp_dim),\n",
    "            nn.ReLU(),\n",
    "            torch.nn.Linear(mlp_dim, token_dim),\n",
    "        )\n",
    "\n",
    "    def forward(self, x):\n",
    "        return self.layers(x)\n",
    "\n",
    "x = torch.rand(bs, seq_length, token_dim)\n",
    "mlp = MLP(token_dim, mlp_dim)\n",
    "out = mlp(x)\n",
    "out.shape"
   ]
  },
  {
   "cell_type": "markdown",
   "metadata": {},
   "source": [
    "### Bloco do codificador\n",
    "\n",
    "Um transformer consiste em uma sequência de blocos de codificação. Esses blocos são equivalentes ao ResidualBlock que implementamos para a ResNet (conv->batchnorm->relu->conv->batchnorm->relu), mas no caso do transformer temos layernorm->attention->layernorm->mlp\n",
    "\n",
    "A camada LayerNorm faz o mesmo papel do BatchNorm. Poderíamos ter usado BatchNorm, mas na prática LayerNorm tende a funcionar melhor com transformers."
   ]
  },
  {
   "cell_type": "code",
   "execution_count": 51,
   "metadata": {},
   "outputs": [
    {
     "data": {
      "text/plain": [
       "torch.Size([8, 196, 768])"
      ]
     },
     "execution_count": 51,
     "metadata": {},
     "output_type": "execute_result"
    }
   ],
   "source": [
    "class EncoderBlock(nn.Module):\n",
    "    \"\"\"Bloco codificador de um transformer.\"\"\"\n",
    "\n",
    "    def __init__(self, num_heads, token_dim, mlp_dim):\n",
    "        super().__init__()\n",
    "\n",
    "        # Normalização e atenção\n",
    "        self.ln_1 = nn.LayerNorm(token_dim)\n",
    "        self.attention = nn.MultiheadAttention(token_dim, num_heads, batch_first=True)\n",
    "\n",
    "        # Normalização e camada linear\n",
    "        self.ln_2 = nn.LayerNorm(token_dim)\n",
    "        self.mlp = MLP(token_dim, mlp_dim)\n",
    "\n",
    "    def forward(self, input):\n",
    "\n",
    "        x = self.ln_1(input)\n",
    "        x, _ = self.attention(x, x, x)\n",
    "        # Adiciona resíduo (assim como na resnet)\n",
    "        x = x + input   \n",
    "        \n",
    "        y = self.ln_2(x)\n",
    "        y = self.mlp(y)\n",
    "\n",
    "        # Adciona resíduo e retorna\n",
    "        return x + y\n",
    "    \n",
    "x = torch.rand(bs, seq_length, token_dim)\n",
    "eb = EncoderBlock(num_heads, token_dim, mlp_dim)\n",
    "out = eb(x)\n",
    "out.shape\n",
    "    "
   ]
  },
  {
   "cell_type": "markdown",
   "metadata": {},
   "source": [
    "### Alguns conceitos extra\n",
    "\n",
    "- positional embedding\n",
    "- class token"
   ]
  },
  {
   "cell_type": "markdown",
   "metadata": {},
   "source": [
    "O codificador do transformer realiza a mistura entre os tokens da sequência de entrada. Mas para aplicarmos o modelo em classificação e outras tarefas, precisamos de alguma forma extrair atributos da sequência como um todo. Por exemplo, para uma sequência de tamanho 1 x 196 x 768, queremos extrair um tensor de tamanho 1 x 768 contendo 768 atributos para toda a sequência. \n",
    "\n",
    "Uma\n",
    "\n",
    "- Media\n",
    "- Token de classe"
   ]
  },
  {
   "cell_type": "code",
   "execution_count": 44,
   "metadata": {},
   "outputs": [
    {
     "data": {
      "text/plain": [
       "torch.Size([8, 196, 768])"
      ]
     },
     "execution_count": 44,
     "metadata": {},
     "output_type": "execute_result"
    }
   ],
   "source": []
  },
  {
   "cell_type": "markdown",
   "metadata": {},
   "source": [
    "### Transformer\n",
    "\n",
    "Iremos  implementar o codificador do transformer. "
   ]
  },
  {
   "cell_type": "code",
   "execution_count": 56,
   "metadata": {},
   "outputs": [
    {
     "data": {
      "text/plain": [
       "torch.Size([8, 1000])"
      ]
     },
     "execution_count": 56,
     "metadata": {},
     "output_type": "execute_result"
    }
   ],
   "source": [
    "class VisionTransformer(nn.Module):\n",
    "\n",
    "    def __init__(self, image_size, patch_size, num_layers, num_heads, token_dim,\n",
    "        mlp_dim, num_classes):\n",
    "        super().__init__()\n",
    "\n",
    "        # Transforma imagem em tokens\n",
    "        self.patchify = PatchifyLayer(image_size, patch_size, token_dim)\n",
    "        seq_length = (image_size//patch_size)**2\n",
    "\n",
    "        # Adiciona token para a classe\n",
    "        self.class_token = nn.Parameter(torch.zeros(1, 1, token_dim))\n",
    "        seq_length += 1\n",
    "\n",
    "        # Adiciona informação sobre a posição\n",
    "        self.pos_embedding = nn.Parameter(torch.empty(1, seq_length, token_dim).normal_(std=0.02))  \n",
    "\n",
    "        # Codificador\n",
    "        encoder = []\n",
    "        for _ in range(num_layers):\n",
    "            encoder.append(EncoderBlock(num_heads, token_dim, mlp_dim))\n",
    "        self.encoder = nn.Sequential(*encoder)\n",
    "        self.ln = nn.LayerNorm(token_dim)\n",
    "\n",
    "        # Camada de classificação\n",
    "        self.final = nn.Linear(token_dim, num_classes)\n",
    "\n",
    "    def forward(self, x):\n",
    "\n",
    "        # bs x c x H x W -> bs x seq_length x token_dim\n",
    "        x = self.patchify(x)\n",
    "        bs = x.shape[0]\n",
    "\n",
    "        # Expansão do token de classe de 1 x 1 x token_dim -> bs x 1 x token_dim\n",
    "        batch_class_token = self.class_token.expand(bs, -1, -1)\n",
    "        # Concatena na dimensão da sequência\n",
    "        x = torch.cat([batch_class_token, x], dim=1)\n",
    "\n",
    "        # Adiciona embedding posicional\n",
    "        x = x + self.pos_embedding\n",
    "        x = self.ln(self.encoder(x))\n",
    "\n",
    "        # Extrai apenas o primeiro token de cada batch\n",
    "        x = x[:, 0]\n",
    "\n",
    "        # bs x token_dim -> bs x num_classes\n",
    "        x = self.final(x)\n",
    "\n",
    "        return x\n",
    "    \n",
    "vit = VisionTransformer(image_size, patch_size, num_layers, num_heads, \n",
    "                        token_dim, mlp_dim, num_classes=1000)\n",
    "\n",
    "x = torch.rand(bs, 3, image_size, image_size)\n",
    "out = vit(x)\n",
    "out.shape"
   ]
  },
  {
   "cell_type": "markdown",
   "metadata": {},
   "source": [
    "### Modelo do Pytorch"
   ]
  },
  {
   "cell_type": "code",
   "execution_count": 68,
   "metadata": {},
   "outputs": [
    {
     "name": "stdout",
     "output_type": "stream",
     "text": [
      "model.image_size=224\n",
      "model.patch_size=16\n",
      "num_layers=12\n",
      "num_heads=12\n",
      "model.hidden_dim=768\n",
      "model.mlp_dim=3072\n",
      "model.seq_length=197\n",
      "model.num_classes=1000\n"
     ]
    }
   ],
   "source": [
    "from torchvision.models import vision_transformer\n",
    "\n",
    "model = vision_transformer.vit_b_16()\n",
    "\n",
    "print(f'{model.image_size=}')\n",
    "print(f'{model.patch_size=}')\n",
    "print(f'num_layers={len(model.encoder.layers)}')\n",
    "print(f'num_heads={model.encoder.layers[0].num_heads}')\n",
    "print(f'{model.hidden_dim=}')\n",
    "print(f'{model.mlp_dim=}')\n",
    "print(f'{model.seq_length=}')\n",
    "print(f'{model.num_classes=}')"
   ]
  },
  {
   "cell_type": "markdown",
   "metadata": {},
   "source": [
    "Se desejarmos utilizar o transformer para outra tarefa além de classificação, podemos extrair os atributos gerados pelo modelo do Pytorch assim como fizemos para ResNets. Basta fazermos:"
   ]
  },
  {
   "cell_type": "code",
   "execution_count": 70,
   "metadata": {},
   "outputs": [
    {
     "data": {
      "text/plain": [
       "torch.Size([8, 768])"
      ]
     },
     "execution_count": 70,
     "metadata": {},
     "output_type": "execute_result"
    }
   ],
   "source": [
    "model.heads = nn.Identity()\n",
    "out = model(x)\n",
    "# 768 atributos extraídos de cada imagem do batch\n",
    "out.shape"
   ]
  }
 ],
 "metadata": {
  "kernelspec": {
   "display_name": "vc2024",
   "language": "python",
   "name": "python3"
  },
  "language_info": {
   "codemirror_mode": {
    "name": "ipython",
    "version": 3
   },
   "file_extension": ".py",
   "mimetype": "text/x-python",
   "name": "python",
   "nbconvert_exporter": "python",
   "pygments_lexer": "ipython3",
   "version": "3.12.2"
  }
 },
 "nbformat": 4,
 "nbformat_minor": 2
}
