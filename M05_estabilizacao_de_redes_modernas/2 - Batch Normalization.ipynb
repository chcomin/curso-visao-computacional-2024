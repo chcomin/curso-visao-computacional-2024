{
 "cells": [
  {
   "cell_type": "markdown",
   "metadata": {},
   "source": [
    "# Estabilizando rede neurais - Batch Normalization"
   ]
  },
  {
   "cell_type": "markdown",
   "metadata": {},
   "source": [
    "### Problemas com redes profundas"
   ]
  },
  {
   "cell_type": "code",
   "execution_count": 1,
   "metadata": {},
   "outputs": [
    {
     "data": {
      "text/plain": [
       "Model(\n",
       "  (layers): ModuleList(\n",
       "    (0): Conv2d(1, 16, kernel_size=(3, 3), stride=(1, 1), padding=(1, 1), bias=False)\n",
       "    (1): ReLU()\n",
       "    (2): Conv2d(16, 16, kernel_size=(3, 3), stride=(1, 1), padding=(1, 1), bias=False)\n",
       "    (3): ReLU()\n",
       "    (4): Conv2d(16, 16, kernel_size=(3, 3), stride=(1, 1), padding=(1, 1), bias=False)\n",
       "    (5): ReLU()\n",
       "    (6): Conv2d(16, 16, kernel_size=(3, 3), stride=(1, 1), padding=(1, 1), bias=False)\n",
       "    (7): ReLU()\n",
       "    (8): Conv2d(16, 16, kernel_size=(3, 3), stride=(1, 1), padding=(1, 1), bias=False)\n",
       "    (9): ReLU()\n",
       "    (10): Conv2d(16, 16, kernel_size=(3, 3), stride=(1, 1), padding=(1, 1), bias=False)\n",
       "    (11): ReLU()\n",
       "    (12): Conv2d(16, 16, kernel_size=(3, 3), stride=(1, 1), padding=(1, 1), bias=False)\n",
       "    (13): ReLU()\n",
       "    (14): Conv2d(16, 16, kernel_size=(3, 3), stride=(1, 1), padding=(1, 1), bias=False)\n",
       "    (15): ReLU()\n",
       "    (16): Conv2d(16, 16, kernel_size=(3, 3), stride=(1, 1), padding=(1, 1), bias=False)\n",
       "    (17): ReLU()\n",
       "    (18): Conv2d(16, 16, kernel_size=(3, 3), stride=(1, 1), padding=(1, 1), bias=False)\n",
       "    (19): ReLU()\n",
       "  )\n",
       "  (pool): AdaptiveMaxPool2d(output_size=2)\n",
       "  (fc): Linear(in_features=64, out_features=10, bias=True)\n",
       ")"
      ]
     },
     "execution_count": 1,
     "metadata": {},
     "output_type": "execute_result"
    }
   ],
   "source": [
    "import matplotlib.pyplot as plt\n",
    "import torch\n",
    "from torch import nn\n",
    "\n",
    "def conv3x3(in_channels, out_channels):\n",
    "    return nn.Conv2d(in_channels, out_channels, kernel_size=3, padding=1, bias=False)\n",
    "\n",
    "class Model(nn.Module):\n",
    "    '''Modelo com n camadas convolucionais.'''\n",
    "    def __init__(self, num_layers, features):\n",
    "        super().__init__()\n",
    "        \n",
    "        layers = [\n",
    "            conv3x3(1,features),\n",
    "            nn.ReLU()\n",
    "        ]\n",
    "        for idx in range(1, num_layers):\n",
    "            layers.append(conv3x3(features,features))\n",
    "            layers.append(nn.ReLU())\n",
    "        self.layers = nn.ModuleList(layers)\n",
    "\n",
    "        self.pool = nn.AdaptiveMaxPool2d(2)\n",
    "        # Camada linear que recebe features imagens de tamanho 2x2 e gera 10 valores de saída\n",
    "        self.fc = nn.Linear(features*2*2, 10)\n",
    "\n",
    "    def forward(self, x):\n",
    "        '''Além de calcular o resultado, este método retorna as ativações\n",
    "        inermediárias da rede.'''\n",
    "        acts = []\n",
    "        for layer in self.layers:\n",
    "            x = layer(x)\n",
    "            acts.append(x)\n",
    "        x = self.pool(x)\n",
    "        # Transformação das imagens de tamanho bs x features x 2 x 2 para bs x features*2*2\n",
    "        x = x.reshape(x.shape[0], -1)\n",
    "        x = self.fc(x)\n",
    "\n",
    "        return x, acts\n",
    "    \n",
    "model = Model(10, 16)\n",
    "model"
   ]
  },
  {
   "cell_type": "markdown",
   "metadata": {},
   "source": [
    "Execute a célula abaixo diversas vezes com ctrl+enter. A saída da rede é sempre a mesma!"
   ]
  },
  {
   "cell_type": "code",
   "execution_count": 23,
   "metadata": {},
   "outputs": [
    {
     "name": "stdout",
     "output_type": "stream",
     "text": [
      "tensor([0.1880, 0.1356, 0.7953, 0.4343, 0.0365, 0.5274, 0.6057, 0.2733, 0.5580,\n",
      "        0.2604, 0.0525, 0.5954, 0.5802, 0.3762, 0.3247, 0.7492, 0.6043, 0.2902,\n",
      "        0.0463, 0.8151, 0.2244, 0.0532, 0.1106, 0.7502, 0.6842, 0.9088, 0.1076,\n",
      "        0.3317])\n",
      "tensor([[-0.0213,  0.0993, -0.0237,  0.0249,  0.0119,  0.0895,  0.0157, -0.1136,\n",
      "         -0.0405,  0.0689]], grad_fn=<AddmmBackward0>)\n"
     ]
    }
   ],
   "source": [
    "x = torch.rand(1, 1, 28, 28)\n",
    "y, acts = model(x)\n",
    "\n",
    "print(x[0,0,0])\n",
    "print(y)"
   ]
  },
  {
   "cell_type": "markdown",
   "metadata": {},
   "source": [
    "A saída da rede é dada apenas pelo bias da última camada:"
   ]
  },
  {
   "cell_type": "code",
   "execution_count": 25,
   "metadata": {},
   "outputs": [
    {
     "name": "stdout",
     "output_type": "stream",
     "text": [
      "tensor([[-0.0213,  0.0993, -0.0237,  0.0249,  0.0119,  0.0895,  0.0157, -0.1136,\n",
      "         -0.0405,  0.0689]], grad_fn=<AddmmBackward0>)\n",
      "tensor([-0.0213,  0.0994, -0.0237,  0.0249,  0.0119,  0.0895,  0.0157, -0.1136,\n",
      "        -0.0405,  0.0689])\n"
     ]
    }
   ],
   "source": [
    "print(y)\n",
    "print(model.fc.bias.detach())"
   ]
  },
  {
   "cell_type": "markdown",
   "metadata": {},
   "source": [
    "Plotando a média e desvio padrão das ativações intermediárias da rede, vemos que os valores caem para zero:"
   ]
  },
  {
   "cell_type": "code",
   "execution_count": 4,
   "metadata": {},
   "outputs": [
    {
     "data": {
      "image/png": "[encoded data removed]",
      "text/plain": [
       "<Figure size 320x240 with 1 Axes>"
      ]
     },
     "metadata": {},
     "output_type": "display_data"
    }
   ],
   "source": [
    "def show_activations(acts):\n",
    "    act_mean = []\n",
    "    act_std = []\n",
    "    for act in acts:\n",
    "        act = act.detach()\n",
    "        act_mean.append(act.mean())\n",
    "        act_std.append(act.std())\n",
    "\n",
    "    plt.plot(act_mean)\n",
    "    plt.plot(act_std)\n",
    "\n",
    "show_activations(acts)"
   ]
  },
  {
   "cell_type": "markdown",
   "metadata": {},
   "source": [
    "Essencialmente, a operação que uma rede neural faz é dada por:"
   ]
  },
  {
   "cell_type": "code",
   "execution_count": 26,
   "metadata": {},
   "outputs": [
    {
     "name": "stdout",
     "output_type": "stream",
     "text": [
      "tensor([2.9904e+30, 2.8932e+30, 3.3234e+30, 3.4615e+30, 2.5454e+30, 3.1341e+30,\n",
      "        3.1211e+30, 3.0075e+30, 2.6490e+30, 3.7316e+30])\n"
     ]
    }
   ],
   "source": [
    "# Batch de dados\n",
    "x = torch.rand(10)\n",
    "# Parâmetros das camadas\n",
    "weight = 2.\n",
    "bias = 2.\n",
    "# 100 camadas\n",
    "for i in range(100):\n",
    "    x = (weight*x+bias)\n",
    "print(x)"
   ]
  },
  {
   "cell_type": "markdown",
   "metadata": {},
   "source": [
    "Tente achar valores de `weight` e `bias` que não levem o valor de x acima a 0, infinito ou algum valor trivial."
   ]
  },
  {
   "cell_type": "markdown",
   "metadata": {},
   "source": [
    "### Batch Normalization"
   ]
  },
  {
   "cell_type": "markdown",
   "metadata": {},
   "source": [
    "Ao normalizarmos os valores, as ativações se tornam bem comportadas!"
   ]
  },
  {
   "cell_type": "code",
   "execution_count": 27,
   "metadata": {},
   "outputs": [
    {
     "name": "stdout",
     "output_type": "stream",
     "text": [
      "tensor([ 0.3380, -1.1615,  0.6598,  1.6353,  0.2101, -1.1059, -1.1178,  0.7364,\n",
      "         0.7241, -0.9186])\n"
     ]
    }
   ],
   "source": [
    "def normalization(x):\n",
    "    mean = x.mean()\n",
    "    std = x.std()\n",
    "    return (x-mean)/std\n",
    "\n",
    "x = torch.rand(10)\n",
    "weight = 20.\n",
    "bias = -10.\n",
    "for i in range(10):\n",
    "    x = (weight*x+bias)\n",
    "    x = normalization(x)\n",
    "print(x)"
   ]
  },
  {
   "cell_type": "markdown",
   "metadata": {},
   "source": [
    "Mas e se a escala dos valores for relevante para a classificação? Por exemplo, talvez um filtro tenda a gerar valores em torno de 10, enquanto que outro filtro gere valores em torno de 0.1. Essa informação será perdida após a normalização.\n",
    "\n",
    "Uma camada batchnorm permite reescalar os valores caso seja necessário. Os parâmetros de escala são aprendidos durante o treinamento."
   ]
  },
  {
   "cell_type": "code",
   "execution_count": 28,
   "metadata": {},
   "outputs": [
    {
     "data": {
      "text/plain": [
       "tensor([-1.1354,  1.0410,  0.6823,  1.2006, -1.2318,  0.6611,  0.9026, -1.0669,\n",
       "        -0.8861, -0.1673], grad_fn=<AddBackward0>)"
      ]
     },
     "execution_count": 28,
     "metadata": {},
     "output_type": "execute_result"
    }
   ],
   "source": [
    "class BatchNorm(nn.Module):\n",
    "    def __init__(self):\n",
    "        super().__init__()\n",
    "        # nn.Parameter define um tensor com requires_grad=True e que é registrado \n",
    "        # como parâmetro treinável do modelo\n",
    "        self.gamma = nn.Parameter(torch.tensor(1.))\n",
    "        self.beta = nn.Parameter(torch.tensor(0.))\n",
    "\n",
    "        self.eps = 1e-5\n",
    "\n",
    "    def forward(self, x):\n",
    "\n",
    "        mean = x.mean()\n",
    "        var = x.var()   # Variância\n",
    "        # eps evita divisão por 0\n",
    "        x_norm = (x-mean)/torch.sqrt(var+self.eps)\n",
    "\n",
    "        # Reescala os valores\n",
    "        y = self.gamma*x_norm + self.beta\n",
    "\n",
    "        return y\n",
    "    \n",
    "bn = BatchNorm()\n",
    "bn(100*torch.rand(10))\n"
   ]
  },
  {
   "cell_type": "markdown",
   "metadata": {},
   "source": [
    "Mas temos um problema. E quando formos aplicar a rede após o treinamento em uma única imagem? Cada camada terá apenas uma única ativação, o que pode ser um problema. Para evitar isso, durante o treinamento podemos armazenar a média e desvio padrão de todos os batches, e usar a estimativa desses parâmetros de todos os batches para normalizar os valores ao aplicar em uma única imagem."
   ]
  },
  {
   "cell_type": "markdown",
   "metadata": {},
   "source": [
    "### Desvendando a camada BatchNorm do Pytorch"
   ]
  },
  {
   "cell_type": "code",
   "execution_count": 29,
   "metadata": {},
   "outputs": [
    {
     "name": "stdout",
     "output_type": "stream",
     "text": [
      "Parameter containing:\n",
      "tensor([1., 1., 1.], requires_grad=True)\n",
      "Parameter containing:\n",
      "tensor([0., 0., 0.], requires_grad=True)\n"
     ]
    }
   ],
   "source": [
    "# Batchnorm aplicado em 3 canais\n",
    "bn = nn.BatchNorm1d(3)\n",
    "print(bn.weight)\n",
    "print(bn.bias)"
   ]
  },
  {
   "cell_type": "markdown",
   "metadata": {},
   "source": [
    "A longo de vários batches, a camada estima a média e variância dos dados:"
   ]
  },
  {
   "cell_type": "code",
   "execution_count": 30,
   "metadata": {},
   "outputs": [
    {
     "name": "stdout",
     "output_type": "stream",
     "text": [
      "mean tensor([0.3976, 0.3957, 0.3768])\n",
      "mean tensor([0.8059, 0.7492, 0.7223])\n",
      "mean tensor([1.1346, 1.0626, 1.0561])\n",
      "mean tensor([1.4222, 1.3861, 1.3661])\n",
      "mean tensor([1.6574, 1.6237, 1.6162])\n",
      "mean tensor([1.9095, 1.8259, 1.8565])\n",
      "mean tensor([2.1217, 2.0394, 2.0852])\n",
      "mean tensor([2.3098, 2.2675, 2.2550])\n",
      "mean tensor([2.4725, 2.4673, 2.3974])\n",
      "mean tensor([2.6355, 2.6099, 2.5412])\n",
      "mean tensor([2.7651, 2.7594, 2.7023])\n",
      "mean tensor([2.8893, 2.8686, 2.8218])\n",
      "mean tensor([2.9997, 2.9632, 2.9677])\n",
      "mean tensor([3.1022, 3.0244, 3.0622])\n",
      "mean tensor([3.2035, 3.0938, 3.1895])\n",
      "mean tensor([3.2991, 3.1593, 3.3072])\n",
      "mean tensor([3.3573, 3.3134, 3.3960])\n",
      "mean tensor([3.4208, 3.3631, 3.4800])\n",
      "mean tensor([3.4661, 3.4020, 3.5291])\n",
      "mean tensor([3.5498, 3.4867, 3.5969])\n",
      "mean tensor([3.6073, 3.5241, 3.6387])\n",
      "mean tensor([3.6699, 3.5395, 3.6787])\n",
      "mean tensor([3.6694, 3.5671, 3.7246])\n",
      "mean tensor([3.6965, 3.6042, 3.7235])\n",
      "mean tensor([3.7274, 3.6424, 3.7647])\n",
      "mean tensor([3.7780, 3.6519, 3.7687])\n",
      "mean tensor([3.7888, 3.6809, 3.7797])\n",
      "mean tensor([3.8073, 3.7113, 3.8068])\n",
      "mean tensor([3.8244, 3.7545, 3.8334])\n",
      "mean tensor([3.8264, 3.7830, 3.8716])\n",
      "mean tensor([3.8300, 3.7889, 3.9141])\n",
      "mean tensor([3.8623, 3.7468, 3.9152])\n",
      "mean tensor([3.8341, 3.7541, 3.9534])\n",
      "mean tensor([3.8434, 3.8015, 3.9856])\n",
      "mean tensor([3.8526, 3.8223, 3.9462])\n",
      "mean tensor([3.8517, 3.8378, 3.9761])\n",
      "mean tensor([3.8438, 3.8401, 3.9668])\n",
      "mean tensor([3.8642, 3.8452, 3.9733])\n",
      "mean tensor([3.8479, 3.9210, 3.9816])\n",
      "mean tensor([3.8947, 3.9096, 3.9903])\n",
      "mean tensor([3.8955, 3.9041, 3.9954])\n",
      "mean tensor([3.9262, 3.9255, 4.0017])\n",
      "mean tensor([3.9330, 3.9506, 4.0147])\n",
      "mean tensor([3.9507, 3.9630, 4.0292])\n",
      "mean tensor([3.9994, 3.9475, 4.0406])\n",
      "mean tensor([3.9959, 3.9229, 4.0301])\n",
      "mean tensor([4.0080, 3.9187, 4.0357])\n",
      "mean tensor([4.0056, 3.9199, 4.0490])\n",
      "mean tensor([4.0450, 3.9415, 4.0420])\n",
      "mean tensor([4.0312, 3.9284, 4.0734])\n",
      "mean tensor([3.9864, 3.9300, 4.0556])\n",
      "mean tensor([3.9589, 3.9266, 4.0431])\n",
      "mean tensor([3.9867, 3.9126, 4.0195])\n",
      "mean tensor([3.9958, 3.9357, 4.0497])\n",
      "mean tensor([4.0244, 3.9635, 4.0662])\n",
      "mean tensor([4.0389, 3.9813, 4.0277])\n",
      "mean tensor([4.0443, 3.9854, 4.0228])\n",
      "mean tensor([4.0306, 4.0075, 4.0448])\n",
      "mean tensor([4.0237, 4.0458, 4.0340])\n",
      "mean tensor([4.0257, 4.0488, 4.0286])\n",
      "mean tensor([3.9949, 4.0516, 4.0343])\n",
      "mean tensor([4.0100, 4.0133, 4.0322])\n",
      "mean tensor([4.0325, 4.0254, 4.0366])\n",
      "mean tensor([4.0273, 4.0158, 4.0170])\n",
      "mean tensor([4.0431, 4.0443, 4.0287])\n",
      "mean tensor([4.0278, 4.0511, 4.0070])\n",
      "mean tensor([3.9898, 4.0301, 4.0204])\n",
      "mean tensor([3.9648, 4.0416, 4.0145])\n",
      "mean tensor([3.9515, 4.0244, 4.0053])\n",
      "mean tensor([3.9637, 4.0306, 4.0410])\n",
      "mean tensor([3.9500, 4.0457, 4.0739])\n",
      "mean tensor([3.9473, 4.0380, 4.0532])\n",
      "mean tensor([3.9204, 4.0270, 4.0257])\n",
      "mean tensor([3.9261, 3.9844, 4.0343])\n",
      "mean tensor([3.9312, 4.0264, 4.0279])\n",
      "mean tensor([3.9750, 4.0034, 4.0117])\n",
      "mean tensor([3.9444, 4.0064, 4.0049])\n",
      "mean tensor([3.9427, 4.0196, 3.9664])\n",
      "mean tensor([3.9514, 4.0353, 3.9674])\n",
      "mean tensor([3.9513, 4.0525, 3.9508])\n",
      "mean tensor([3.9580, 4.0484, 3.9422])\n",
      "mean tensor([3.9604, 4.0425, 3.9365])\n",
      "mean tensor([3.9599, 4.0344, 3.9480])\n",
      "mean tensor([3.9343, 4.0261, 3.9618])\n",
      "mean tensor([3.9482, 4.0090, 3.9556])\n",
      "mean tensor([3.9584, 3.9967, 3.9836])\n",
      "mean tensor([3.9577, 3.9718, 3.9914])\n",
      "mean tensor([3.9809, 3.9848, 4.0180])\n",
      "mean tensor([4.0188, 4.0147, 3.9993])\n",
      "mean tensor([4.0376, 4.0153, 4.0041])\n",
      "mean tensor([4.0377, 3.9962, 4.0020])\n",
      "mean tensor([4.0177, 4.0179, 4.0092])\n",
      "mean tensor([4.0141, 4.0059, 4.0271])\n",
      "mean tensor([4.0095, 4.0380, 4.0357])\n",
      "mean tensor([4.0049, 4.0116, 4.0401])\n",
      "mean tensor([3.9714, 4.0002, 4.0398])\n",
      "mean tensor([3.9976, 3.9988, 4.0543])\n",
      "mean tensor([4.0086, 4.0175, 4.0460])\n",
      "mean tensor([4.0196, 4.0178, 4.0550])\n",
      "mean tensor([4.0207, 4.0025, 4.0268])\n"
     ]
    }
   ],
   "source": [
    "for i in range(100):\n",
    "    # Batches de 4 elementos, 3 canais cada e 6 valores para cada canal\n",
    "    # Os valores gerados possuem média 4 e variância 9.\n",
    "    x = torch.normal(mean=4, std=1, size=(4,3,6))\n",
    "    _ = bn(x)\n",
    "    print('mean', bn.running_mean)\n",
    "    #print('var', bn.running_var)\n",
    "\n"
   ]
  },
  {
   "cell_type": "markdown",
   "metadata": {},
   "source": [
    "No modo eval, a média estimada é usada quando a camada for aplicada em novos dados:"
   ]
  },
  {
   "cell_type": "code",
   "execution_count": 31,
   "metadata": {},
   "outputs": [
    {
     "name": "stdout",
     "output_type": "stream",
     "text": [
      "tensor(5.9248, grad_fn=<MeanBackward0>)\n"
     ]
    }
   ],
   "source": [
    "# Batch de tamanho 1000 com valores de média 10\n",
    "# A média do resultado deve ser aproximadamente 10-bn.running_mean\n",
    "x = torch.normal(mean=10, std=6, size=(1000,3,60))\n",
    "bn.eval()\n",
    "y = bn(x)\n",
    "print(y.mean())"
   ]
  },
  {
   "cell_type": "markdown",
   "metadata": {},
   "source": [
    "Retornando o batchnorm para o modo .train faz com que a camada volte a normalizar pela média e desvio do batch:"
   ]
  },
  {
   "cell_type": "code",
   "execution_count": 32,
   "metadata": {},
   "outputs": [
    {
     "name": "stdout",
     "output_type": "stream",
     "text": [
      "tensor(-3.6621e-08, grad_fn=<MeanBackward0>)\n"
     ]
    }
   ],
   "source": [
    "x = torch.normal(mean=10, std=6, size=(1000,3,60))\n",
    "bn.train()\n",
    "y = bn(x)\n",
    "print(y.mean())"
   ]
  }
 ],
 "metadata": {
  "kernelspec": {
   "display_name": "pytorch",
   "language": "python",
   "name": "python3"
  },
  "language_info": {
   "codemirror_mode": {
    "name": "ipython",
    "version": 3
   },
   "file_extension": ".py",
   "mimetype": "text/x-python",
   "name": "python",
   "nbconvert_exporter": "python",
   "pygments_lexer": "ipython3",
   "version": "3.12.2"
  }
 },
 "nbformat": 4,
 "nbformat_minor": 2
}
