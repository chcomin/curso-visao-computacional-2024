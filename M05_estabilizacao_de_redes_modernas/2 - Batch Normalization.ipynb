{
 "cells": [
  {
   "cell_type": "markdown",
   "metadata": {},
   "source": [
    "# Estabilizando rede neurais - Batch Normalization"
   ]
  },
  {
   "cell_type": "markdown",
   "metadata": {},
   "source": [
    "### Problemas com redes profundas"
   ]
  },
  {
   "cell_type": "code",
   "execution_count": 1,
   "metadata": {},
   "outputs": [
    {
     "data": {
      "text/plain": [
       "Model(\n",
       "  (layers): ModuleList(\n",
       "    (0): Conv2d(1, 16, kernel_size=(3, 3), stride=(1, 1), padding=(1, 1), bias=False)\n",
       "    (1): ReLU()\n",
       "    (2): Conv2d(16, 16, kernel_size=(3, 3), stride=(1, 1), padding=(1, 1), bias=False)\n",
       "    (3): ReLU()\n",
       "    (4): Conv2d(16, 16, kernel_size=(3, 3), stride=(1, 1), padding=(1, 1), bias=False)\n",
       "    (5): ReLU()\n",
       "    (6): Conv2d(16, 16, kernel_size=(3, 3), stride=(1, 1), padding=(1, 1), bias=False)\n",
       "    (7): ReLU()\n",
       "    (8): Conv2d(16, 16, kernel_size=(3, 3), stride=(1, 1), padding=(1, 1), bias=False)\n",
       "    (9): ReLU()\n",
       "    (10): Conv2d(16, 16, kernel_size=(3, 3), stride=(1, 1), padding=(1, 1), bias=False)\n",
       "    (11): ReLU()\n",
       "    (12): Conv2d(16, 16, kernel_size=(3, 3), stride=(1, 1), padding=(1, 1), bias=False)\n",
       "    (13): ReLU()\n",
       "    (14): Conv2d(16, 16, kernel_size=(3, 3), stride=(1, 1), padding=(1, 1), bias=False)\n",
       "    (15): ReLU()\n",
       "    (16): Conv2d(16, 16, kernel_size=(3, 3), stride=(1, 1), padding=(1, 1), bias=False)\n",
       "    (17): ReLU()\n",
       "    (18): Conv2d(16, 16, kernel_size=(3, 3), stride=(1, 1), padding=(1, 1), bias=False)\n",
       "    (19): ReLU()\n",
       "  )\n",
       "  (pool): AdaptiveMaxPool2d(output_size=2)\n",
       "  (fc): Linear(in_features=64, out_features=10, bias=True)\n",
       ")"
      ]
     },
     "execution_count": 1,
     "metadata": {},
     "output_type": "execute_result"
    }
   ],
   "source": [
    "import matplotlib.pyplot as plt\n",
    "import torch\n",
    "from torch import nn\n",
    "\n",
    "def conv3x3(in_channels, out_channels):\n",
    "    return nn.Conv2d(in_channels, out_channels, kernel_size=3, padding=1, bias=False)\n",
    "\n",
    "class Model(nn.Module):\n",
    "    '''Modelo com n camadas convolucionais.'''\n",
    "    def __init__(self, num_layers, features):\n",
    "        super().__init__()\n",
    "        \n",
    "        layers = [\n",
    "            conv3x3(1,features),\n",
    "            nn.ReLU()\n",
    "        ]\n",
    "        for idx in range(1, num_layers):\n",
    "            layers.append(conv3x3(features,features))\n",
    "            layers.append(nn.ReLU())\n",
    "        self.layers = nn.ModuleList(layers)\n",
    "\n",
    "        self.pool = nn.AdaptiveMaxPool2d(2)\n",
    "        # Camada linear que recebe features imagens de tamanho 2x2 e gera 10 valores de saída\n",
    "        self.fc = nn.Linear(features*2*2, 10)\n",
    "\n",
    "    def forward(self, x):\n",
    "        acts = []\n",
    "        for layer in self.layers:\n",
    "            x = layer(x)\n",
    "            acts.append(x)\n",
    "        x = self.pool(x)\n",
    "        # Transformação das imagens de tamanho bs x features x 2 x 2 para bs x features*2*2\n",
    "        x = x.reshape(x.shape[0], -1)\n",
    "        x = self.fc(x)\n",
    "\n",
    "        return x, acts\n",
    "    \n",
    "model = Model(10, 16)\n",
    "model"
   ]
  },
  {
   "cell_type": "markdown",
   "metadata": {},
   "source": [
    "Execute a célula abaixo diversas vezes com ctrl+enter. A saída é sempre a mesma!"
   ]
  },
  {
   "cell_type": "code",
   "execution_count": 2,
   "metadata": {},
   "outputs": [
    {
     "name": "stdout",
     "output_type": "stream",
     "text": [
      "tensor([0.8473, 0.6993, 0.6797, 0.8377, 0.5288, 0.7625, 0.5635, 0.6401, 0.9126,\n",
      "        0.3690, 0.0333, 0.6792, 0.2206, 0.6391, 0.2469, 0.9062, 0.0577, 0.1945,\n",
      "        0.7032, 0.8367, 0.5065, 0.3833, 0.4205, 0.3516, 0.0329, 0.7910, 0.2805,\n",
      "        0.3771])\n",
      "tensor([[ 0.0629, -0.0275,  0.0358, -0.0511,  0.0846, -0.0625, -0.0376, -0.0450,\n",
      "          0.0303, -0.0785]], grad_fn=<AddmmBackward0>)\n"
     ]
    }
   ],
   "source": [
    "x = torch.rand(1, 1, 28, 28)\n",
    "y, acts = model(x)\n",
    "\n",
    "print(x[0,0,0])\n",
    "print(y)"
   ]
  },
  {
   "cell_type": "markdown",
   "metadata": {},
   "source": [
    "A saída da rede é dada apenas pelo bias da última camada:"
   ]
  },
  {
   "cell_type": "code",
   "execution_count": 3,
   "metadata": {},
   "outputs": [
    {
     "name": "stdout",
     "output_type": "stream",
     "text": [
      "tensor([[ 0.0629, -0.0275,  0.0358, -0.0511,  0.0846, -0.0625, -0.0376, -0.0450,\n",
      "          0.0303, -0.0785]], grad_fn=<AddmmBackward0>)\n",
      "tensor([ 0.0629, -0.0275,  0.0359, -0.0511,  0.0845, -0.0624, -0.0377, -0.0450,\n",
      "         0.0303, -0.0786])\n"
     ]
    }
   ],
   "source": [
    "print(y)\n",
    "print(model.fc.bias.detach())"
   ]
  },
  {
   "cell_type": "markdown",
   "metadata": {},
   "source": [
    "Plotando a média e desvio padrão das ativações intermediárias da rede, vemos que os valores caem para zero:"
   ]
  },
  {
   "cell_type": "code",
   "execution_count": 4,
   "metadata": {},
   "outputs": [
    {
     "data": {
      "image/png": "[encoded data removed]",
      "text/plain": [
       "<Figure size 320x240 with 1 Axes>"
      ]
     },
     "metadata": {},
     "output_type": "display_data"
    }
   ],
   "source": [
    "def show_activations(acts):\n",
    "    act_mean = []\n",
    "    act_std = []\n",
    "    for act in acts:\n",
    "        act = act.detach()\n",
    "        act_mean.append(act.mean())\n",
    "        act_std.append(act.std())\n",
    "\n",
    "    plt.plot(act_mean)\n",
    "    plt.plot(act_std)\n",
    "\n",
    "show_activations(acts)"
   ]
  },
  {
   "cell_type": "markdown",
   "metadata": {},
   "source": [
    "Essencialmente, a operação que uma rede neural faz é dada por:"
   ]
  },
  {
   "cell_type": "code",
   "execution_count": 5,
   "metadata": {},
   "outputs": [
    {
     "name": "stdout",
     "output_type": "stream",
     "text": [
      "tensor([2.6831e+30, 2.5841e+30, 3.2441e+30, 3.3194e+30, 3.0015e+30, 3.2231e+30,\n",
      "        3.4129e+30, 2.5755e+30, 3.1955e+30, 3.2483e+30])\n"
     ]
    }
   ],
   "source": [
    "# Batch de dados\n",
    "x = torch.rand(10)\n",
    "# Parâmetros das camadas\n",
    "weight = 2.\n",
    "bias = 2.\n",
    "# 100 camadas\n",
    "for i in range(100):\n",
    "    x = (weight*x+bias)\n",
    "print(x)"
   ]
  },
  {
   "cell_type": "markdown",
   "metadata": {},
   "source": [
    "Tente achar valores de `weight` e `bias` que não levem o valor de x acima a 0, infinito ou algum valor trivial."
   ]
  },
  {
   "cell_type": "markdown",
   "metadata": {},
   "source": [
    "### Batch Normalization"
   ]
  },
  {
   "cell_type": "markdown",
   "metadata": {},
   "source": [
    "Ao normalizarmos os valores, as ativações se tornam bem comportadas!"
   ]
  },
  {
   "cell_type": "code",
   "execution_count": 6,
   "metadata": {},
   "outputs": [
    {
     "name": "stdout",
     "output_type": "stream",
     "text": [
      "tensor([-0.1140,  0.1620, -0.7996, -1.3525, -0.1127,  0.4383, -1.4303,  1.7541,\n",
      "         0.9583,  0.4964])\n"
     ]
    }
   ],
   "source": [
    "def normalization(x):\n",
    "    mean = x.mean()\n",
    "    std = x.std()\n",
    "    return (x-mean)/std\n",
    "\n",
    "x = torch.rand(10)\n",
    "weight = 20.\n",
    "bias = -10.\n",
    "for i in range(10):\n",
    "    x = (weight*x+bias)\n",
    "    x = normalization(x)\n",
    "print(x)"
   ]
  },
  {
   "cell_type": "markdown",
   "metadata": {},
   "source": [
    "Mas e se a escala dos valores for relevante para a classificação? Por exemplo, talvez um filtro tenda a gerar valores em torno de 10, enquanto que outro filtro gere valores em torno de 0.1. Essa informação será perdida após a normalização.\n",
    "\n",
    "Uma camada batchnorm permite reescalar os valores caso seja necessário. Os parâmetros de escala são aprendidos durante o treinamento."
   ]
  },
  {
   "cell_type": "code",
   "execution_count": 7,
   "metadata": {},
   "outputs": [
    {
     "data": {
      "text/plain": [
       "tensor([-0.9673,  0.0576, -0.4464,  1.7995,  0.0592,  0.4724, -0.8892, -0.0076,\n",
       "         1.3030, -1.3814], grad_fn=<AddBackward0>)"
      ]
     },
     "execution_count": 7,
     "metadata": {},
     "output_type": "execute_result"
    }
   ],
   "source": [
    "class BatchNorm(nn.Module):\n",
    "    def __init__(self):\n",
    "        super().__init__()\n",
    "        # nn.Parameter define um tensor com requires_grad=True e que é registrado \n",
    "        # como parâmetro treinável do modelo\n",
    "        self.gamma = nn.Parameter(torch.tensor(1.))\n",
    "        self.beta = nn.Parameter(torch.tensor(0.))\n",
    "\n",
    "        self.eps = 1e-5\n",
    "\n",
    "    def forward(self, x):\n",
    "\n",
    "        mean = x.mean()\n",
    "        var = x.var()   # Variância\n",
    "        # eps evita divisão por 0\n",
    "        x_norm = (x-mean)/torch.sqrt(var+self.eps)\n",
    "\n",
    "        # Reescala os valores\n",
    "        y = self.gamma*x_norm + self.beta\n",
    "\n",
    "        return y\n",
    "    \n",
    "bn = BatchNorm()\n",
    "bn(100*torch.rand(10))\n"
   ]
  },
  {
   "cell_type": "markdown",
   "metadata": {},
   "source": [
    "Mas temos um problema. E quando formos aplicar a rede após o treinamento em uma única imagem? Cada camada terá apenas uma única ativação, o que pode ser um problema. Para evitar isso, durante o treinamento podemos armazenar a média e desvio padrão de todos os batches, e usar a estimativa desses parâmetros de todos os batches para normalizar os valores ao aplicar em uma única imagem."
   ]
  },
  {
   "cell_type": "markdown",
   "metadata": {},
   "source": [
    "### Desvendando a camada BatchNorm do Pytorch"
   ]
  },
  {
   "cell_type": "code",
   "execution_count": 8,
   "metadata": {},
   "outputs": [
    {
     "name": "stdout",
     "output_type": "stream",
     "text": [
      "Parameter containing:\n",
      "tensor([1., 1., 1.], requires_grad=True)\n",
      "Parameter containing:\n",
      "tensor([0., 0., 0.], requires_grad=True)\n"
     ]
    }
   ],
   "source": [
    "# Batchnorm aplicado em 3 canais\n",
    "bn = nn.BatchNorm1d(3)\n",
    "print(bn.weight)\n",
    "print(bn.bias)"
   ]
  },
  {
   "cell_type": "markdown",
   "metadata": {},
   "source": [
    "A longo de vários batches, a camada estima a média e variância dos dados:"
   ]
  },
  {
   "cell_type": "code",
   "execution_count": 9,
   "metadata": {},
   "outputs": [
    {
     "name": "stdout",
     "output_type": "stream",
     "text": [
      "mean tensor([0.3825, 0.4098, 0.4038])\n",
      "mean tensor([0.7556, 0.7789, 0.7328])\n",
      "mean tensor([1.0560, 1.1236, 1.0624])\n",
      "mean tensor([1.3408, 1.3960, 1.3496])\n",
      "mean tensor([1.6135, 1.6755, 1.6234])\n",
      "mean tensor([1.8706, 1.9412, 1.8425])\n",
      "mean tensor([2.0712, 2.1825, 2.0699])\n",
      "mean tensor([2.2403, 2.3370, 2.2614])\n",
      "mean tensor([2.4404, 2.4933, 2.4453])\n",
      "mean tensor([2.6201, 2.6510, 2.5843])\n",
      "mean tensor([2.7939, 2.7864, 2.7396])\n",
      "mean tensor([2.9021, 2.8785, 2.8963])\n",
      "mean tensor([2.9716, 3.0013, 3.0188])\n",
      "mean tensor([3.0809, 3.1256, 3.1079])\n",
      "mean tensor([3.1545, 3.2160, 3.1582])\n",
      "mean tensor([3.2282, 3.3161, 3.2074])\n",
      "mean tensor([3.3134, 3.4059, 3.3017])\n",
      "mean tensor([3.3674, 3.4433, 3.3521])\n",
      "mean tensor([3.4590, 3.4982, 3.4109])\n",
      "mean tensor([3.5065, 3.5586, 3.4915])\n",
      "mean tensor([3.5676, 3.5787, 3.5603])\n",
      "mean tensor([3.6255, 3.6332, 3.6401])\n",
      "mean tensor([3.6514, 3.6598, 3.6531])\n",
      "mean tensor([3.6433, 3.6989, 3.7077])\n",
      "mean tensor([3.6612, 3.7635, 3.7399])\n",
      "mean tensor([3.6653, 3.7983, 3.7768])\n",
      "mean tensor([3.7056, 3.8104, 3.7758])\n",
      "mean tensor([3.7121, 3.8309, 3.8176])\n",
      "mean tensor([3.7386, 3.8563, 3.8606])\n",
      "mean tensor([3.7178, 3.8607, 3.8614])\n",
      "mean tensor([3.7395, 3.8927, 3.9102])\n",
      "mean tensor([3.7545, 3.9008, 3.9417])\n",
      "mean tensor([3.7917, 3.9227, 3.9108])\n",
      "mean tensor([3.7721, 3.9511, 3.9443])\n",
      "mean tensor([3.8161, 3.9341, 3.9405])\n",
      "mean tensor([3.8188, 3.9552, 3.9251])\n",
      "mean tensor([3.8351, 3.9344, 3.9464])\n",
      "mean tensor([3.8367, 3.9754, 3.9266])\n",
      "mean tensor([3.8886, 3.9813, 3.9342])\n",
      "mean tensor([3.9126, 3.9950, 3.9616])\n",
      "mean tensor([3.9249, 3.9861, 3.9711])\n",
      "mean tensor([3.9200, 3.9699, 3.9659])\n",
      "mean tensor([3.9068, 3.9642, 3.9886])\n",
      "mean tensor([3.8817, 3.9583, 3.9735])\n",
      "mean tensor([3.9402, 3.9166, 3.9784])\n",
      "mean tensor([3.9188, 3.9774, 3.9490])\n",
      "mean tensor([3.9431, 3.9626, 3.9693])\n",
      "mean tensor([3.9490, 4.0007, 3.9747])\n",
      "mean tensor([3.9733, 4.0018, 3.9919])\n",
      "mean tensor([3.9944, 4.0155, 3.9999])\n",
      "mean tensor([3.9905, 3.9977, 3.9826])\n",
      "mean tensor([4.0069, 4.0007, 4.0007])\n",
      "mean tensor([3.9809, 4.0074, 3.9493])\n",
      "mean tensor([3.9713, 3.9692, 3.9087])\n",
      "mean tensor([3.9736, 4.0121, 3.9233])\n",
      "mean tensor([3.9911, 3.9759, 3.9257])\n",
      "mean tensor([3.9980, 4.0062, 3.9266])\n",
      "mean tensor([4.0190, 4.0031, 3.9343])\n",
      "mean tensor([4.0214, 3.9683, 3.9209])\n",
      "mean tensor([4.0372, 3.9935, 3.9167])\n",
      "mean tensor([4.0093, 3.9938, 3.9422])\n",
      "mean tensor([3.9815, 4.0091, 3.9238])\n",
      "mean tensor([3.9786, 3.9931, 3.9553])\n",
      "mean tensor([3.9561, 3.9436, 3.9631])\n",
      "mean tensor([3.9590, 3.9890, 3.9908])\n",
      "mean tensor([3.9754, 3.9667, 4.0072])\n",
      "mean tensor([3.9624, 3.9684, 4.0226])\n",
      "mean tensor([3.9952, 3.9592, 4.0160])\n",
      "mean tensor([4.0031, 3.9497, 3.9547])\n",
      "mean tensor([4.0141, 3.9632, 3.9540])\n",
      "mean tensor([4.0170, 3.9893, 3.9342])\n",
      "mean tensor([4.0281, 4.0106, 3.9384])\n",
      "mean tensor([4.0105, 4.0251, 3.9548])\n",
      "mean tensor([3.9905, 4.0333, 3.9401])\n",
      "mean tensor([4.0218, 4.0304, 3.9614])\n",
      "mean tensor([4.0032, 4.0273, 3.9336])\n",
      "mean tensor([3.9805, 4.0100, 3.9063])\n",
      "mean tensor([3.9716, 4.0082, 3.9441])\n",
      "mean tensor([3.9876, 3.9902, 3.9080])\n",
      "mean tensor([3.9909, 4.0295, 3.8911])\n",
      "mean tensor([3.9814, 4.0383, 3.8919])\n",
      "mean tensor([3.9959, 3.9939, 3.9343])\n",
      "mean tensor([4.0195, 4.0076, 3.9339])\n",
      "mean tensor([4.0561, 4.0192, 3.9627])\n",
      "mean tensor([4.0577, 4.0052, 3.9760])\n",
      "mean tensor([4.0410, 4.0057, 3.9687])\n",
      "mean tensor([4.0691, 4.0032, 3.9525])\n",
      "mean tensor([4.0732, 4.0289, 3.9316])\n",
      "mean tensor([4.0692, 4.0244, 3.9079])\n",
      "mean tensor([4.0454, 4.0275, 3.9253])\n",
      "mean tensor([4.0640, 3.9904, 3.9151])\n",
      "mean tensor([4.0020, 3.9830, 3.9567])\n",
      "mean tensor([4.0146, 3.9985, 3.9536])\n",
      "mean tensor([4.0319, 3.9954, 3.9555])\n",
      "mean tensor([4.0215, 4.0008, 3.9419])\n",
      "mean tensor([4.0109, 3.9685, 3.9802])\n",
      "mean tensor([4.0055, 3.9656, 4.0127])\n",
      "mean tensor([4.0032, 3.9522, 4.0302])\n",
      "mean tensor([4.0119, 3.9742, 4.0107])\n",
      "mean tensor([4.0100, 3.9676, 4.0131])\n"
     ]
    }
   ],
   "source": [
    "for i in range(100):\n",
    "    # Batches de 4 elementos, 3 canais cada e 6 valores para cada canal\n",
    "    # Os valores gerados possuem média 4 e variância 9.\n",
    "    x = torch.normal(mean=4, std=1, size=(4,3,6))\n",
    "    _ = bn(x)\n",
    "    print('mean', bn.running_mean)\n",
    "    #print('var', bn.running_var)\n",
    "\n"
   ]
  },
  {
   "cell_type": "markdown",
   "metadata": {},
   "source": [
    "No modo eval, a média estimada é usada quando a camada for aplicada em novos dados:"
   ]
  },
  {
   "cell_type": "code",
   "execution_count": 10,
   "metadata": {},
   "outputs": [
    {
     "name": "stdout",
     "output_type": "stream",
     "text": [
      "tensor(5.9520, grad_fn=<MeanBackward0>)\n"
     ]
    }
   ],
   "source": [
    "# Batch de tamanho 1000 com valores de média 10\n",
    "# A média do resultado deve ser aproximadamente 10-bn.running_mean\n",
    "x = torch.normal(mean=10, std=6, size=(1000,3,60))\n",
    "bn.eval()\n",
    "y = bn(x)\n",
    "print(y.mean())"
   ]
  },
  {
   "cell_type": "markdown",
   "metadata": {},
   "source": [
    "Retornando o batchnorm para o modo .train faz com que a camada volte a normalizar pela média e desvio do batch:"
   ]
  },
  {
   "cell_type": "code",
   "execution_count": 11,
   "metadata": {},
   "outputs": [
    {
     "name": "stdout",
     "output_type": "stream",
     "text": [
      "tensor(7.5022e-09, grad_fn=<MeanBackward0>)\n"
     ]
    }
   ],
   "source": [
    "x = torch.normal(mean=10, std=6, size=(1000,3,60))\n",
    "bn.train()\n",
    "y = bn(x)\n",
    "print(y.mean())"
   ]
  }
 ],
 "metadata": {
  "kernelspec": {
   "display_name": "pytorch",
   "language": "python",
   "name": "python3"
  },
  "language_info": {
   "codemirror_mode": {
    "name": "ipython",
    "version": 3
   },
   "file_extension": ".py",
   "mimetype": "text/x-python",
   "name": "python",
   "nbconvert_exporter": "python",
   "pygments_lexer": "ipython3",
   "version": "3.12.2"
  }
 },
 "nbformat": 4,
 "nbformat_minor": 2
}
