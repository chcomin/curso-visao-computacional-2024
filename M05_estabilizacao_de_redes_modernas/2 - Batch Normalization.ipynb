{
 "cells": [
  {
   "cell_type": "markdown",
   "metadata": {},
   "source": [
    "# Estabilizando rede neurais - Batch Normalization"
   ]
  },
  {
   "cell_type": "markdown",
   "metadata": {},
   "source": [
    "### Problemas com redes profundas"
   ]
  },
  {
   "cell_type": "code",
   "execution_count": 84,
   "metadata": {},
   "outputs": [
    {
     "data": {
      "text/plain": [
       "Model(\n",
       "  (layers): ModuleList(\n",
       "    (0): Conv2d(1, 16, kernel_size=(3, 3), stride=(1, 1), padding=(1, 1), bias=False)\n",
       "    (1): ReLU()\n",
       "    (2): Conv2d(16, 16, kernel_size=(3, 3), stride=(1, 1), padding=(1, 1), bias=False)\n",
       "    (3): ReLU()\n",
       "    (4): Conv2d(16, 16, kernel_size=(3, 3), stride=(1, 1), padding=(1, 1), bias=False)\n",
       "    (5): ReLU()\n",
       "    (6): Conv2d(16, 16, kernel_size=(3, 3), stride=(1, 1), padding=(1, 1), bias=False)\n",
       "    (7): ReLU()\n",
       "    (8): Conv2d(16, 16, kernel_size=(3, 3), stride=(1, 1), padding=(1, 1), bias=False)\n",
       "    (9): ReLU()\n",
       "    (10): Conv2d(16, 16, kernel_size=(3, 3), stride=(1, 1), padding=(1, 1), bias=False)\n",
       "    (11): ReLU()\n",
       "    (12): Conv2d(16, 16, kernel_size=(3, 3), stride=(1, 1), padding=(1, 1), bias=False)\n",
       "    (13): ReLU()\n",
       "    (14): Conv2d(16, 16, kernel_size=(3, 3), stride=(1, 1), padding=(1, 1), bias=False)\n",
       "    (15): ReLU()\n",
       "    (16): Conv2d(16, 16, kernel_size=(3, 3), stride=(1, 1), padding=(1, 1), bias=False)\n",
       "    (17): ReLU()\n",
       "    (18): Conv2d(16, 16, kernel_size=(3, 3), stride=(1, 1), padding=(1, 1), bias=False)\n",
       "    (19): ReLU()\n",
       "  )\n",
       "  (pool): AdaptiveMaxPool2d(output_size=1)\n",
       "  (fc): Linear(in_features=16, out_features=10, bias=True)\n",
       ")"
      ]
     },
     "execution_count": 84,
     "metadata": {},
     "output_type": "execute_result"
    }
   ],
   "source": [
    "import matplotlib.pyplot as plt\n",
    "import torch\n",
    "from torch import nn\n",
    "\n",
    "def conv3x3(in_channels, out_channels):\n",
    "    \"\"\"Cria camada convolucional com filtro de tamanho 3 e sem bias.\"\"\"\n",
    "    return nn.Conv2d(in_channels, out_channels, kernel_size=3, padding=1, bias=False)\n",
    "\n",
    "class Model(nn.Module):\n",
    "    '''Modelo com `num_layers` camadas convolucionais, cada uma com `num_channels` canais.'''\n",
    "    def __init__(self, num_layers, num_channels):\n",
    "        super().__init__()\n",
    "        \n",
    "        layers = [\n",
    "            conv3x3(1,num_channels),\n",
    "            nn.ReLU()\n",
    "        ]\n",
    "        for idx in range(1, num_layers):\n",
    "            layers.append(conv3x3(num_channels,num_channels))\n",
    "            layers.append(nn.ReLU())\n",
    "        self.layers = nn.ModuleList(layers)\n",
    "\n",
    "        self.pool = nn.AdaptiveMaxPool2d(1)\n",
    "        # Camada linear que recebe entrada de tamanho features e gera 10 valores de saída\n",
    "        self.fc = nn.Linear(num_channels, 10)\n",
    "\n",
    "    def forward(self, x):\n",
    "        '''Além de calcular o resultado, este método retorna as ativações\n",
    "        inermediárias da rede.'''\n",
    "        acts = []\n",
    "        for layer in self.layers:\n",
    "            x = layer(x)\n",
    "            acts.append(x)\n",
    "        x = self.pool(x)\n",
    "        # Transformação das imagens de tamanho bs x features x 1 x 1 para bs x features\n",
    "        x = x.reshape(x.shape[0], -1)\n",
    "        x = self.fc(x)\n",
    "\n",
    "        return x, acts\n",
    "    \n",
    "model = Model(10, 16)\n",
    "# Desabilita cálculo de gradientes, pois não será usado neste notebook\n",
    "model.requires_grad_(False)\n",
    "model"
   ]
  },
  {
   "cell_type": "markdown",
   "metadata": {},
   "source": [
    "Execute a célula abaixo diversas vezes com ctrl+enter. A saída da rede é sempre a mesma!"
   ]
  },
  {
   "cell_type": "code",
   "execution_count": 88,
   "metadata": {},
   "outputs": [
    {
     "name": "stdout",
     "output_type": "stream",
     "text": [
      "tensor([0.4220, 0.6534, 0.7058, 0.6141, 0.0039, 0.4058, 0.2153, 0.7416, 0.2496,\n",
      "        0.1170, 0.1126, 0.2317, 0.9601, 0.0256, 0.7503, 0.1529, 0.6428, 0.6843,\n",
      "        0.6159, 0.5975, 0.4896, 0.4839, 0.2952, 0.7940, 0.4450, 0.9760, 0.1053,\n",
      "        0.2103])\n",
      "tensor([[ 0.1559, -0.1548,  0.0650,  0.2148,  0.1309, -0.1858, -0.0467, -0.2276,\n",
      "          0.1771,  0.0676]])\n"
     ]
    }
   ],
   "source": [
    "x = torch.rand(1, 1, 28, 28)\n",
    "y, acts = model(x)\n",
    "\n",
    "print(x[0,0,0])\n",
    "print(y)"
   ]
  },
  {
   "cell_type": "markdown",
   "metadata": {},
   "source": [
    "A saída da rede é dada apenas pelo bias da última camada:"
   ]
  },
  {
   "cell_type": "code",
   "execution_count": 89,
   "metadata": {},
   "outputs": [
    {
     "name": "stdout",
     "output_type": "stream",
     "text": [
      "tensor([[ 0.1559, -0.1548,  0.0650,  0.2148,  0.1309, -0.1858, -0.0467, -0.2276,\n",
      "          0.1771,  0.0676]])\n",
      "Parameter containing:\n",
      "tensor([ 0.1559, -0.1548,  0.0650,  0.2149,  0.1309, -0.1859, -0.0467, -0.2276,\n",
      "         0.1771,  0.0676])\n"
     ]
    }
   ],
   "source": [
    "print(y)\n",
    "print(model.fc.bias)"
   ]
  },
  {
   "cell_type": "markdown",
   "metadata": {},
   "source": [
    "Plotando a média e desvio padrão das ativações intermediárias da rede, vemos que os valores caem para zero:"
   ]
  },
  {
   "cell_type": "code",
   "execution_count": 91,
   "metadata": {},
   "outputs": [
    {
     "data": {
      "image/png": "[encoded data removed]",
      "text/plain": [
       "<Figure size 320x240 with 1 Axes>"
      ]
     },
     "metadata": {},
     "output_type": "display_data"
    }
   ],
   "source": [
    "def show_activations(acts):\n",
    "    act_mean = []\n",
    "    act_std = []\n",
    "    for act in acts:\n",
    "        act = act.detach()\n",
    "        act_mean.append(act.mean())\n",
    "        act_std.append(act.std())\n",
    "\n",
    "    plt.plot(act_mean)\n",
    "    plt.plot(act_std)\n",
    "    plt.xlabel('Network depth')\n",
    "\n",
    "show_activations(acts)"
   ]
  },
  {
   "cell_type": "markdown",
   "metadata": {},
   "source": [
    "Essencialmente, a operação que uma rede neural faz é dada por:"
   ]
  },
  {
   "cell_type": "code",
   "execution_count": 78,
   "metadata": {},
   "outputs": [
    {
     "name": "stdout",
     "output_type": "stream",
     "text": [
      "tensor([2.5635e+30, 3.5656e+30, 3.0748e+30, 2.8878e+30, 2.8740e+30, 2.9175e+30,\n",
      "        3.3621e+30, 2.8442e+30, 2.8549e+30, 3.7309e+30])\n"
     ]
    }
   ],
   "source": [
    "# Batch de dados\n",
    "x = torch.rand(10)\n",
    "# Parâmetros das camadas\n",
    "weight = 2.\n",
    "bias = 2.\n",
    "# 100 camadas\n",
    "for i in range(100):\n",
    "    x = weight*x+bias\n",
    "print(x)"
   ]
  },
  {
   "cell_type": "markdown",
   "metadata": {},
   "source": [
    "Tente achar valores de `weight` e `bias` que não levem o valor de x acima a 0, infinito ou algum valor trivial."
   ]
  },
  {
   "cell_type": "markdown",
   "metadata": {},
   "source": [
    "### Batch Normalization"
   ]
  },
  {
   "cell_type": "markdown",
   "metadata": {},
   "source": [
    "Ao normalizarmos os valores, as ativações se tornam bem comportadas!"
   ]
  },
  {
   "cell_type": "code",
   "execution_count": 80,
   "metadata": {},
   "outputs": [
    {
     "name": "stdout",
     "output_type": "stream",
     "text": [
      "tensor([-1.2149, -1.3395,  0.0467, -0.9665, -0.2244, -0.5013,  1.2022,  0.8227,\n",
      "         1.1350,  1.0399])\n"
     ]
    }
   ],
   "source": [
    "def normalization(x):\n",
    "    mean = x.mean()\n",
    "    std = x.std()\n",
    "    return (x-mean)/std\n",
    "\n",
    "x = torch.rand(10)\n",
    "weight = 20.\n",
    "bias = -10.\n",
    "for i in range(10):\n",
    "    x = weight*x+bias\n",
    "    x = normalization(x)\n",
    "print(x)"
   ]
  },
  {
   "cell_type": "markdown",
   "metadata": {},
   "source": [
    "Mas e se a escala dos valores for relevante para a classificação? Por exemplo, talvez um filtro tenda a gerar valores em torno de 10, enquanto que outro filtro gere valores em torno de 0.1. Essa informação será perdida após a normalização.\n",
    "\n",
    "Uma camada batchnorm permite reescalar os valores caso seja necessário. Os parâmetros de escala são aprendidos durante o treinamento."
   ]
  },
  {
   "cell_type": "code",
   "execution_count": 102,
   "metadata": {},
   "outputs": [
    {
     "data": {
      "text/plain": [
       "tensor([-1.1120, -1.1633,  0.4794,  0.0345,  1.3023,  1.3419, -0.0373, -0.6873,\n",
       "         0.9688, -1.1270], grad_fn=<AddBackward0>)"
      ]
     },
     "execution_count": 102,
     "metadata": {},
     "output_type": "execute_result"
    }
   ],
   "source": [
    "class BatchNorm(nn.Module):\n",
    "    def __init__(self):\n",
    "        super().__init__()\n",
    "        # nn.Parameter define um tensor com requires_grad=True e que é registrado \n",
    "        # como parâmetro treinável do modelo\n",
    "        self.weight = nn.Parameter(torch.tensor(1.))\n",
    "        self.bias = nn.Parameter(torch.tensor(0.))\n",
    "\n",
    "        self.eps = 1e-5\n",
    "\n",
    "    def forward(self, x):\n",
    "\n",
    "        mean = x.mean()\n",
    "        var = x.var()   # Variância\n",
    "        # eps evita divisão por 0\n",
    "        x_norm = (x-mean)/torch.sqrt(var+self.eps)\n",
    "\n",
    "        # Reescala os valores\n",
    "        y = self.weight*x_norm + self.bias\n",
    "\n",
    "        return y\n",
    "    \n",
    "bn = BatchNorm()\n",
    "bn(100*torch.rand(10))\n"
   ]
  },
  {
   "cell_type": "markdown",
   "metadata": {},
   "source": [
    "Mas temos um problema. E quando formos aplicar a rede após o treinamento em uma única imagem? Cada camada terá apenas uma única ativação, o que pode ser um problema. Para evitar isso, durante o treinamento podemos armazenar a média e desvio padrão de todos os batches, e usar a estimativa desses parâmetros de todos os batches para normalizar os valores ao aplicar em uma única imagem."
   ]
  },
  {
   "cell_type": "markdown",
   "metadata": {},
   "source": [
    "### Desvendando a camada BatchNorm do Pytorch"
   ]
  },
  {
   "cell_type": "code",
   "execution_count": 137,
   "metadata": {},
   "outputs": [
    {
     "name": "stdout",
     "output_type": "stream",
     "text": [
      "Parameter containing:\n",
      "tensor([1., 1., 1.], requires_grad=True)\n",
      "Parameter containing:\n",
      "tensor([0., 0., 0.], requires_grad=True)\n"
     ]
    }
   ],
   "source": [
    "# Batchnorm aplicado em 3 canais\n",
    "bn = nn.BatchNorm2d(3)\n",
    "print(bn.weight)\n",
    "print(bn.bias)"
   ]
  },
  {
   "cell_type": "markdown",
   "metadata": {},
   "source": [
    "A longo de vários batches, a camada estima a média e variância dos dados:"
   ]
  },
  {
   "cell_type": "code",
   "execution_count": 138,
   "metadata": {},
   "outputs": [
    {
     "name": "stdout",
     "output_type": "stream",
     "text": [
      "mean tensor([1.0003, 1.0002, 0.9999]) var tensor([1.3016, 1.2976, 1.3006])\n",
      "mean tensor([1.8999, 1.9005, 1.9001]) var tensor([1.5697, 1.5666, 1.5704])\n",
      "mean tensor([2.7098, 2.7099, 2.7097]) var tensor([1.8113, 1.8119, 1.8136])\n",
      "mean tensor([3.4390, 3.4376, 3.4384]) var tensor([2.0307, 2.0309, 2.0338])\n",
      "mean tensor([4.0950, 4.0944, 4.0948]) var tensor([2.2281, 2.2269, 2.2303])\n",
      "mean tensor([4.6851, 4.6851, 4.6854]) var tensor([2.4032, 2.4070, 2.4085])\n",
      "mean tensor([5.2161, 5.2166, 5.2168]) var tensor([2.5642, 2.5663, 2.5678])\n",
      "mean tensor([5.6951, 5.6950, 5.6950]) var tensor([2.7064, 2.7101, 2.7087])\n",
      "mean tensor([6.1253, 6.1257, 6.1257]) var tensor([2.8378, 2.8396, 2.8378])\n",
      "mean tensor([6.5127, 6.5130, 6.5133]) var tensor([2.9543, 2.9557, 2.9542])\n",
      "mean tensor([6.8616, 6.8622, 6.8619]) var tensor([3.0580, 3.0595, 3.0585])\n",
      "mean tensor([7.1758, 7.1756, 7.1755]) var tensor([3.1517, 3.1532, 3.1525])\n",
      "mean tensor([7.4583, 7.4579, 7.4582]) var tensor([3.2355, 3.2389, 3.2377])\n",
      "mean tensor([7.7122, 7.7118, 7.7125]) var tensor([3.3117, 3.3156, 3.3151])\n",
      "mean tensor([7.9412, 7.9407, 7.9408]) var tensor([3.3813, 3.3856, 3.3836])\n",
      "mean tensor([8.1471, 8.1469, 8.1466]) var tensor([3.4444, 3.4463, 3.4466])\n",
      "mean tensor([8.3324, 8.3323, 8.3321]) var tensor([3.4979, 3.5017, 3.5025])\n",
      "mean tensor([8.4998, 8.4996, 8.4995]) var tensor([3.5479, 3.5509, 3.5526])\n",
      "mean tensor([8.6496, 8.6492, 8.6499]) var tensor([3.5941, 3.5952, 3.5957])\n",
      "mean tensor([8.7847, 8.7842, 8.7855]) var tensor([3.6341, 3.6340, 3.6381])\n",
      "mean tensor([8.9062, 8.9062, 8.9067]) var tensor([3.6713, 3.6715, 3.6749])\n",
      "mean tensor([9.0151, 9.0156, 9.0168]) var tensor([3.7025, 3.7033, 3.7047])\n",
      "mean tensor([9.1136, 9.1133, 9.1147]) var tensor([3.7326, 3.7341, 3.7351])\n",
      "mean tensor([9.2024, 9.2019, 9.2039]) var tensor([3.7583, 3.7601, 3.7631])\n",
      "mean tensor([9.2828, 9.2818, 9.2836]) var tensor([3.7833, 3.7842, 3.7858])\n",
      "mean tensor([9.3545, 9.3534, 9.3549]) var tensor([3.8041, 3.8060, 3.8067])\n",
      "mean tensor([9.4192, 9.4182, 9.4190]) var tensor([3.8223, 3.8258, 3.8267])\n",
      "mean tensor([9.4781, 9.4758, 9.4780]) var tensor([3.8414, 3.8428, 3.8442])\n",
      "mean tensor([9.5303, 9.5291, 9.5300]) var tensor([3.8546, 3.8580, 3.8602])\n",
      "mean tensor([9.5772, 9.5761, 9.5776]) var tensor([3.8688, 3.8727, 3.8727])\n",
      "mean tensor([9.6199, 9.6187, 9.6193]) var tensor([3.8811, 3.8862, 3.8832])\n",
      "mean tensor([9.6580, 9.6572, 9.6572]) var tensor([3.8924, 3.8971, 3.8959])\n",
      "mean tensor([9.6921, 9.6916, 9.6915]) var tensor([3.9027, 3.9071, 3.9027])\n",
      "mean tensor([9.7227, 9.7230, 9.7220]) var tensor([3.9130, 3.9152, 3.9119])\n",
      "mean tensor([9.7507, 9.7515, 9.7497]) var tensor([3.9208, 3.9240, 3.9217])\n",
      "mean tensor([9.7752, 9.7764, 9.7747]) var tensor([3.9292, 3.9335, 3.9310])\n",
      "mean tensor([9.7980, 9.7992, 9.7980]) var tensor([3.9384, 3.9398, 3.9387])\n",
      "mean tensor([9.8181, 9.8195, 9.8186]) var tensor([3.9451, 3.9455, 3.9449])\n",
      "mean tensor([9.8356, 9.8377, 9.8361]) var tensor([3.9513, 3.9498, 3.9498])\n",
      "mean tensor([9.8517, 9.8535, 9.8529]) var tensor([3.9555, 3.9532, 3.9556])\n",
      "mean tensor([9.8669, 9.8682, 9.8677]) var tensor([3.9594, 3.9580, 3.9605])\n",
      "mean tensor([9.8805, 9.8811, 9.8803]) var tensor([3.9642, 3.9620, 3.9638])\n",
      "mean tensor([9.8920, 9.8934, 9.8922]) var tensor([3.9669, 3.9640, 3.9653])\n",
      "mean tensor([9.9030, 9.9044, 9.9028]) var tensor([3.9691, 3.9678, 3.9684])\n",
      "mean tensor([9.9128, 9.9142, 9.9122]) var tensor([3.9716, 3.9717, 3.9731])\n",
      "mean tensor([9.9211, 9.9226, 9.9213]) var tensor([3.9746, 3.9730, 3.9767])\n",
      "mean tensor([9.9286, 9.9309, 9.9291]) var tensor([3.9786, 3.9750, 3.9809])\n",
      "mean tensor([9.9358, 9.9376, 9.9370]) var tensor([3.9813, 3.9783, 3.9815])\n",
      "mean tensor([9.9420, 9.9436, 9.9437]) var tensor([3.9828, 3.9794, 3.9835])\n",
      "mean tensor([9.9474, 9.9501, 9.9497]) var tensor([3.9843, 3.9824, 3.9844])\n",
      "mean tensor([9.9537, 9.9548, 9.9550]) var tensor([3.9868, 3.9845, 3.9884])\n",
      "mean tensor([9.9578, 9.9591, 9.9593]) var tensor([3.9892, 3.9867, 3.9902])\n",
      "mean tensor([9.9622, 9.9641, 9.9633]) var tensor([3.9919, 3.9877, 3.9922])\n",
      "mean tensor([9.9658, 9.9671, 9.9670]) var tensor([3.9920, 3.9903, 3.9932])\n",
      "mean tensor([9.9694, 9.9699, 9.9699]) var tensor([3.9914, 3.9910, 3.9960])\n",
      "mean tensor([9.9721, 9.9725, 9.9729]) var tensor([3.9917, 3.9929, 3.9959])\n",
      "mean tensor([9.9748, 9.9761, 9.9753]) var tensor([3.9936, 3.9939, 3.9969])\n",
      "mean tensor([9.9774, 9.9777, 9.9775]) var tensor([3.9934, 3.9945, 3.9978])\n",
      "mean tensor([9.9793, 9.9800, 9.9791]) var tensor([3.9939, 3.9946, 3.9972])\n",
      "mean tensor([9.9802, 9.9816, 9.9809]) var tensor([3.9955, 3.9954, 3.9986])\n",
      "mean tensor([9.9826, 9.9833, 9.9828]) var tensor([3.9962, 3.9947, 3.9963])\n",
      "mean tensor([9.9842, 9.9843, 9.9850]) var tensor([3.9954, 3.9960, 3.9962])\n",
      "mean tensor([9.9860, 9.9857, 9.9858]) var tensor([3.9973, 3.9956, 3.9955])\n",
      "mean tensor([9.9872, 9.9877, 9.9868]) var tensor([3.9975, 3.9962, 3.9965])\n",
      "mean tensor([9.9890, 9.9889, 9.9882]) var tensor([3.9967, 3.9970, 3.9987])\n",
      "mean tensor([9.9904, 9.9899, 9.9893]) var tensor([3.9969, 3.9975, 4.0001])\n",
      "mean tensor([9.9916, 9.9916, 9.9905]) var tensor([3.9970, 3.9979, 3.9990])\n",
      "mean tensor([9.9920, 9.9921, 9.9917]) var tensor([3.9963, 3.9982, 4.0001])\n",
      "mean tensor([9.9927, 9.9927, 9.9919]) var tensor([3.9997, 4.0002, 4.0008])\n",
      "mean tensor([9.9935, 9.9940, 9.9933]) var tensor([4.0013, 4.0001, 3.9990])\n",
      "mean tensor([9.9937, 9.9945, 9.9941]) var tensor([4.0023, 4.0005, 3.9990])\n",
      "mean tensor([9.9949, 9.9954, 9.9942]) var tensor([4.0022, 4.0016, 3.9981])\n",
      "mean tensor([9.9961, 9.9965, 9.9946]) var tensor([4.0027, 4.0036, 3.9969])\n",
      "mean tensor([9.9964, 9.9967, 9.9948]) var tensor([4.0046, 4.0039, 3.9949])\n",
      "mean tensor([9.9963, 9.9967, 9.9951]) var tensor([4.0036, 4.0051, 3.9962])\n",
      "mean tensor([9.9968, 9.9973, 9.9959]) var tensor([4.0045, 4.0047, 3.9984])\n",
      "mean tensor([9.9969, 9.9974, 9.9970]) var tensor([4.0053, 4.0045, 3.9985])\n",
      "mean tensor([9.9970, 9.9980, 9.9971]) var tensor([4.0049, 4.0032, 3.9999])\n",
      "mean tensor([9.9974, 9.9982, 9.9974]) var tensor([4.0036, 4.0016, 3.9997])\n",
      "mean tensor([9.9976, 9.9981, 9.9977]) var tensor([4.0029, 4.0018, 3.9980])\n",
      "mean tensor([9.9982, 9.9977, 9.9972]) var tensor([4.0017, 4.0037, 3.9982])\n",
      "mean tensor([9.9983, 9.9978, 9.9974]) var tensor([4.0000, 4.0029, 3.9984])\n",
      "mean tensor([9.9981, 9.9989, 9.9981]) var tensor([3.9992, 4.0025, 3.9991])\n",
      "mean tensor([9.9976, 9.9996, 9.9994]) var tensor([3.9973, 4.0029, 4.0005])\n",
      "mean tensor([9.9977, 9.9992, 9.9996]) var tensor([3.9966, 4.0031, 4.0009])\n",
      "mean tensor([9.9972, 9.9990, 9.9999]) var tensor([3.9971, 4.0017, 4.0034])\n",
      "mean tensor([9.9974, 9.9993, 9.9995]) var tensor([3.9984, 4.0003, 4.0015])\n",
      "mean tensor([9.9976, 9.9995, 9.9995]) var tensor([3.9983, 4.0009, 4.0026])\n",
      "mean tensor([9.9978, 9.9994, 9.9989]) var tensor([3.9976, 3.9996, 4.0060])\n",
      "mean tensor([9.9978, 9.9993, 9.9994]) var tensor([3.9970, 4.0002, 4.0055])\n",
      "mean tensor([ 9.9982,  9.9998, 10.0001]) var tensor([3.9982, 3.9988, 4.0055])\n",
      "mean tensor([ 9.9981,  9.9992, 10.0000]) var tensor([3.9977, 3.9991, 4.0045])\n",
      "mean tensor([9.9981, 9.9994, 9.9995]) var tensor([3.9998, 3.9981, 4.0046])\n",
      "mean tensor([9.9985, 9.9999, 9.9992]) var tensor([4.0017, 3.9975, 4.0053])\n",
      "mean tensor([9.9986, 9.9995, 9.9995]) var tensor([4.0036, 3.9981, 4.0046])\n",
      "mean tensor([9.9987, 9.9997, 9.9995]) var tensor([4.0035, 3.9985, 4.0048])\n",
      "mean tensor([ 9.9988, 10.0001,  9.9996]) var tensor([4.0010, 3.9976, 4.0034])\n",
      "mean tensor([ 9.9990, 10.0002, 10.0000]) var tensor([4.0009, 4.0006, 4.0026])\n",
      "mean tensor([ 9.9992, 10.0003,  9.9995]) var tensor([4.0006, 3.9983, 4.0026])\n",
      "mean tensor([ 9.9997, 10.0004,  9.9998]) var tensor([4.0003, 3.9966, 4.0016])\n"
     ]
    }
   ],
   "source": [
    "# Cria batches artificiais possuindo 4 imagens cada. Cada imagem possui 3 canais\n",
    "# e tamanho 256x256. Os valores das imagens são aleatórios com média 10 e\n",
    "# desvio padrão 2\n",
    "bs = 4\n",
    "img_shape = (3, 256, 256)\n",
    "batches = []\n",
    "for idx in range(100):\n",
    "    batch = torch.normal(mean=10, std=2, size=(bs,*img_shape))\n",
    "    batches.append(batch)\n",
    "\n",
    "for batch in batches:\n",
    "    _ = bn(batch)\n",
    "    print('mean', bn.running_mean, 'var', bn.running_var)\n",
    "\n"
   ]
  },
  {
   "cell_type": "markdown",
   "metadata": {},
   "source": [
    "Os valores de `running_mean` e `running_var` são utilizados para normalizar os dados. \n",
    "\n",
    "No modo eval, a média estimada é usada quando a camada for aplicada em novos dados:"
   ]
  },
  {
   "cell_type": "code",
   "execution_count": 141,
   "metadata": {},
   "outputs": [
    {
     "name": "stdout",
     "output_type": "stream",
     "text": [
      "tensor(2.4996, grad_fn=<MeanBackward0>)\n"
     ]
    }
   ],
   "source": [
    "# Imagem com média 15 e desvio padrão 2\n",
    "x = torch.normal(mean=15, std=2, size=(1,3,256,256))\n",
    "bn.eval()\n",
    "y = bn(x)\n",
    "# A média do resultado deve ser aproximadamente (15-bn.running_mean)/bn.running_var**0.5\n",
    "print(y.mean())"
   ]
  },
  {
   "cell_type": "markdown",
   "metadata": {},
   "source": [
    "Retornando o batchnorm para o modo .train faz com que a camada volte a normalizar pela média e desvio do batch:"
   ]
  },
  {
   "cell_type": "code",
   "execution_count": 142,
   "metadata": {},
   "outputs": [
    {
     "name": "stdout",
     "output_type": "stream",
     "text": [
      "tensor(3.1898e-08, grad_fn=<MeanBackward0>)\n"
     ]
    }
   ],
   "source": [
    "bn.train()\n",
    "y = bn(x)\n",
    "print(y.mean())"
   ]
  }
 ],
 "metadata": {
  "kernelspec": {
   "display_name": "pytorch",
   "language": "python",
   "name": "python3"
  },
  "language_info": {
   "codemirror_mode": {
    "name": "ipython",
    "version": 3
   },
   "file_extension": ".py",
   "mimetype": "text/x-python",
   "name": "python",
   "nbconvert_exporter": "python",
   "pygments_lexer": "ipython3",
   "version": "3.12.2"
  }
 },
 "nbformat": 4,
 "nbformat_minor": 2
}
