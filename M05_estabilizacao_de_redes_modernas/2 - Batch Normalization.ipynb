{
 "cells": [
  {
   "cell_type": "markdown",
   "metadata": {},
   "source": [
    "# Estabilizando rede neurais - Batch Normalization"
   ]
  },
  {
   "cell_type": "markdown",
   "metadata": {},
   "source": [
    "### Problemas com redes profundas"
   ]
  },
  {
   "cell_type": "code",
   "execution_count": 1,
   "metadata": {},
   "outputs": [
    {
     "data": {
      "text/plain": [
       "Model(\n",
       "  (layers): ModuleList(\n",
       "    (0): Conv2d(1, 16, kernel_size=(3, 3), stride=(1, 1), padding=(1, 1), bias=False)\n",
       "    (1): ReLU()\n",
       "    (2): Conv2d(16, 16, kernel_size=(3, 3), stride=(1, 1), padding=(1, 1), bias=False)\n",
       "    (3): ReLU()\n",
       "    (4): Conv2d(16, 16, kernel_size=(3, 3), stride=(1, 1), padding=(1, 1), bias=False)\n",
       "    (5): ReLU()\n",
       "    (6): Conv2d(16, 16, kernel_size=(3, 3), stride=(1, 1), padding=(1, 1), bias=False)\n",
       "    (7): ReLU()\n",
       "    (8): Conv2d(16, 16, kernel_size=(3, 3), stride=(1, 1), padding=(1, 1), bias=False)\n",
       "    (9): ReLU()\n",
       "    (10): Conv2d(16, 16, kernel_size=(3, 3), stride=(1, 1), padding=(1, 1), bias=False)\n",
       "    (11): ReLU()\n",
       "    (12): Conv2d(16, 16, kernel_size=(3, 3), stride=(1, 1), padding=(1, 1), bias=False)\n",
       "    (13): ReLU()\n",
       "    (14): Conv2d(16, 16, kernel_size=(3, 3), stride=(1, 1), padding=(1, 1), bias=False)\n",
       "    (15): ReLU()\n",
       "    (16): Conv2d(16, 16, kernel_size=(3, 3), stride=(1, 1), padding=(1, 1), bias=False)\n",
       "    (17): ReLU()\n",
       "    (18): Conv2d(16, 16, kernel_size=(3, 3), stride=(1, 1), padding=(1, 1), bias=False)\n",
       "    (19): ReLU()\n",
       "  )\n",
       "  (pool): AdaptiveMaxPool2d(output_size=2)\n",
       "  (fc): Linear(in_features=64, out_features=10, bias=True)\n",
       ")"
      ]
     },
     "execution_count": 1,
     "metadata": {},
     "output_type": "execute_result"
    }
   ],
   "source": [
    "import matplotlib.pyplot as plt\n",
    "import torch\n",
    "from torch import nn\n",
    "\n",
    "def conv3x3(in_channels, out_channels):\n",
    "    return nn.Conv2d(in_channels, out_channels, kernel_size=3, padding=1, bias=False)\n",
    "\n",
    "class Model(nn.Module):\n",
    "    '''Modelo com n camadas convolucionais.'''\n",
    "    def __init__(self, num_layers, features):\n",
    "        super().__init__()\n",
    "        \n",
    "        layers = [\n",
    "            conv3x3(1,features),\n",
    "            nn.ReLU()\n",
    "        ]\n",
    "        for idx in range(1, num_layers):\n",
    "            layers.append(conv3x3(features,features))\n",
    "            layers.append(nn.ReLU())\n",
    "        self.layers = nn.ModuleList(layers)\n",
    "\n",
    "        self.pool = nn.AdaptiveMaxPool2d(2)\n",
    "        # Camada linear que recebe features imagens de tamanho 2x2 e gera 10 valores de saída\n",
    "        self.fc = nn.Linear(features*2*2, 10)\n",
    "\n",
    "    def forward(self, x):\n",
    "        '''Além de calcular o resultado, este método retorna as ativações\n",
    "        inermediárias da rede.'''\n",
    "        acts = []\n",
    "        for layer in self.layers:\n",
    "            x = layer(x)\n",
    "            acts.append(x)\n",
    "        x = self.pool(x)\n",
    "        # Transformação das imagens de tamanho bs x features x 2 x 2 para bs x features*2*2\n",
    "        x = x.reshape(x.shape[0], -1)\n",
    "        x = self.fc(x)\n",
    "\n",
    "        return x, acts\n",
    "    \n",
    "model = Model(10, 16)\n",
    "model"
   ]
  },
  {
   "cell_type": "markdown",
   "metadata": {},
   "source": [
    "Execute a célula abaixo diversas vezes com ctrl+enter. A saída da rede é sempre a mesma!"
   ]
  },
  {
   "cell_type": "code",
   "execution_count": 2,
   "metadata": {},
   "outputs": [
    {
     "name": "stdout",
     "output_type": "stream",
     "text": [
      "tensor([0.9741, 0.7601, 0.6026, 0.9241, 0.2517, 0.5075, 0.3873, 0.0792, 0.5510,\n",
      "        0.3379, 0.0419, 0.4008, 0.1187, 0.3002, 0.8532, 0.2395, 0.6252, 0.9955,\n",
      "        0.7744, 0.9020, 0.1009, 0.8903, 0.5773, 0.3612, 0.9486, 0.6577, 0.7652,\n",
      "        0.5267])\n",
      "tensor([[ 0.0965,  0.1030,  0.0506, -0.0050,  0.1003,  0.1167, -0.0537, -0.1086,\n",
      "          0.0428, -0.1110]], grad_fn=<AddmmBackward0>)\n"
     ]
    },
    {
     "name": "stderr",
     "output_type": "stream",
     "text": [
      "[W NNPACK.cpp:64] Could not initialize NNPACK! Reason: Unsupported hardware.\n"
     ]
    }
   ],
   "source": [
    "x = torch.rand(1, 1, 28, 28)\n",
    "y, acts = model(x)\n",
    "\n",
    "print(x[0,0,0])\n",
    "print(y)"
   ]
  },
  {
   "cell_type": "markdown",
   "metadata": {},
   "source": [
    "A saída da rede é dada apenas pelo bias da última camada:"
   ]
  },
  {
   "cell_type": "code",
   "execution_count": 3,
   "metadata": {},
   "outputs": [
    {
     "name": "stdout",
     "output_type": "stream",
     "text": [
      "tensor([[ 0.0965,  0.1030,  0.0506, -0.0050,  0.1003,  0.1167, -0.0537, -0.1086,\n",
      "          0.0428, -0.1110]], grad_fn=<AddmmBackward0>)\n",
      "tensor([ 0.0965,  0.1030,  0.0506, -0.0051,  0.1003,  0.1167, -0.0537, -0.1085,\n",
      "         0.0428, -0.1110])\n"
     ]
    }
   ],
   "source": [
    "print(y)\n",
    "print(model.fc.bias.detach())"
   ]
  },
  {
   "cell_type": "markdown",
   "metadata": {},
   "source": [
    "Plotando a média e desvio padrão das ativações intermediárias da rede, vemos que os valores caem para zero:"
   ]
  },
  {
   "cell_type": "code",
   "execution_count": 4,
   "metadata": {},
   "outputs": [
    {
     "data": {
      "image/png": "[encoded data removed]",
      "text/plain": [
       "<Figure size 640x480 with 1 Axes>"
      ]
     },
     "metadata": {},
     "output_type": "display_data"
    }
   ],
   "source": [
    "def show_activations(acts):\n",
    "    act_mean = []\n",
    "    act_std = []\n",
    "    for act in acts:\n",
    "        act = act.detach()\n",
    "        act_mean.append(act.mean())\n",
    "        act_std.append(act.std())\n",
    "\n",
    "    plt.plot(act_mean)\n",
    "    plt.plot(act_std)\n",
    "\n",
    "show_activations(acts)"
   ]
  },
  {
   "cell_type": "markdown",
   "metadata": {},
   "source": [
    "Essencialmente, a operação que uma rede neural faz é dada por:"
   ]
  },
  {
   "cell_type": "code",
   "execution_count": 5,
   "metadata": {},
   "outputs": [
    {
     "name": "stdout",
     "output_type": "stream",
     "text": [
      "tensor([3.2545e+30, 3.4479e+30, 3.0232e+30, 3.5234e+30, 3.4449e+30, 3.3905e+30,\n",
      "        2.7864e+30, 3.3439e+30, 3.0952e+30, 3.4286e+30])\n"
     ]
    }
   ],
   "source": [
    "# Batch de dados\n",
    "x = torch.rand(10)\n",
    "# Parâmetros das camadas\n",
    "weight = 2.\n",
    "bias = 2.\n",
    "# 100 camadas\n",
    "for i in range(100):\n",
    "    x = (weight*x+bias)\n",
    "print(x)"
   ]
  },
  {
   "cell_type": "markdown",
   "metadata": {},
   "source": [
    "Tente achar valores de `weight` e `bias` que não levem o valor de x acima a 0, infinito ou algum valor trivial."
   ]
  },
  {
   "cell_type": "markdown",
   "metadata": {},
   "source": [
    "### Batch Normalization"
   ]
  },
  {
   "cell_type": "markdown",
   "metadata": {},
   "source": [
    "Ao normalizarmos os valores, as ativações se tornam bem comportadas!"
   ]
  },
  {
   "cell_type": "code",
   "execution_count": 6,
   "metadata": {},
   "outputs": [
    {
     "name": "stdout",
     "output_type": "stream",
     "text": [
      "tensor([-1.6341,  0.7075, -0.2681, -0.5265,  0.9641, -1.5134,  0.3172,  0.4574,\n",
      "         0.1031,  1.3927])\n"
     ]
    }
   ],
   "source": [
    "def normalization(x):\n",
    "    mean = x.mean()\n",
    "    std = x.std()\n",
    "    return (x-mean)/std\n",
    "\n",
    "x = torch.rand(10)\n",
    "weight = 20.\n",
    "bias = -10.\n",
    "for i in range(10):\n",
    "    x = (weight*x+bias)\n",
    "    x = normalization(x)\n",
    "print(x)"
   ]
  },
  {
   "cell_type": "markdown",
   "metadata": {},
   "source": [
    "Mas e se a escala dos valores for relevante para a classificação? Por exemplo, talvez um filtro tenda a gerar valores em torno de 10, enquanto que outro filtro gere valores em torno de 0.1. Essa informação será perdida após a normalização.\n",
    "\n",
    "Uma camada batchnorm permite reescalar os valores caso seja necessário. Os parâmetros de escala são aprendidos durante o treinamento."
   ]
  },
  {
   "cell_type": "code",
   "execution_count": 7,
   "metadata": {},
   "outputs": [
    {
     "data": {
      "text/plain": [
       "tensor([ 0.5646, -0.8173, -1.0018, -0.1314,  0.8818, -1.1710,  0.4094,  1.5579,\n",
       "        -1.1965,  0.9041], grad_fn=<AddBackward0>)"
      ]
     },
     "execution_count": 7,
     "metadata": {},
     "output_type": "execute_result"
    }
   ],
   "source": [
    "class BatchNorm(nn.Module):\n",
    "    def __init__(self):\n",
    "        super().__init__()\n",
    "        # nn.Parameter define um tensor com requires_grad=True e que é registrado \n",
    "        # como parâmetro treinável do modelo\n",
    "        self.gamma = nn.Parameter(torch.tensor(1.))\n",
    "        self.beta = nn.Parameter(torch.tensor(0.))\n",
    "\n",
    "        self.eps = 1e-5\n",
    "\n",
    "    def forward(self, x):\n",
    "\n",
    "        mean = x.mean()\n",
    "        var = x.var()   # Variância\n",
    "        # eps evita divisão por 0\n",
    "        x_norm = (x-mean)/torch.sqrt(var+self.eps)\n",
    "\n",
    "        # Reescala os valores\n",
    "        y = self.gamma*x_norm + self.beta\n",
    "\n",
    "        return y\n",
    "    \n",
    "bn = BatchNorm()\n",
    "bn(100*torch.rand(10))\n"
   ]
  },
  {
   "cell_type": "markdown",
   "metadata": {},
   "source": [
    "Mas temos um problema. E quando formos aplicar a rede após o treinamento em uma única imagem? Cada camada terá apenas uma única ativação, o que pode ser um problema. Para evitar isso, durante o treinamento podemos armazenar a média e desvio padrão de todos os batches, e usar a estimativa desses parâmetros de todos os batches para normalizar os valores ao aplicar em uma única imagem."
   ]
  },
  {
   "cell_type": "markdown",
   "metadata": {},
   "source": [
    "### Desvendando a camada BatchNorm do Pytorch"
   ]
  },
  {
   "cell_type": "code",
   "execution_count": 8,
   "metadata": {},
   "outputs": [
    {
     "name": "stdout",
     "output_type": "stream",
     "text": [
      "Parameter containing:\n",
      "tensor([1., 1., 1.], requires_grad=True)\n",
      "Parameter containing:\n",
      "tensor([0., 0., 0.], requires_grad=True)\n"
     ]
    }
   ],
   "source": [
    "# Batchnorm aplicado em 3 canais\n",
    "bn = nn.BatchNorm1d(3)\n",
    "print(bn.weight)\n",
    "print(bn.bias)"
   ]
  },
  {
   "cell_type": "markdown",
   "metadata": {},
   "source": [
    "A longo de vários batches, a camada estima a média e variância dos dados:"
   ]
  },
  {
   "cell_type": "code",
   "execution_count": 9,
   "metadata": {},
   "outputs": [
    {
     "name": "stdout",
     "output_type": "stream",
     "text": [
      "mean tensor([0.3934, 0.4001, 0.3852])\n",
      "mean tensor([0.7499, 0.7366, 0.7439])\n",
      "mean tensor([1.0791, 1.0591, 1.1035])\n",
      "mean tensor([1.3765, 1.3668, 1.3893])\n",
      "mean tensor([1.6449, 1.6403, 1.6564])\n",
      "mean tensor([1.8916, 1.9052, 1.8672])\n",
      "mean tensor([2.0885, 2.0970, 2.1018])\n",
      "mean tensor([2.3134, 2.2999, 2.2783])\n",
      "mean tensor([2.4771, 2.4696, 2.5050])\n",
      "mean tensor([2.6355, 2.5656, 2.6647])\n",
      "mean tensor([2.7875, 2.6763, 2.7601])\n",
      "mean tensor([2.9807, 2.7801, 2.8936])\n",
      "mean tensor([3.1106, 2.8772, 3.0373])\n",
      "mean tensor([3.1863, 2.9689, 3.1271])\n",
      "mean tensor([3.2860, 3.0518, 3.2010])\n",
      "mean tensor([3.3216, 3.1603, 3.2814])\n",
      "mean tensor([3.3990, 3.2579, 3.3287])\n",
      "mean tensor([3.4362, 3.3299, 3.4137])\n",
      "mean tensor([3.4915, 3.4127, 3.4988])\n",
      "mean tensor([3.5506, 3.4659, 3.5558])\n",
      "mean tensor([3.6067, 3.5149, 3.5962])\n",
      "mean tensor([3.6448, 3.5464, 3.6516])\n",
      "mean tensor([3.6750, 3.6072, 3.6874])\n",
      "mean tensor([3.6831, 3.6371, 3.7405])\n",
      "mean tensor([3.6933, 3.6582, 3.7549])\n",
      "mean tensor([3.7297, 3.6561, 3.7973])\n",
      "mean tensor([3.7442, 3.6850, 3.8113])\n",
      "mean tensor([3.8230, 3.6858, 3.8566])\n",
      "mean tensor([3.8365, 3.6960, 3.8712])\n",
      "mean tensor([3.8903, 3.7378, 3.8656])\n",
      "mean tensor([3.9177, 3.7509, 3.8868])\n",
      "mean tensor([3.9477, 3.7923, 3.9314])\n",
      "mean tensor([3.9058, 3.8088, 3.9397])\n",
      "mean tensor([3.9421, 3.8373, 3.9388])\n",
      "mean tensor([3.9283, 3.8305, 3.9773])\n",
      "mean tensor([3.9446, 3.8449, 3.9623])\n",
      "mean tensor([3.9440, 3.8305, 3.9344])\n",
      "mean tensor([3.9615, 3.8467, 3.9558])\n",
      "mean tensor([3.9758, 3.8470, 3.9078])\n",
      "mean tensor([3.9679, 3.8266, 3.8958])\n",
      "mean tensor([3.9478, 3.8583, 3.9124])\n",
      "mean tensor([3.9255, 3.8659, 3.9233])\n",
      "mean tensor([3.9296, 3.8731, 3.9568])\n",
      "mean tensor([3.9666, 3.8944, 3.9464])\n",
      "mean tensor([3.9839, 3.8968, 3.9706])\n",
      "mean tensor([3.9827, 3.9045, 3.9488])\n",
      "mean tensor([3.9927, 3.9187, 3.9601])\n",
      "mean tensor([4.0084, 3.9382, 3.9562])\n",
      "mean tensor([4.0148, 3.9468, 3.9512])\n",
      "mean tensor([4.0198, 3.9514, 3.9697])\n",
      "mean tensor([4.0025, 3.9570, 3.9942])\n",
      "mean tensor([3.9728, 3.9454, 3.9646])\n",
      "mean tensor([3.9949, 3.9105, 3.9436])\n",
      "mean tensor([4.0041, 3.9142, 3.9579])\n",
      "mean tensor([4.0364, 3.9237, 3.9607])\n",
      "mean tensor([4.0359, 3.9086, 3.9665])\n",
      "mean tensor([4.0187, 3.8820, 3.9730])\n",
      "mean tensor([4.0078, 3.8852, 3.9930])\n",
      "mean tensor([4.0337, 3.8717, 3.9678])\n",
      "mean tensor([4.0334, 3.9146, 3.9571])\n",
      "mean tensor([4.0196, 3.9138, 3.9941])\n",
      "mean tensor([4.0276, 3.9325, 3.9872])\n",
      "mean tensor([4.0036, 3.9392, 4.0211])\n",
      "mean tensor([4.0057, 3.9351, 4.0553])\n",
      "mean tensor([4.0132, 3.9536, 4.0547])\n",
      "mean tensor([4.0074, 3.9316, 4.0462])\n",
      "mean tensor([4.0106, 3.9198, 4.0702])\n",
      "mean tensor([4.0197, 3.9302, 4.0785])\n",
      "mean tensor([4.0148, 3.9516, 4.0592])\n",
      "mean tensor([3.9929, 3.9350, 4.0808])\n",
      "mean tensor([3.9846, 3.9850, 4.0906])\n",
      "mean tensor([3.9945, 3.9810, 4.0925])\n",
      "mean tensor([3.9897, 3.9826, 4.0804])\n",
      "mean tensor([3.9734, 4.0065, 4.0487])\n",
      "mean tensor([3.9915, 4.0037, 4.0378])\n",
      "mean tensor([3.9895, 4.0237, 4.0472])\n",
      "mean tensor([3.9827, 4.0399, 4.0526])\n",
      "mean tensor([4.0024, 4.0254, 4.0524])\n",
      "mean tensor([3.9959, 3.9889, 4.0344])\n",
      "mean tensor([3.9938, 3.9791, 4.0166])\n",
      "mean tensor([4.0068, 3.9672, 4.0126])\n",
      "mean tensor([3.9809, 3.9858, 4.0160])\n",
      "mean tensor([4.0209, 3.9968, 4.0185])\n",
      "mean tensor([4.0124, 4.0277, 4.0116])\n",
      "mean tensor([4.0240, 4.0176, 4.0012])\n",
      "mean tensor([4.0244, 4.0265, 3.9644])\n",
      "mean tensor([4.0076, 4.0194, 3.9464])\n",
      "mean tensor([3.9746, 4.0103, 3.9758])\n",
      "mean tensor([4.0011, 4.0158, 3.9578])\n",
      "mean tensor([3.9971, 4.0267, 3.9358])\n",
      "mean tensor([3.9802, 3.9837, 3.9629])\n",
      "mean tensor([4.0057, 3.9963, 4.0090])\n",
      "mean tensor([4.0251, 4.0016, 4.0107])\n",
      "mean tensor([4.0145, 3.9692, 4.0048])\n",
      "mean tensor([4.0313, 3.9289, 4.0195])\n",
      "mean tensor([4.0444, 3.9195, 4.0265])\n",
      "mean tensor([4.0562, 3.9114, 4.0156])\n",
      "mean tensor([4.0750, 3.9080, 4.0013])\n",
      "mean tensor([4.0901, 3.9045, 4.0227])\n",
      "mean tensor([4.0639, 3.9229, 4.0316])\n"
     ]
    }
   ],
   "source": [
    "for i in range(100):\n",
    "    # Batches de 4 elementos, 3 canais cada e 6 valores para cada canal\n",
    "    # Os valores gerados possuem média 4 e variância 9.\n",
    "    x = torch.normal(mean=4, std=1, size=(4,3,6))\n",
    "    _ = bn(x)\n",
    "    print('mean', bn.running_mean)\n",
    "    #print('var', bn.running_var)\n",
    "\n"
   ]
  },
  {
   "cell_type": "markdown",
   "metadata": {},
   "source": [
    "No modo eval, a média estimada é usada quando a camada for aplicada em novos dados:"
   ]
  },
  {
   "cell_type": "code",
   "execution_count": 10,
   "metadata": {},
   "outputs": [
    {
     "name": "stdout",
     "output_type": "stream",
     "text": [
      "tensor(5.7178, grad_fn=<MeanBackward0>)\n"
     ]
    }
   ],
   "source": [
    "# Batch de tamanho 1000 com valores de média 10\n",
    "# A média do resultado deve ser aproximadamente 10-bn.running_mean\n",
    "x = torch.normal(mean=10, std=6, size=(1000,3,60))\n",
    "bn.eval()\n",
    "y = bn(x)\n",
    "print(y.mean())"
   ]
  },
  {
   "cell_type": "markdown",
   "metadata": {},
   "source": [
    "Retornando o batchnorm para o modo .train faz com que a camada volte a normalizar pela média e desvio do batch:"
   ]
  },
  {
   "cell_type": "code",
   "execution_count": 11,
   "metadata": {},
   "outputs": [
    {
     "name": "stdout",
     "output_type": "stream",
     "text": [
      "tensor(1.9752e-08, grad_fn=<MeanBackward0>)\n"
     ]
    }
   ],
   "source": [
    "x = torch.normal(mean=10, std=6, size=(1000,3,60))\n",
    "bn.train()\n",
    "y = bn(x)\n",
    "print(y.mean())"
   ]
  }
 ],
 "metadata": {
  "kernelspec": {
   "display_name": "pytorch",
   "language": "python",
   "name": "python3"
  },
  "language_info": {
   "codemirror_mode": {
    "name": "ipython",
    "version": 3
   },
   "file_extension": ".py",
   "mimetype": "text/x-python",
   "name": "python",
   "nbconvert_exporter": "python",
   "pygments_lexer": "ipython3",
   "version": "3.12.2"
  }
 },
 "nbformat": 4,
 "nbformat_minor": 2
}
