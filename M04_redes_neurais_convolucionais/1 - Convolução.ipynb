{
 "cells": [
  {
   "cell_type": "markdown",
   "metadata": {},
   "source": [
    "### Convolução usando Pytorch\n",
    "\n",
    "Veremos em detalhe como realizar convolução usando Pytorch e como funciona a camada convolucional"
   ]
  },
  {
   "cell_type": "code",
   "execution_count": 27,
   "metadata": {},
   "outputs": [
    {
     "data": {
      "text/plain": [
       "torch.Size([1, 1, 5])"
      ]
     },
     "execution_count": 27,
     "metadata": {},
     "output_type": "execute_result"
    }
   ],
   "source": [
    "import torch\n",
    "from torch import nn\n",
    "import torch.nn.functional as F\n",
    "\n",
    "# Sinal\n",
    "x = torch.tensor([5, 4, 8, 7, 9, 3, 6], dtype=torch.float32)\n",
    "# Filtro\n",
    "weight = torch.tensor([1, 2, 3], dtype=torch.float32)\n",
    "# Tamanho do filtro\n",
    "ks = len(weight)\n",
    "\n",
    "# Redimensiona o sinal para o tamanho 1x1xlen(x). Ou seja, um batch contendo um único sinal, \n",
    "# e esse sinal possui um único canal\n",
    "x = x.reshape(1,1,len(x))\n",
    "# Redimensiona o filtro. O primeiro valor 1 possui um significado diferente do que\n",
    "# no caso do sinal. Depois será explicado.\n",
    "weight = weight.reshape(1,1,len(weight))\n",
    "# Realiza a convolução\n",
    "y = F.conv1d(x, weight)\n",
    "y.shape"
   ]
  },
  {
   "cell_type": "markdown",
   "metadata": {},
   "source": [
    "O tamanho da entrada é 7 e da saída é 5. Isso porque o Pytorch realiza a convolução apenas nas posições que não necessitam de preenchimento de borda. Mas modificar o tamanho do resultado é indesejável. \n",
    "\n",
    "É muito comum realizarmos a convolução com padding para manter o tamanho do sinal:"
   ]
  },
  {
   "cell_type": "code",
   "execution_count": 28,
   "metadata": {},
   "outputs": [
    {
     "name": "stdout",
     "output_type": "stream",
     "text": [
      "torch.Size([1, 1, 7])\n"
     ]
    }
   ],
   "source": [
    "# padding = ks//2 garante que a saída sempre terá o mesmo tamanho que a entrada\n",
    "y = F.conv1d(x, weight, padding=ks//2)\n",
    "print(y.shape)"
   ]
  },
  {
   "cell_type": "markdown",
   "metadata": {},
   "source": [
    "Dado o sinal [5, 4, 8, 7, 9, 3, 6] e filtro [1,2,3], nossa saída deve ser:\n",
    "\n",
    "* y[0] = 1\\*0 + 2\\*5 + 3\\*4 = 22\n",
    "* y[1] = 1\\*5 + 2\\*4 + 3\\*8 = 37\n",
    "* ...\n",
    "* y[6] = 1\\*3 + 2\\*6 + 3\\*0 = 15\n",
    "\n",
    "Note que a função realiza a correlação-cruzada, e não a convolução. Mas para redes neurais isso não importa."
   ]
  },
  {
   "cell_type": "code",
   "execution_count": 29,
   "metadata": {},
   "outputs": [
    {
     "name": "stdout",
     "output_type": "stream",
     "text": [
      "tensor([[[22., 37., 41., 49., 34., 33., 15.]]])\n"
     ]
    }
   ],
   "source": [
    "print(y)"
   ]
  },
  {
   "cell_type": "markdown",
   "metadata": {},
   "source": [
    "Em redes neurais a convolução possui o conceito de bias, que é simplesmente um valor constante que é adicionado ao resultado:"
   ]
  },
  {
   "cell_type": "code",
   "execution_count": 30,
   "metadata": {},
   "outputs": [
    {
     "name": "stdout",
     "output_type": "stream",
     "text": [
      "tensor([[[27., 42., 46., 54., 39., 38., 20.]]])\n",
      "True\n"
     ]
    }
   ],
   "source": [
    "bias = torch.tensor([5.])\n",
    "# Adiciona o valor 5 a cada elemento do resultado da convolução\n",
    "y_bias = F.conv1d(x, weight, padding=ks//2, bias=bias)\n",
    "print(y_bias)\n",
    "print(torch.allclose(y+bias, y_bias))"
   ]
  },
  {
   "cell_type": "markdown",
   "metadata": {},
   "source": [
    "### Camada de convolução"
   ]
  },
  {
   "cell_type": "code",
   "execution_count": 31,
   "metadata": {},
   "outputs": [
    {
     "name": "stdout",
     "output_type": "stream",
     "text": [
      "tensor([[[1.0531, 2.2212, 2.2763, 3.0044, 2.1013, 2.3176, 0.8781]]],\n",
      "       grad_fn=<ConvolutionBackward0>)\n"
     ]
    }
   ],
   "source": [
    "# A entrada terá 1 canal, queremos apenas 1 canal de saída. O tamanho do filtro é ks, o \n",
    "# padding é metade do tamanho do filtro e a camada não terá bias\n",
    "conv = nn.Conv1d(in_channels=1, out_channels=1, kernel_size=ks, padding=ks//2, bias=False)\n",
    "y = conv(x)\n",
    "print(y)"
   ]
  },
  {
   "cell_type": "markdown",
   "metadata": {},
   "source": [
    "Uma camada de convolução consiste em um filtro possuindo valores aleatórios. Esse filtro possui o parâmetro requires_grad=True por padrão. Podemos alterar os valores do filtro se quisermos:"
   ]
  },
  {
   "cell_type": "code",
   "execution_count": 32,
   "metadata": {},
   "outputs": [
    {
     "name": "stdout",
     "output_type": "stream",
     "text": [
      "torch.Size([1, 1, 3])\n",
      "Parameter containing:\n",
      "tensor([[[0.1241, 0.0843, 0.1579]]], requires_grad=True)\n"
     ]
    },
    {
     "data": {
      "text/plain": [
       "tensor([[[22., 37., 41., 49., 34., 33., 15.]]], grad_fn=<ConvolutionBackward0>)"
      ]
     },
     "execution_count": 32,
     "metadata": {},
     "output_type": "execute_result"
    }
   ],
   "source": [
    "print(conv.weight.shape)\n",
    "print(conv.weight)\n",
    "\n",
    "with torch.no_grad():\n",
    "    conv.weight[:] = weight\n",
    "\n",
    "# Mesmo resultado que a convolução que fizemos antes:\n",
    "conv(x)"
   ]
  },
  {
   "cell_type": "markdown",
   "metadata": {},
   "source": [
    "### Relação entre convolução e combinação linear\n",
    "\n",
    "Uma convolução nada mais é do que uma combinação linear com menos parâmetros"
   ]
  },
  {
   "cell_type": "code",
   "execution_count": 33,
   "metadata": {},
   "outputs": [
    {
     "data": {
      "text/plain": [
       "tensor([[[22., 37., 41., 49., 34., 33., 15.]]])"
      ]
     },
     "execution_count": 33,
     "metadata": {},
     "output_type": "execute_result"
    }
   ],
   "source": [
    "# Matriz de convolução. Cada linha representa uma posição do kernel. Por exemplo,\n",
    "# a linha 0 fará a operação 2*x[0]+3*x[1]+0*x[2]+...\n",
    "matrix = torch.tensor([[2, 3, 0, 0, 0, 0, 0],\n",
    "                       [1, 2, 3, 0, 0, 0, 0],\n",
    "                       [0, 1, 2, 3, 0, 0, 0],\n",
    "                       [0, 0, 1, 2, 3, 0, 0],\n",
    "                       [0, 0, 0, 1, 2, 3, 0],\n",
    "                       [0, 0, 0, 0, 1, 2, 3],\n",
    "                       [0, 0, 0, 0, 0, 1, 2]], dtype=torch.float32)\n",
    "\n",
    "F.linear(x, matrix)"
   ]
  },
  {
   "cell_type": "markdown",
   "metadata": {},
   "source": [
    "Acima temos uma matrix 7x7 que recebe 7 atributos de entrada e gera 7 atributos de saída. Mas a combinação linear dos atributos de entrada sempre envolvem apenas 3 parâmetros."
   ]
  },
  {
   "cell_type": "markdown",
   "metadata": {},
   "source": [
    "### Convolução com mais de um canal"
   ]
  },
  {
   "cell_type": "code",
   "execution_count": 34,
   "metadata": {},
   "outputs": [
    {
     "name": "stdout",
     "output_type": "stream",
     "text": [
      "x\n",
      " tensor([[[0.2595, 0.4360, 0.9751, 0.8359, 0.4812, 0.0297, 0.5219],\n",
      "         [0.1595, 0.9066, 0.1965, 0.4639, 0.3890, 0.5890, 0.9705],\n",
      "         [0.5475, 0.7896, 0.8881, 0.9037, 0.3273, 0.3882, 0.7410],\n",
      "         [0.3636, 0.7341, 0.3908, 0.1609, 0.7035, 0.5767, 0.7229]]])\n",
      "y\n",
      " tensor([[[-0.5297, -0.6224, -0.4079, -0.3194, -0.4971, -0.7800, -0.7244],\n",
      "         [-0.3391, -0.3552, -0.1326, -0.3805, -0.3794, -0.2235, -0.1674],\n",
      "         [ 0.2176,  0.3570,  0.2799,  0.3593,  0.2547,  0.1111, -0.0797],\n",
      "         [-0.7142, -0.7898, -0.6086, -0.7097, -0.4787, -0.7493, -0.2214],\n",
      "         [-0.1135,  0.2226,  0.6901,  0.3826,  0.0328, -0.1322,  0.0821]]],\n",
      "       grad_fn=<ConvolutionBackward0>)\n"
     ]
    }
   ],
   "source": [
    "# Batch contendo um sinal de tamanho 7 e com 4 canais\n",
    "x = torch.rand(size=(1,4,7))\n",
    "# Camada que recebe sinal com 4 canais e gera um sinal com 5 canais.\n",
    "conv = nn.Conv1d(in_channels=4, out_channels=5, kernel_size=ks, padding=ks//2, bias=False)\n",
    "\n",
    "y = conv(x)\n",
    "print('x\\n',x)\n",
    "# Saída possui tamanho 1x5x7\n",
    "print('y\\n',y)"
   ]
  },
  {
   "cell_type": "markdown",
   "metadata": {},
   "source": [
    "* O **número de canais de saída** define o **número de filtros** que serão utilizados na camada de convolução. No nosso caso, temos 5 filtros\n",
    "* Cada filtro possui **tamanho espacial ks**\n",
    "* Cada filtro possui **profundidade 4**, pois o sinal de entrada possui 4 canais.\n",
    "* Portanto, temos 5 filtros de tamanho 4 x ks cada\n",
    "* Portanto, o tamanho do tensor .weight da camada de convolução possui tamanho 5 x 4 x ks"
   ]
  },
  {
   "cell_type": "code",
   "execution_count": 35,
   "metadata": {},
   "outputs": [
    {
     "data": {
      "text/plain": [
       "torch.Size([5, 4, 3])"
      ]
     },
     "execution_count": 35,
     "metadata": {},
     "output_type": "execute_result"
    }
   ],
   "source": [
    "conv.weight.shape"
   ]
  },
  {
   "cell_type": "code",
   "execution_count": 36,
   "metadata": {},
   "outputs": [
    {
     "name": "stdout",
     "output_type": "stream",
     "text": [
      "True\n"
     ]
    }
   ],
   "source": [
    "# Filtro 1 da camada\n",
    "filtro1 = conv.weight[0]\n",
    "# Região do sinal que corresponde quando o filtro está na posição 1\n",
    "regiao = x[0,:,0:3]\n",
    "# Resultado da convolução para esse ponto específico\n",
    "res = (filtro1*regiao).sum()\n",
    "# comparação do resultado\n",
    "print(torch.allclose(y[0,0,1], res))"
   ]
  },
  {
   "cell_type": "markdown",
   "metadata": {},
   "source": [
    "### Outros parâmetros da convolução"
   ]
  },
  {
   "cell_type": "markdown",
   "metadata": {},
   "source": [
    "#### Stride\n",
    "Stride define a quantidade de deslocamento do filtro para cada posição na qual a convolução será calculada"
   ]
  },
  {
   "cell_type": "code",
   "execution_count": 37,
   "metadata": {},
   "outputs": [
    {
     "name": "stdout",
     "output_type": "stream",
     "text": [
      "tensor([[[37., 49., 33.]]])\n"
     ]
    }
   ],
   "source": [
    "x = torch.tensor([5, 4, 8, 7, 9, 3, 6], dtype=torch.float32)\n",
    "weight = torch.tensor([1, 2, 3], dtype=torch.float32)\n",
    "x = x.reshape(1,1,len(x))\n",
    "weight = weight.reshape(1,1,len(weight))\n",
    "\n",
    "# Faz o filtro deslocar duas posições ao invés de deslocar uma posição por vez\n",
    "y = F.conv1d(x, weight, stride=2)\n",
    "print(y)"
   ]
  },
  {
   "cell_type": "code",
   "execution_count": 38,
   "metadata": {},
   "outputs": [
    {
     "name": "stdout",
     "output_type": "stream",
     "text": [
      "True\n"
     ]
    }
   ],
   "source": [
    "# O resultado de stride=2 é equivalente a indexar a saída de stride=1 pulando 2 índices\n",
    "yt = F.conv1d(x, weight, stride=1)\n",
    "print(torch.allclose(y, yt[0,0,::2]))"
   ]
  },
  {
   "cell_type": "markdown",
   "metadata": {},
   "source": [
    "#### Dilatação\n",
    "\n",
    "Dilatação consiste em aumentar o tamanho do filtro sem aumentar o número de parâmetros"
   ]
  },
  {
   "cell_type": "code",
   "execution_count": 39,
   "metadata": {},
   "outputs": [
    {
     "name": "stdout",
     "output_type": "stream",
     "text": [
      "tensor([[[48., 27., 44.]]])\n"
     ]
    }
   ],
   "source": [
    "y = F.conv1d(x, weight, dilation=2)\n",
    "print(y)"
   ]
  },
  {
   "cell_type": "code",
   "execution_count": 41,
   "metadata": {},
   "outputs": [
    {
     "name": "stdout",
     "output_type": "stream",
     "text": [
      "True\n"
     ]
    }
   ],
   "source": [
    "# dilatação=2 é equivalente a inserir 0 entre os valores do filtro\n",
    "wt = torch.tensor([1, 0, 2, 0, 3], dtype=torch.float32).reshape(1,1,-1)\n",
    "yt = F.conv1d(x, wt, dilation=1)\n",
    "print(torch.allclose(y, yt))"
   ]
  }
 ],
 "metadata": {
  "kernelspec": {
   "display_name": "pytorch",
   "language": "python",
   "name": "python3"
  },
  "language_info": {
   "codemirror_mode": {
    "name": "ipython",
    "version": 3
   },
   "file_extension": ".py",
   "mimetype": "text/x-python",
   "name": "python",
   "nbconvert_exporter": "python",
   "pygments_lexer": "ipython3",
   "version": "3.12.2"
  }
 },
 "nbformat": 4,
 "nbformat_minor": 2
}
