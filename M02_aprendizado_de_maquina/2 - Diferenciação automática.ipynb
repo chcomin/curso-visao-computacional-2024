{
 "cells": [
  {
   "cell_type": "markdown",
   "metadata": {},
   "source": [
    "# Diferenciação automática\n",
    "\n",
    "A diferenciação automática é uma técnica para calcular e propagar derivadas usando a regra da cadeia, que é a principal operação de qualquer rede neural usando o algoritmo de retropropagação e gradiente descendente. "
   ]
  },
  {
   "cell_type": "markdown",
   "metadata": {},
   "source": [
    "### Diferenciação automática utilizando Pytorch"
   ]
  },
  {
   "cell_type": "code",
   "execution_count": 1,
   "metadata": {},
   "outputs": [
    {
     "name": "stdout",
     "output_type": "stream",
     "text": [
      "tensor(8.)\n"
     ]
    }
   ],
   "source": [
    "import torch\n",
    "\n",
    "# Cria um tensor com valor 1. requires_grad=True significa que queremos\n",
    "# calcular o gradiente em relação a essa variável.\n",
    "x = torch.tensor(1., requires_grad=True)\n",
    "y = 4*x**2\n",
    "\n",
    "# Calcula o gradiente de y em relação a x.\n",
    "y.backward()\n",
    "\n",
    "# A componente dy/dx do gradiente é armazenada como o atributo .grad da variável x\n",
    "dydx = x.grad\n",
    "\n",
    "# dydx = 8*x = 8\n",
    "print(dydx)"
   ]
  },
  {
   "cell_type": "markdown",
   "metadata": {},
   "source": [
    "Vamos calcular o gradiente para uma expressão mais complexa:\n",
    "\n",
    "$\n",
    "\\large\n",
    "y = x_1*x_2 + x_3^2 - \\frac{x_4}{x_2}\n",
    "$\n",
    "\n",
    "O gradiente de y é dado por\n",
    "\n",
    "$\n",
    "\\large\n",
    "\\nabla y = (\\frac{\\partial{y}}{\\partial{x1}}, \\frac{\\partial{y}}{\\partial{x2}}, \\frac{\\partial{y}}{\\partial{x3}}, \\frac{\\partial{y}}{\\partial{x4}})\n",
    "$"
   ]
  },
  {
   "cell_type": "code",
   "execution_count": 2,
   "metadata": {},
   "outputs": [
    {
     "name": "stdout",
     "output_type": "stream",
     "text": [
      "tensor(3.)\n",
      "tensor(2.4444)\n",
      "tensor(2.)\n",
      "tensor(-0.3333)\n"
     ]
    }
   ],
   "source": [
    "def function(x1, x2, x3, x4):\n",
    "\n",
    "    y = x1*x2 + x3**2 - x4/x2\n",
    "    return y\n",
    "\n",
    "def gradient(y, x1, x2, x3, x4):\n",
    "    \n",
    "    y.backward()\n",
    "    gradient = [x1.grad, x2.grad, x3.grad, x4.grad]\n",
    "    return gradient\n",
    "\n",
    "x1 = torch.tensor(2., requires_grad=True)\n",
    "x2 = torch.tensor(3., requires_grad=True)\n",
    "x3 = torch.tensor(1., requires_grad=True)\n",
    "x4 = torch.tensor(4., requires_grad=True)\n",
    "\n",
    "y = function(x1, x2, x3, x4)\n",
    "grad = gradient(y, x1, x2, x3, x4)\n",
    "\n",
    "dydx1, dydx2, dydx3, dydx4 = grad\n",
    "\n",
    "# dydx1 = x2 = 3\n",
    "print(dydx1)\n",
    "\n",
    "# dydx2 = x1 + x4/x2**2 = 2 + 4/9 = 2.4444\n",
    "print(dydx2)\n",
    "\n",
    "# dydx3 = 2*x3 = 2\n",
    "print(dydx3)\n",
    "\n",
    "# dydx4 = -1/x2 = -0.33333\n",
    "print(dydx4)"
   ]
  },
  {
   "cell_type": "markdown",
   "metadata": {},
   "source": [
    "O método y.backward() calcula o gradiente de y em relação à todas as variáveis que seguem os seguintes critérios:\n",
    "1. A variável foi utilizada para calcular y\n",
    "2. A variável possui o atributo requires_grad=True\n",
    "3. A variável é folha do grafo de computação, ou seja, ela não foi calculada a partir de nenhuma outra variável com requires_grad=True\n",
    "\n",
    "Caso a derivada de alguma variável intermediária seja necessária para calcular o gradiente, o Pytorch também calcula essa derivada. Mas assim que o valor não for mais necessário a derivada é apagada da memória, e apenas as derivadas em relação às variáveis folha são mantidos.\n",
    "\n",
    "Podemos também calcular o gradiente de funções compostas, isto é, funções (ou variáveis) que dependem de outras funções:\n",
    "\n",
    "$\n",
    "\\begin{align}\n",
    "& y(x) = 3*x^2 \\\\\n",
    "& z(y) = y^4 \\\\\n",
    "\\end{align}\n",
    "$\n",
    "\n",
    "$\n",
    "\\begin{align}\n",
    "\\frac{\\partial{z}}{\\partial{x}} & = \\frac{\\partial{z}}{\\partial{y}}\\frac{\\partial{z}}{\\partial{x}} \\\\\n",
    "\\frac{\\partial{z}}{\\partial{x}} & = 4*y^3 * 6*x\n",
    "\\end{align}\n",
    "$"
   ]
  },
  {
   "cell_type": "code",
   "execution_count": 3,
   "metadata": {},
   "outputs": [
    {
     "name": "stdout",
     "output_type": "stream",
     "text": [
      "tensor(82944.)\n",
      "tensor(6912.)\n"
     ]
    }
   ],
   "source": [
    "def y_func(x):\n",
    "    return 3*x**2\n",
    "\n",
    "def z_func(y):\n",
    "    return y**4\n",
    "\n",
    "x = torch.tensor(2., requires_grad=True)\n",
    "y = y_func(x)\n",
    "z = z_func(y)\n",
    "\n",
    "# Como mencionado, o Pytorch mantém apenas o gradiente de variáveis folha \n",
    "# (x no nosso caso). Para podermos acessar o gradiente de uma variável não-folha \n",
    "# precisamos indicar explicitamente que queremos manter o gradiente da variável \n",
    "# usando o método .retain_grad()\n",
    "y.retain_grad() \n",
    "z.backward()\n",
    "\n",
    "# dzdx = 4*y**3*6*x = (4*12**3)*6*2 = 82944\n",
    "print(x.grad)\n",
    "\n",
    "# dzdy = 4*y**3 = 4*12**3 = 6912\n",
    "print(y.grad)"
   ]
  },
  {
   "cell_type": "markdown",
   "metadata": {},
   "source": [
    "Internamente o Pytorch cria um *grafo de computação* que armazena todas as informações necessárias para calcular o gradiente de qualquer variável. O grafo possui nós associados às variáveis, e cada nó possui as informações necessárias para calcular a derivada do valor de saída do nó em relação aos valores de entrada. Essas informações podem ser acessadas através do atributo .grad_fn\n",
    "\n",
    "![](../data/notebook_images/autograd.png)"
   ]
  },
  {
   "cell_type": "code",
   "execution_count": 4,
   "metadata": {},
   "outputs": [
    {
     "name": "stdout",
     "output_type": "stream",
     "text": [
      "<MulBackward0 object at 0x12bd09930>\n",
      "tensor(5., requires_grad=True)\n",
      "tensor(2., requires_grad=True)\n"
     ]
    }
   ],
   "source": [
    "x = torch.tensor(2., requires_grad=True)\n",
    "y = torch.tensor(5., requires_grad=True)\n",
    "z = x*y\n",
    "\n",
    "print(z.grad_fn)\n",
    "print(z.grad_fn._saved_other)\n",
    "print(z.grad_fn._saved_self)"
   ]
  },
  {
   "cell_type": "code",
   "execution_count": 5,
   "metadata": {},
   "outputs": [
    {
     "name": "stdout",
     "output_type": "stream",
     "text": [
      "tensor(5., grad_fn=<MulBackward0>) tensor(2., grad_fn=<MulBackward0>)\n"
     ]
    }
   ],
   "source": [
    "dzdx, dzdy = z.grad_fn(torch.tensor(1.))\n",
    "print(dzdx, dzdy)"
   ]
  },
  {
   "cell_type": "markdown",
   "metadata": {},
   "source": [
    "### Detalhes importantes ao trabalhar com o Pytorch"
   ]
  },
  {
   "cell_type": "markdown",
   "metadata": {},
   "source": [
    "#### Acúmulo de gradientes"
   ]
  },
  {
   "cell_type": "code",
   "execution_count": 6,
   "metadata": {},
   "outputs": [
    {
     "name": "stdout",
     "output_type": "stream",
     "text": [
      "tensor(4.)\n",
      "tensor(11.)\n",
      "tensor(13.)\n",
      "tensor(21.)\n"
     ]
    }
   ],
   "source": [
    "# Parâmetro do modelo\n",
    "w = torch.tensor(1., requires_grad=True)\n",
    "# Dados de entrada\n",
    "data = [4, 7, 2, 8]\n",
    "# Ilustração de parte de um loop de treinamento. Para cada dado, calculamos a saída e o gradiente.\n",
    "for x in data:\n",
    "    y = w*x\n",
    "    y.backward()\n",
    "    print(w.grad)"
   ]
  },
  {
   "cell_type": "markdown",
   "metadata": {},
   "source": [
    "Note que o gradiente está sempre aumentando, o que não é o esperado. Isso ocorre porque o Pytorch **sempre acumula os gradientes** a cada vez que o método .backward() é chamado. Em outras palavras, ele faz algo como:\n",
    "\n",
    "dydx = calculate_gradient(y, x)\\\n",
    "x.grad += dydx\n",
    "\n",
    "Se não desejamos acumular os gradientes, o que é o caso em geral, devemos sempre apagar os gradientes antes de chamar .backward() novamente:"
   ]
  },
  {
   "cell_type": "code",
   "execution_count": 7,
   "metadata": {},
   "outputs": [
    {
     "name": "stdout",
     "output_type": "stream",
     "text": [
      "tensor(4.)\n",
      "tensor(7.)\n",
      "tensor(2.)\n",
      "tensor(8.)\n"
     ]
    }
   ],
   "source": [
    "w = torch.tensor(1., requires_grad=True)\n",
    "data = [4, 7, 2, 8]\n",
    "for x in data:\n",
    "    # Remove o gradiente anteriormente computado, se existir. Poderíamos também utilizar\n",
    "    # w.grad = torch.tensor(0.), mas atribuir a None proporciona uma performance um pouco melhor\n",
    "    w.grad = None\n",
    "    y = w*x\n",
    "    y.backward()\n",
    "    print(w.grad)"
   ]
  },
  {
   "cell_type": "markdown",
   "metadata": {},
   "source": [
    "#### Modificando um tensor que possui requires_grad=True"
   ]
  },
  {
   "cell_type": "code",
   "execution_count": 8,
   "metadata": {},
   "outputs": [
    {
     "name": "stdout",
     "output_type": "stream",
     "text": [
      "a leaf Variable that requires grad is being used in an in-place operation.\n",
      "a leaf Variable that requires grad is being used in an in-place operation.\n",
      "a leaf Variable that requires grad is being used in an in-place operation.\n",
      "a leaf Variable that requires grad is being used in an in-place operation.\n"
     ]
    }
   ],
   "source": [
    "w = torch.tensor(1., requires_grad=True)\n",
    "data = [4, 7, 2, 8]\n",
    "lr = 0.1\n",
    "# Ilustração de parte de um loop de treinamento, agora também com a atualização do\n",
    "# parâmetro do modelo de acordo com o gradiente calculado. \n",
    "for x in data:\n",
    "    w.grad = None\n",
    "    y = w*x\n",
    "    y.backward()\n",
    "    # O comando abaixo dará erro. Foi adicionado um try para o notebook poder executar\n",
    "    try:\n",
    "        w -= lr*w.grad\n",
    "    except RuntimeError as re:\n",
    "        print(re)"
   ]
  },
  {
   "cell_type": "markdown",
   "metadata": {},
   "source": [
    "O código acima dá erro. A princípio o erro pode parecer confuso, mas podemos entendê-lo ao pensar no grafo que o Pytorch constrói para calcular os gradientes.\n",
    "\n",
    "O termo **leaf variable** está relacionado à variável `w`. Ela é chamada de variável folha porque ela não é calculada a partir de outras variáveis, isto é, ela é definida com um valor inicial utilizando a função torch.tensor(). O Pytorch precisa saber o valor dessa variável ao calcular os gradientes, pois ele pode ser necessário ao aplicar a regra da cadeia.\n",
    "\n",
    "A operação `w -= valor` é uma operação in-place. Ela modifica o valor do tensor. Com isso, se o Pytorch permitisse essa operação, não teria como ele acessar o valor da variável. Por isso ele evita que isso ocorra dando erro.\n",
    "\n",
    "Ao invés de usar `w -= valor`, poderíamos atualizar o valor de outra forma:"
   ]
  },
  {
   "cell_type": "code",
   "execution_count": 9,
   "metadata": {},
   "outputs": [
    {
     "name": "stdout",
     "output_type": "stream",
     "text": [
      "unsupported operand type(s) for *: 'float' and 'NoneType'\n",
      "unsupported operand type(s) for *: 'float' and 'NoneType'\n",
      "unsupported operand type(s) for *: 'float' and 'NoneType'\n"
     ]
    },
    {
     "name": "stderr",
     "output_type": "stream",
     "text": [
      "/var/folders/1c/2c99sbwd2p7g72bmdbq2_svr0000gn/T/ipykernel_1089/2045425795.py:9: UserWarning: The .grad attribute of a Tensor that is not a leaf Tensor is being accessed. Its .grad attribute won't be populated during autograd.backward(). If you indeed want the .grad field to be populated for a non-leaf Tensor, use .retain_grad() on the non-leaf Tensor. If you access the non-leaf Tensor by mistake, make sure you access the leaf Tensor instead. See github.com/pytorch/pytorch/pull/30531 for more informations. (Triggered internally at /Users/runner/work/_temp/anaconda/conda-bld/pytorch_1708025538153/work/build/aten/src/ATen/core/TensorBody.h:494.)\n",
      "  w = w - lr*w.grad\n"
     ]
    }
   ],
   "source": [
    "w = torch.tensor(1., requires_grad=True)\n",
    "data = [4, 7, 2, 8]\n",
    "lr = 0.1\n",
    "for x in data:\n",
    "    w.grad = None\n",
    "    y = w*x\n",
    "    y.backward()\n",
    "    try:\n",
    "        w = w - lr*w.grad\n",
    "    except TypeError as te:\n",
    "        print(te)"
   ]
  },
  {
   "cell_type": "markdown",
   "metadata": {},
   "source": [
    "Erro novamente? Agora o problema é outro. É importante lembrar que qualquer operação envolvendo um tensor que requer gradiente é armazenada no grafo de computação. Ao fazer `w = w - lr*w.grad`, estamos criando uma nova variável chamada `w` cujo valor é dado por `w - lr*w.grad`. Isso faz com que `w` não seja mais uma variável folha, e não podemos mais acessar o atributo .grad dela.\n",
    "\n",
    "Mais importante, não tem porque registrarmos a operação `w = w - lr*w.grad` no grafo de computação. Queremos apenas atualizar o valor do gradiente. Essa operação nunca será utilizada no cálculo de gradiente. Portanto, para essa operação em particular, devemos evitar de registrá-la no grafo:"
   ]
  },
  {
   "cell_type": "code",
   "execution_count": 10,
   "metadata": {},
   "outputs": [
    {
     "name": "stdout",
     "output_type": "stream",
     "text": [
      "tensor(0.6000, requires_grad=True)\n",
      "tensor(-0.1000, requires_grad=True)\n",
      "tensor(-0.3000, requires_grad=True)\n",
      "tensor(-1.1000, requires_grad=True)\n"
     ]
    }
   ],
   "source": [
    "w = torch.tensor(1., requires_grad=True)\n",
    "data = [4, 7, 2, 8]\n",
    "lr = 0.1\n",
    "for x in data:\n",
    "    w.grad = None\n",
    "    y = w*x\n",
    "    y.backward()\n",
    "    # Contexto Python. Todo código dentro do contexto não será registrado para o \n",
    "    # cálculo do gradiente\n",
    "    with torch.no_grad():\n",
    "        w -= lr*w.grad\n",
    "    print(w)"
   ]
  },
  {
   "cell_type": "markdown",
   "metadata": {},
   "source": [
    "#### Copiando dados e removendo um tensor do grafo de computação"
   ]
  },
  {
   "cell_type": "code",
   "execution_count": 11,
   "metadata": {},
   "outputs": [],
   "source": [
    "x = torch.randn(100, requires_grad=True)\n",
    "\n",
    "# Copia os dados de x para y. Note que a cópia é incluída no grafo de computação. \n",
    "y = torch.clone(x)\n",
    "\n",
    "# Define um novo tensor, removendo ele do cálculo de gradientes. Importante! Os dados\n",
    "# dos dois tensores são compartilhados. Não modifique o tensor y, pois pode levar\n",
    "# a erros no cálculo do gradiente\n",
    "y = x.detach()\n",
    "\n",
    "# Remove o tensor do grafo e copia os valores. Comando ideal para copiar valores\n",
    "y = x.detach().clone()\n",
    "\n",
    "# Equivalente ao código acima\n",
    "with torch.no_grad():\n",
    "    y = x.clone()\n",
    "\n",
    "# Não recomendado. Cria um novo tensor com requires_grad=False copiando os dados de x \n",
    "#y = torch.tensor(x)"
   ]
  },
  {
   "cell_type": "code",
   "execution_count": 12,
   "metadata": {},
   "outputs": [
    {
     "name": "stdout",
     "output_type": "stream",
     "text": [
      "True\n"
     ]
    }
   ],
   "source": [
    "x = torch.randn(100, requires_grad=True)\n",
    "print(x.requires_grad)\n",
    "\n",
    "# Remove o tensor do grafo\n",
    "x.requires_grad = False\n",
    "\n",
    "# Equivalente ao comando acima \n",
    "x.requires_grad_(False)\n",
    "\n",
    "# Conversão entre o pytorch e numpy. Importante! As variáveis compartilham a memória. \n",
    "# A alteração em uma variável altera a outra. Outra coisa, a conversão dará erro se\n",
    "# o tensor possuir requires_grad=True\n",
    "y = x.numpy()\n",
    "z = torch.from_numpy(y)\n",
    "\n",
    "# Tensores possuindo um único valor podem ser transformados em um valor Python\n",
    "# através do método .item()\n",
    "soma = x.sum().item()"
   ]
  },
  {
   "cell_type": "markdown",
   "metadata": {},
   "source": [
    "### Exemplo de implementação de diferenciação automática\n",
    "\n",
    "A célula abaixo utiliza uma classe bem simples chamada `Value` que mostra como implementar diferenciação automática. A classe está implementada no arquivo `autodiff.py` localizado no mesmo diretório deste notebook. Não é necessário executar ela para executar o resto do notebook. Ela está aqui apenas para mostrar como a diferenciação automática pode ser implementada."
   ]
  },
  {
   "cell_type": "code",
   "execution_count": 13,
   "metadata": {},
   "outputs": [
    {
     "data": {
      "image/svg+xml": [
       "<?xml version=\"1.0\" encoding=\"UTF-8\" standalone=\"no\"?>\n",
       "<!DOCTYPE svg PUBLIC \"-//W3C//DTD SVG 1.1//EN\"\n",
       " \"http://www.w3.org/Graphics/SVG/1.1/DTD/svg11.dtd\">\n",
       "<!-- Generated by graphviz version 9.0.0 (0)\n",
       " -->\n",
       "<!-- Pages: 1 -->\n",
       "<svg width=\"1071pt\" height=\"210pt\"\n",
       " viewBox=\"0.00 0.00 1070.50 210.00\" xmlns=\"http://www.w3.org/2000/svg\" xmlns:xlink=\"http://www.w3.org/1999/xlink\">\n",
       "<g id=\"graph0\" class=\"graph\" transform=\"scale(1 1) rotate(0) translate(4 206)\">\n",
       "<polygon fill=\"white\" stroke=\"none\" points=\"-4,4 -4,-206 1066.5,-206 1066.5,4 -4,4\"/>\n",
       "<!-- 5036975136 -->\n",
       "<g id=\"node1\" class=\"node\">\n",
       "<title>5036975136</title>\n",
       "<polygon fill=\"none\" stroke=\"black\" points=\"293.75,-55.5 293.75,-91.5 461.5,-91.5 461.5,-55.5 293.75,-55.5\"/>\n",
       "<text text-anchor=\"middle\" x=\"337\" y=\"-67.7\" font-family=\"Times,serif\" font-size=\"14.00\">data 70.0000</text>\n",
       "<polyline fill=\"none\" stroke=\"black\" points=\"380.25,-56.25 380.25,-91.5\"/>\n",
       "<text text-anchor=\"middle\" x=\"420.88\" y=\"-67.7\" font-family=\"Times,serif\" font-size=\"14.00\">grad 0.0000</text>\n",
       "</g>\n",
       "<!-- 5036976192+ -->\n",
       "<g id=\"node6\" class=\"node\">\n",
       "<title>5036976192+</title>\n",
       "<ellipse fill=\"none\" stroke=\"black\" cx=\"524.5\" cy=\"-100.5\" rx=\"27\" ry=\"18\"/>\n",
       "<text text-anchor=\"middle\" x=\"524.5\" y=\"-94.33\" font-family=\"Times,serif\" font-size=\"14.00\">+</text>\n",
       "</g>\n",
       "<!-- 5036975136&#45;&gt;5036976192+ -->\n",
       "<g id=\"edge8\" class=\"edge\">\n",
       "<title>5036975136&#45;&gt;5036976192+</title>\n",
       "<path fill=\"none\" stroke=\"black\" d=\"M461.64,-88.97C470.46,-90.61 479.06,-92.22 486.91,-93.68\"/>\n",
       "<polygon fill=\"black\" stroke=\"black\" points=\"486.22,-97.11 496.69,-95.5 487.5,-90.23 486.22,-97.11\"/>\n",
       "</g>\n",
       "<!-- 5036975136* -->\n",
       "<g id=\"node2\" class=\"node\">\n",
       "<title>5036975136*</title>\n",
       "<ellipse fill=\"none\" stroke=\"black\" cx=\"230.75\" cy=\"-73.5\" rx=\"27\" ry=\"18\"/>\n",
       "<text text-anchor=\"middle\" x=\"230.75\" y=\"-67.33\" font-family=\"Times,serif\" font-size=\"14.00\">*</text>\n",
       "</g>\n",
       "<!-- 5036975136*&#45;&gt;5036975136 -->\n",
       "<g id=\"edge1\" class=\"edge\">\n",
       "<title>5036975136*&#45;&gt;5036975136</title>\n",
       "<path fill=\"none\" stroke=\"black\" d=\"M257.99,-73.5C265.21,-73.5 273.49,-73.5 282.23,-73.5\"/>\n",
       "<polygon fill=\"black\" stroke=\"black\" points=\"282.01,-77 292.01,-73.5 282.01,-70 282.01,-77\"/>\n",
       "</g>\n",
       "<!-- 5036546608 -->\n",
       "<g id=\"node3\" class=\"node\">\n",
       "<title>5036546608</title>\n",
       "<polygon fill=\"none\" stroke=\"black\" points=\"293.75,-110.5 293.75,-146.5 461.5,-146.5 461.5,-110.5 293.75,-110.5\"/>\n",
       "<text text-anchor=\"middle\" x=\"337\" y=\"-122.7\" font-family=\"Times,serif\" font-size=\"14.00\">data 15.0000</text>\n",
       "<polyline fill=\"none\" stroke=\"black\" points=\"380.25,-111.25 380.25,-146.5\"/>\n",
       "<text text-anchor=\"middle\" x=\"420.88\" y=\"-122.7\" font-family=\"Times,serif\" font-size=\"14.00\">grad 0.0000</text>\n",
       "</g>\n",
       "<!-- 5036546608&#45;&gt;5036976192+ -->\n",
       "<g id=\"edge12\" class=\"edge\">\n",
       "<title>5036546608&#45;&gt;5036976192+</title>\n",
       "<path fill=\"none\" stroke=\"black\" d=\"M461.64,-112.46C470.46,-110.75 479.06,-109.09 486.91,-107.57\"/>\n",
       "<polygon fill=\"black\" stroke=\"black\" points=\"487.54,-111.01 496.69,-105.68 486.21,-104.14 487.54,-111.01\"/>\n",
       "</g>\n",
       "<!-- 5036546608* -->\n",
       "<g id=\"node4\" class=\"node\">\n",
       "<title>5036546608*</title>\n",
       "<ellipse fill=\"none\" stroke=\"black\" cx=\"230.75\" cy=\"-128.5\" rx=\"27\" ry=\"18\"/>\n",
       "<text text-anchor=\"middle\" x=\"230.75\" y=\"-122.33\" font-family=\"Times,serif\" font-size=\"14.00\">*</text>\n",
       "</g>\n",
       "<!-- 5036546608*&#45;&gt;5036546608 -->\n",
       "<g id=\"edge2\" class=\"edge\">\n",
       "<title>5036546608*&#45;&gt;5036546608</title>\n",
       "<path fill=\"none\" stroke=\"black\" d=\"M257.99,-128.5C265.21,-128.5 273.49,-128.5 282.23,-128.5\"/>\n",
       "<polygon fill=\"black\" stroke=\"black\" points=\"282.01,-132 292.01,-128.5 282.01,-125 282.01,-132\"/>\n",
       "</g>\n",
       "<!-- 5036976192 -->\n",
       "<g id=\"node5\" class=\"node\">\n",
       "<title>5036976192</title>\n",
       "<polygon fill=\"none\" stroke=\"black\" points=\"587.5,-82.5 587.5,-118.5 755.25,-118.5 755.25,-82.5 587.5,-82.5\"/>\n",
       "<text text-anchor=\"middle\" x=\"630.75\" y=\"-94.7\" font-family=\"Times,serif\" font-size=\"14.00\">data 85.0000</text>\n",
       "<polyline fill=\"none\" stroke=\"black\" points=\"674,-83.25 674,-118.5\"/>\n",
       "<text text-anchor=\"middle\" x=\"714.62\" y=\"-94.7\" font-family=\"Times,serif\" font-size=\"14.00\">grad 0.0000</text>\n",
       "</g>\n",
       "<!-- 5036976480* -->\n",
       "<g id=\"node11\" class=\"node\">\n",
       "<title>5036976480*</title>\n",
       "<ellipse fill=\"none\" stroke=\"black\" cx=\"818.25\" cy=\"-127.5\" rx=\"27\" ry=\"18\"/>\n",
       "<text text-anchor=\"middle\" x=\"818.25\" y=\"-121.33\" font-family=\"Times,serif\" font-size=\"14.00\">*</text>\n",
       "</g>\n",
       "<!-- 5036976192&#45;&gt;5036976480* -->\n",
       "<g id=\"edge11\" class=\"edge\">\n",
       "<title>5036976192&#45;&gt;5036976480*</title>\n",
       "<path fill=\"none\" stroke=\"black\" d=\"M755.39,-115.97C764.21,-117.61 772.81,-119.22 780.66,-120.68\"/>\n",
       "<polygon fill=\"black\" stroke=\"black\" points=\"779.97,-124.11 790.44,-122.5 781.25,-117.23 779.97,-124.11\"/>\n",
       "</g>\n",
       "<!-- 5036976192+&#45;&gt;5036976192 -->\n",
       "<g id=\"edge3\" class=\"edge\">\n",
       "<title>5036976192+&#45;&gt;5036976192</title>\n",
       "<path fill=\"none\" stroke=\"black\" d=\"M551.74,-100.5C558.96,-100.5 567.24,-100.5 575.98,-100.5\"/>\n",
       "<polygon fill=\"black\" stroke=\"black\" points=\"575.76,-104 585.76,-100.5 575.76,-97 575.76,-104\"/>\n",
       "</g>\n",
       "<!-- 5030060320 -->\n",
       "<g id=\"node7\" class=\"node\">\n",
       "<title>5030060320</title>\n",
       "<polygon fill=\"none\" stroke=\"black\" points=\"3.38,-165.5 3.38,-201.5 164.38,-201.5 164.38,-165.5 3.38,-165.5\"/>\n",
       "<text text-anchor=\"middle\" x=\"43.25\" y=\"-177.7\" font-family=\"Times,serif\" font-size=\"14.00\">data 3.0000</text>\n",
       "<polyline fill=\"none\" stroke=\"black\" points=\"83.12,-166.25 83.12,-201.5\"/>\n",
       "<text text-anchor=\"middle\" x=\"123.75\" y=\"-177.7\" font-family=\"Times,serif\" font-size=\"14.00\">grad 0.0000</text>\n",
       "</g>\n",
       "<!-- 5030060320&#45;&gt;5036546608* -->\n",
       "<g id=\"edge7\" class=\"edge\">\n",
       "<title>5030060320&#45;&gt;5036546608*</title>\n",
       "<path fill=\"none\" stroke=\"black\" d=\"M144.01,-165.11C152.04,-162.36 160.13,-159.45 167.75,-156.5 177.67,-152.66 188.29,-148.05 197.88,-143.69\"/>\n",
       "<polygon fill=\"black\" stroke=\"black\" points=\"199.2,-146.94 206.82,-139.57 196.27,-140.58 199.2,-146.94\"/>\n",
       "</g>\n",
       "<!-- 5036976432 -->\n",
       "<g id=\"node8\" class=\"node\">\n",
       "<title>5036976432</title>\n",
       "<polygon fill=\"none\" stroke=\"black\" points=\"587.5,-137.5 587.5,-173.5 755.25,-173.5 755.25,-137.5 587.5,-137.5\"/>\n",
       "<text text-anchor=\"middle\" x=\"630.75\" y=\"-149.7\" font-family=\"Times,serif\" font-size=\"14.00\">data 24.0000</text>\n",
       "<polyline fill=\"none\" stroke=\"black\" points=\"674,-138.25 674,-173.5\"/>\n",
       "<text text-anchor=\"middle\" x=\"714.62\" y=\"-149.7\" font-family=\"Times,serif\" font-size=\"14.00\">grad 0.0000</text>\n",
       "</g>\n",
       "<!-- 5036976432&#45;&gt;5036976480* -->\n",
       "<g id=\"edge10\" class=\"edge\">\n",
       "<title>5036976432&#45;&gt;5036976480*</title>\n",
       "<path fill=\"none\" stroke=\"black\" d=\"M755.39,-139.46C764.21,-137.75 772.81,-136.09 780.66,-134.57\"/>\n",
       "<polygon fill=\"black\" stroke=\"black\" points=\"781.29,-138.01 790.44,-132.68 779.96,-131.14 781.29,-138.01\"/>\n",
       "</g>\n",
       "<!-- 5036548432 -->\n",
       "<g id=\"node9\" class=\"node\">\n",
       "<title>5036548432</title>\n",
       "<polygon fill=\"none\" stroke=\"black\" points=\"0,-55.5 0,-91.5 167.75,-91.5 167.75,-55.5 0,-55.5\"/>\n",
       "<text text-anchor=\"middle\" x=\"43.25\" y=\"-67.7\" font-family=\"Times,serif\" font-size=\"14.00\">data 10.0000</text>\n",
       "<polyline fill=\"none\" stroke=\"black\" points=\"86.5,-56.25 86.5,-91.5\"/>\n",
       "<text text-anchor=\"middle\" x=\"127.12\" y=\"-67.7\" font-family=\"Times,serif\" font-size=\"14.00\">grad 0.0000</text>\n",
       "</g>\n",
       "<!-- 5036548432&#45;&gt;5036975136* -->\n",
       "<g id=\"edge6\" class=\"edge\">\n",
       "<title>5036548432&#45;&gt;5036975136*</title>\n",
       "<path fill=\"none\" stroke=\"black\" d=\"M167.89,-73.5C176.35,-73.5 184.62,-73.5 192.22,-73.5\"/>\n",
       "<polygon fill=\"black\" stroke=\"black\" points=\"192.01,-77 202.01,-73.5 192.01,-70 192.01,-77\"/>\n",
       "</g>\n",
       "<!-- 5036976480 -->\n",
       "<g id=\"node10\" class=\"node\">\n",
       "<title>5036976480</title>\n",
       "<polygon fill=\"none\" stroke=\"black\" points=\"881.25,-109.5 881.25,-145.5 1062.5,-145.5 1062.5,-109.5 881.25,-109.5\"/>\n",
       "<text text-anchor=\"middle\" x=\"931.25\" y=\"-121.7\" font-family=\"Times,serif\" font-size=\"14.00\">data 2040.0000</text>\n",
       "<polyline fill=\"none\" stroke=\"black\" points=\"981.25,-110.25 981.25,-145.5\"/>\n",
       "<text text-anchor=\"middle\" x=\"1021.88\" y=\"-121.7\" font-family=\"Times,serif\" font-size=\"14.00\">grad 0.0000</text>\n",
       "</g>\n",
       "<!-- 5036976480*&#45;&gt;5036976480 -->\n",
       "<g id=\"edge4\" class=\"edge\">\n",
       "<title>5036976480*&#45;&gt;5036976480</title>\n",
       "<path fill=\"none\" stroke=\"black\" d=\"M845.66,-127.5C852.82,-127.5 861.02,-127.5 869.72,-127.5\"/>\n",
       "<polygon fill=\"black\" stroke=\"black\" points=\"869.46,-131 879.46,-127.5 869.46,-124 869.46,-131\"/>\n",
       "</g>\n",
       "<!-- 5036834640 -->\n",
       "<g id=\"node12\" class=\"node\">\n",
       "<title>5036834640</title>\n",
       "<polygon fill=\"none\" stroke=\"black\" points=\"3.38,-0.5 3.38,-36.5 164.38,-36.5 164.38,-0.5 3.38,-0.5\"/>\n",
       "<text text-anchor=\"middle\" x=\"43.25\" y=\"-12.7\" font-family=\"Times,serif\" font-size=\"14.00\">data 7.0000</text>\n",
       "<polyline fill=\"none\" stroke=\"black\" points=\"83.12,-1.25 83.12,-36.5\"/>\n",
       "<text text-anchor=\"middle\" x=\"123.75\" y=\"-12.7\" font-family=\"Times,serif\" font-size=\"14.00\">grad 0.0000</text>\n",
       "</g>\n",
       "<!-- 5036834640&#45;&gt;5036975136* -->\n",
       "<g id=\"edge5\" class=\"edge\">\n",
       "<title>5036834640&#45;&gt;5036975136*</title>\n",
       "<path fill=\"none\" stroke=\"black\" d=\"M141.72,-36.99C150.48,-40.05 159.39,-43.27 167.75,-46.5 177.54,-50.28 188.05,-54.71 197.58,-58.87\"/>\n",
       "<polygon fill=\"black\" stroke=\"black\" points=\"195.9,-61.96 206.46,-62.81 198.73,-55.56 195.9,-61.96\"/>\n",
       "</g>\n",
       "<!-- 5026686368 -->\n",
       "<g id=\"node13\" class=\"node\">\n",
       "<title>5026686368</title>\n",
       "<polygon fill=\"none\" stroke=\"black\" points=\"3.38,-110.5 3.38,-146.5 164.38,-146.5 164.38,-110.5 3.38,-110.5\"/>\n",
       "<text text-anchor=\"middle\" x=\"43.25\" y=\"-122.7\" font-family=\"Times,serif\" font-size=\"14.00\">data 5.0000</text>\n",
       "<polyline fill=\"none\" stroke=\"black\" points=\"83.12,-111.25 83.12,-146.5\"/>\n",
       "<text text-anchor=\"middle\" x=\"123.75\" y=\"-122.7\" font-family=\"Times,serif\" font-size=\"14.00\">grad 0.0000</text>\n",
       "</g>\n",
       "<!-- 5026686368&#45;&gt;5036546608* -->\n",
       "<g id=\"edge9\" class=\"edge\">\n",
       "<title>5026686368&#45;&gt;5036546608*</title>\n",
       "<path fill=\"none\" stroke=\"black\" d=\"M164.52,-128.5C174.08,-128.5 183.48,-128.5 192.03,-128.5\"/>\n",
       "<polygon fill=\"black\" stroke=\"black\" points=\"191.97,-132 201.97,-128.5 191.97,-125 191.97,-132\"/>\n",
       "</g>\n",
       "</g>\n",
       "</svg>\n"
      ],
      "text/plain": [
       "<graphviz.graphs.Digraph at 0x12c3a2a50>"
      ]
     },
     "execution_count": 13,
     "metadata": {},
     "output_type": "execute_result"
    }
   ],
   "source": [
    "from autodiff import Value, draw_dot\n",
    "\n",
    "x1 = Value(5.0)\n",
    "x2 = Value(7.0)\n",
    "y = 3*x1 + 10*x2\n",
    "z = 24*y\n",
    "draw_dot(z)"
   ]
  },
  {
   "cell_type": "code",
   "execution_count": 14,
   "metadata": {},
   "outputs": [
    {
     "data": {
      "image/svg+xml": [
       "<?xml version=\"1.0\" encoding=\"UTF-8\" standalone=\"no\"?>\n",
       "<!DOCTYPE svg PUBLIC \"-//W3C//DTD SVG 1.1//EN\"\n",
       " \"http://www.w3.org/Graphics/SVG/1.1/DTD/svg11.dtd\">\n",
       "<!-- Generated by graphviz version 9.0.0 (0)\n",
       " -->\n",
       "<!-- Pages: 1 -->\n",
       "<svg width=\"1098pt\" height=\"210pt\"\n",
       " viewBox=\"0.00 0.00 1097.50 210.00\" xmlns=\"http://www.w3.org/2000/svg\" xmlns:xlink=\"http://www.w3.org/1999/xlink\">\n",
       "<g id=\"graph0\" class=\"graph\" transform=\"scale(1 1) rotate(0) translate(4 206)\">\n",
       "<polygon fill=\"white\" stroke=\"none\" points=\"-4,4 -4,-206 1093.5,-206 1093.5,4 -4,4\"/>\n",
       "<!-- 5036975136 -->\n",
       "<g id=\"node1\" class=\"node\">\n",
       "<title>5036975136</title>\n",
       "<polygon fill=\"none\" stroke=\"black\" points=\"307.25,-55.5 307.25,-91.5 481.75,-91.5 481.75,-55.5 307.25,-55.5\"/>\n",
       "<text text-anchor=\"middle\" x=\"350.5\" y=\"-67.7\" font-family=\"Times,serif\" font-size=\"14.00\">data 70.0000</text>\n",
       "<polyline fill=\"none\" stroke=\"black\" points=\"393.75,-56.25 393.75,-91.5\"/>\n",
       "<text text-anchor=\"middle\" x=\"437.75\" y=\"-67.7\" font-family=\"Times,serif\" font-size=\"14.00\">grad 24.0000</text>\n",
       "</g>\n",
       "<!-- 5036976192+ -->\n",
       "<g id=\"node6\" class=\"node\">\n",
       "<title>5036976192+</title>\n",
       "<ellipse fill=\"none\" stroke=\"black\" cx=\"544.75\" cy=\"-100.5\" rx=\"27\" ry=\"18\"/>\n",
       "<text text-anchor=\"middle\" x=\"544.75\" y=\"-94.33\" font-family=\"Times,serif\" font-size=\"14.00\">+</text>\n",
       "</g>\n",
       "<!-- 5036975136&#45;&gt;5036976192+ -->\n",
       "<g id=\"edge8\" class=\"edge\">\n",
       "<title>5036975136&#45;&gt;5036976192+</title>\n",
       "<path fill=\"none\" stroke=\"black\" d=\"M482.17,-89.28C490.92,-90.88 499.43,-92.43 507.19,-93.84\"/>\n",
       "<polygon fill=\"black\" stroke=\"black\" points=\"506.38,-97.25 516.85,-95.6 507.64,-90.37 506.38,-97.25\"/>\n",
       "</g>\n",
       "<!-- 5036975136* -->\n",
       "<g id=\"node2\" class=\"node\">\n",
       "<title>5036975136*</title>\n",
       "<ellipse fill=\"none\" stroke=\"black\" cx=\"244.25\" cy=\"-73.5\" rx=\"27\" ry=\"18\"/>\n",
       "<text text-anchor=\"middle\" x=\"244.25\" y=\"-67.33\" font-family=\"Times,serif\" font-size=\"14.00\">*</text>\n",
       "</g>\n",
       "<!-- 5036975136*&#45;&gt;5036975136 -->\n",
       "<g id=\"edge1\" class=\"edge\">\n",
       "<title>5036975136*&#45;&gt;5036975136</title>\n",
       "<path fill=\"none\" stroke=\"black\" d=\"M271.41,-73.5C278.6,-73.5 286.85,-73.5 295.58,-73.5\"/>\n",
       "<polygon fill=\"black\" stroke=\"black\" points=\"295.36,-77 305.36,-73.5 295.36,-70 295.36,-77\"/>\n",
       "</g>\n",
       "<!-- 5036546608 -->\n",
       "<g id=\"node3\" class=\"node\">\n",
       "<title>5036546608</title>\n",
       "<polygon fill=\"none\" stroke=\"black\" points=\"307.25,-110.5 307.25,-146.5 481.75,-146.5 481.75,-110.5 307.25,-110.5\"/>\n",
       "<text text-anchor=\"middle\" x=\"350.5\" y=\"-122.7\" font-family=\"Times,serif\" font-size=\"14.00\">data 15.0000</text>\n",
       "<polyline fill=\"none\" stroke=\"black\" points=\"393.75,-111.25 393.75,-146.5\"/>\n",
       "<text text-anchor=\"middle\" x=\"437.75\" y=\"-122.7\" font-family=\"Times,serif\" font-size=\"14.00\">grad 24.0000</text>\n",
       "</g>\n",
       "<!-- 5036546608&#45;&gt;5036976192+ -->\n",
       "<g id=\"edge12\" class=\"edge\">\n",
       "<title>5036546608&#45;&gt;5036976192+</title>\n",
       "<path fill=\"none\" stroke=\"black\" d=\"M482.17,-112.13C490.92,-110.48 499.43,-108.87 507.19,-107.4\"/>\n",
       "<polygon fill=\"black\" stroke=\"black\" points=\"507.67,-110.88 516.85,-105.58 506.38,-104 507.67,-110.88\"/>\n",
       "</g>\n",
       "<!-- 5036546608* -->\n",
       "<g id=\"node4\" class=\"node\">\n",
       "<title>5036546608*</title>\n",
       "<ellipse fill=\"none\" stroke=\"black\" cx=\"244.25\" cy=\"-128.5\" rx=\"27\" ry=\"18\"/>\n",
       "<text text-anchor=\"middle\" x=\"244.25\" y=\"-122.33\" font-family=\"Times,serif\" font-size=\"14.00\">*</text>\n",
       "</g>\n",
       "<!-- 5036546608*&#45;&gt;5036546608 -->\n",
       "<g id=\"edge2\" class=\"edge\">\n",
       "<title>5036546608*&#45;&gt;5036546608</title>\n",
       "<path fill=\"none\" stroke=\"black\" d=\"M271.41,-128.5C278.6,-128.5 286.85,-128.5 295.58,-128.5\"/>\n",
       "<polygon fill=\"black\" stroke=\"black\" points=\"295.36,-132 305.36,-128.5 295.36,-125 295.36,-132\"/>\n",
       "</g>\n",
       "<!-- 5036976192 -->\n",
       "<g id=\"node5\" class=\"node\">\n",
       "<title>5036976192</title>\n",
       "<polygon fill=\"none\" stroke=\"black\" points=\"607.75,-82.5 607.75,-118.5 782.25,-118.5 782.25,-82.5 607.75,-82.5\"/>\n",
       "<text text-anchor=\"middle\" x=\"651\" y=\"-94.7\" font-family=\"Times,serif\" font-size=\"14.00\">data 85.0000</text>\n",
       "<polyline fill=\"none\" stroke=\"black\" points=\"694.25,-83.25 694.25,-118.5\"/>\n",
       "<text text-anchor=\"middle\" x=\"738.25\" y=\"-94.7\" font-family=\"Times,serif\" font-size=\"14.00\">grad 24.0000</text>\n",
       "</g>\n",
       "<!-- 5036976480* -->\n",
       "<g id=\"node11\" class=\"node\">\n",
       "<title>5036976480*</title>\n",
       "<ellipse fill=\"none\" stroke=\"black\" cx=\"845.25\" cy=\"-127.5\" rx=\"27\" ry=\"18\"/>\n",
       "<text text-anchor=\"middle\" x=\"845.25\" y=\"-121.33\" font-family=\"Times,serif\" font-size=\"14.00\">*</text>\n",
       "</g>\n",
       "<!-- 5036976192&#45;&gt;5036976480* -->\n",
       "<g id=\"edge11\" class=\"edge\">\n",
       "<title>5036976192&#45;&gt;5036976480*</title>\n",
       "<path fill=\"none\" stroke=\"black\" d=\"M782.67,-116.28C791.42,-117.88 799.93,-119.43 807.69,-120.84\"/>\n",
       "<polygon fill=\"black\" stroke=\"black\" points=\"806.88,-124.25 817.35,-122.6 808.14,-117.37 806.88,-124.25\"/>\n",
       "</g>\n",
       "<!-- 5036976192+&#45;&gt;5036976192 -->\n",
       "<g id=\"edge3\" class=\"edge\">\n",
       "<title>5036976192+&#45;&gt;5036976192</title>\n",
       "<path fill=\"none\" stroke=\"black\" d=\"M571.91,-100.5C579.1,-100.5 587.35,-100.5 596.08,-100.5\"/>\n",
       "<polygon fill=\"black\" stroke=\"black\" points=\"595.86,-104 605.86,-100.5 595.86,-97 595.86,-104\"/>\n",
       "</g>\n",
       "<!-- 5030060320 -->\n",
       "<g id=\"node7\" class=\"node\">\n",
       "<title>5030060320</title>\n",
       "<polygon fill=\"none\" stroke=\"black\" points=\"3.38,-165.5 3.38,-201.5 177.88,-201.5 177.88,-165.5 3.38,-165.5\"/>\n",
       "<text text-anchor=\"middle\" x=\"43.25\" y=\"-177.7\" font-family=\"Times,serif\" font-size=\"14.00\">data 3.0000</text>\n",
       "<polyline fill=\"none\" stroke=\"black\" points=\"83.12,-166.25 83.12,-201.5\"/>\n",
       "<text text-anchor=\"middle\" x=\"130.5\" y=\"-177.7\" font-family=\"Times,serif\" font-size=\"14.00\">grad 120.0000</text>\n",
       "</g>\n",
       "<!-- 5030060320&#45;&gt;5036546608* -->\n",
       "<g id=\"edge7\" class=\"edge\">\n",
       "<title>5030060320&#45;&gt;5036546608*</title>\n",
       "<path fill=\"none\" stroke=\"black\" d=\"M156.58,-165.04C164.94,-162.34 173.34,-159.46 181.25,-156.5 191.21,-152.77 201.84,-148.19 211.44,-143.83\"/>\n",
       "<polygon fill=\"black\" stroke=\"black\" points=\"212.76,-147.08 220.36,-139.7 209.82,-140.73 212.76,-147.08\"/>\n",
       "</g>\n",
       "<!-- 5036976432 -->\n",
       "<g id=\"node8\" class=\"node\">\n",
       "<title>5036976432</title>\n",
       "<polygon fill=\"none\" stroke=\"black\" points=\"607.75,-137.5 607.75,-173.5 782.25,-173.5 782.25,-137.5 607.75,-137.5\"/>\n",
       "<text text-anchor=\"middle\" x=\"651\" y=\"-149.7\" font-family=\"Times,serif\" font-size=\"14.00\">data 24.0000</text>\n",
       "<polyline fill=\"none\" stroke=\"black\" points=\"694.25,-138.25 694.25,-173.5\"/>\n",
       "<text text-anchor=\"middle\" x=\"738.25\" y=\"-149.7\" font-family=\"Times,serif\" font-size=\"14.00\">grad 85.0000</text>\n",
       "</g>\n",
       "<!-- 5036976432&#45;&gt;5036976480* -->\n",
       "<g id=\"edge10\" class=\"edge\">\n",
       "<title>5036976432&#45;&gt;5036976480*</title>\n",
       "<path fill=\"none\" stroke=\"black\" d=\"M782.67,-139.13C791.42,-137.48 799.93,-135.87 807.69,-134.4\"/>\n",
       "<polygon fill=\"black\" stroke=\"black\" points=\"808.17,-137.88 817.35,-132.58 806.88,-131 808.17,-137.88\"/>\n",
       "</g>\n",
       "<!-- 5036548432 -->\n",
       "<g id=\"node9\" class=\"node\">\n",
       "<title>5036548432</title>\n",
       "<polygon fill=\"none\" stroke=\"black\" points=\"0,-55.5 0,-91.5 181.25,-91.5 181.25,-55.5 0,-55.5\"/>\n",
       "<text text-anchor=\"middle\" x=\"43.25\" y=\"-67.7\" font-family=\"Times,serif\" font-size=\"14.00\">data 10.0000</text>\n",
       "<polyline fill=\"none\" stroke=\"black\" points=\"86.5,-56.25 86.5,-91.5\"/>\n",
       "<text text-anchor=\"middle\" x=\"133.88\" y=\"-67.7\" font-family=\"Times,serif\" font-size=\"14.00\">grad 168.0000</text>\n",
       "</g>\n",
       "<!-- 5036548432&#45;&gt;5036975136* -->\n",
       "<g id=\"edge6\" class=\"edge\">\n",
       "<title>5036548432&#45;&gt;5036975136*</title>\n",
       "<path fill=\"none\" stroke=\"black\" d=\"M181.58,-73.5C189.93,-73.5 198.05,-73.5 205.5,-73.5\"/>\n",
       "<polygon fill=\"black\" stroke=\"black\" points=\"205.46,-77 215.46,-73.5 205.46,-70 205.46,-77\"/>\n",
       "</g>\n",
       "<!-- 5036976480 -->\n",
       "<g id=\"node10\" class=\"node\">\n",
       "<title>5036976480</title>\n",
       "<polygon fill=\"none\" stroke=\"black\" points=\"908.25,-109.5 908.25,-145.5 1089.5,-145.5 1089.5,-109.5 908.25,-109.5\"/>\n",
       "<text text-anchor=\"middle\" x=\"958.25\" y=\"-121.7\" font-family=\"Times,serif\" font-size=\"14.00\">data 2040.0000</text>\n",
       "<polyline fill=\"none\" stroke=\"black\" points=\"1008.25,-110.25 1008.25,-145.5\"/>\n",
       "<text text-anchor=\"middle\" x=\"1048.88\" y=\"-121.7\" font-family=\"Times,serif\" font-size=\"14.00\">grad 1.0000</text>\n",
       "</g>\n",
       "<!-- 5036976480*&#45;&gt;5036976480 -->\n",
       "<g id=\"edge4\" class=\"edge\">\n",
       "<title>5036976480*&#45;&gt;5036976480</title>\n",
       "<path fill=\"none\" stroke=\"black\" d=\"M872.66,-127.5C879.82,-127.5 888.02,-127.5 896.72,-127.5\"/>\n",
       "<polygon fill=\"black\" stroke=\"black\" points=\"896.46,-131 906.46,-127.5 896.46,-124 896.46,-131\"/>\n",
       "</g>\n",
       "<!-- 5036834640 -->\n",
       "<g id=\"node12\" class=\"node\">\n",
       "<title>5036834640</title>\n",
       "<polygon fill=\"none\" stroke=\"black\" points=\"3.38,-0.5 3.38,-36.5 177.88,-36.5 177.88,-0.5 3.38,-0.5\"/>\n",
       "<text text-anchor=\"middle\" x=\"43.25\" y=\"-12.7\" font-family=\"Times,serif\" font-size=\"14.00\">data 7.0000</text>\n",
       "<polyline fill=\"none\" stroke=\"black\" points=\"83.12,-1.25 83.12,-36.5\"/>\n",
       "<text text-anchor=\"middle\" x=\"130.5\" y=\"-12.7\" font-family=\"Times,serif\" font-size=\"14.00\">grad 240.0000</text>\n",
       "</g>\n",
       "<!-- 5036834640&#45;&gt;5036975136* -->\n",
       "<g id=\"edge5\" class=\"edge\">\n",
       "<title>5036834640&#45;&gt;5036975136*</title>\n",
       "<path fill=\"none\" stroke=\"black\" d=\"M153.63,-36.91C162.94,-39.95 172.39,-43.2 181.25,-46.5 191.08,-50.16 201.6,-54.56 211.14,-58.73\"/>\n",
       "<polygon fill=\"black\" stroke=\"black\" points=\"209.45,-61.81 220.01,-62.68 212.29,-55.42 209.45,-61.81\"/>\n",
       "</g>\n",
       "<!-- 5026686368 -->\n",
       "<g id=\"node13\" class=\"node\">\n",
       "<title>5026686368</title>\n",
       "<polygon fill=\"none\" stroke=\"black\" points=\"6.75,-110.5 6.75,-146.5 174.5,-146.5 174.5,-110.5 6.75,-110.5\"/>\n",
       "<text text-anchor=\"middle\" x=\"46.62\" y=\"-122.7\" font-family=\"Times,serif\" font-size=\"14.00\">data 5.0000</text>\n",
       "<polyline fill=\"none\" stroke=\"black\" points=\"86.5,-111.25 86.5,-146.5\"/>\n",
       "<text text-anchor=\"middle\" x=\"130.5\" y=\"-122.7\" font-family=\"Times,serif\" font-size=\"14.00\">grad 72.0000</text>\n",
       "</g>\n",
       "<!-- 5026686368&#45;&gt;5036546608* -->\n",
       "<g id=\"edge9\" class=\"edge\">\n",
       "<title>5026686368&#45;&gt;5036546608*</title>\n",
       "<path fill=\"none\" stroke=\"black\" d=\"M174.98,-128.5C185.72,-128.5 196.26,-128.5 205.72,-128.5\"/>\n",
       "<polygon fill=\"black\" stroke=\"black\" points=\"205.54,-132 215.54,-128.5 205.54,-125 205.54,-132\"/>\n",
       "</g>\n",
       "</g>\n",
       "</svg>\n"
      ],
      "text/plain": [
       "<graphviz.graphs.Digraph at 0x12c3a2cc0>"
      ]
     },
     "execution_count": 14,
     "metadata": {},
     "output_type": "execute_result"
    }
   ],
   "source": [
    "z.backward()\n",
    "draw_dot(z)"
   ]
  },
  {
   "cell_type": "markdown",
   "metadata": {},
   "source": [
    "### Regressão linear usando diferenciação automática\n",
    "\n",
    "Tendo uma forma de calcular gradientes, podemos reimplementar a regressão linear"
   ]
  },
  {
   "cell_type": "code",
   "execution_count": 15,
   "metadata": {},
   "outputs": [
    {
     "data": {
      "text/plain": [
       "[<matplotlib.lines.Line2D at 0x12d63f740>]"
      ]
     },
     "execution_count": 15,
     "metadata": {},
     "output_type": "execute_result"
    },
    {
     "data": {
      "image/png": "[encoded data removed]",
      "text/plain": [
       "<Figure size 640x480 with 1 Axes>"
      ]
     },
     "metadata": {},
     "output_type": "display_data"
    }
   ],
   "source": [
    "import numpy as np\n",
    "import matplotlib.pyplot as plt\n",
    "import torch\n",
    "\n",
    "class Model:\n",
    "\n",
    "    def __init__(self, a, b):\n",
    "\n",
    "        # Parâmetros do modelo\n",
    "        self.a = torch.tensor(a, requires_grad=True)\n",
    "        self.b = torch.tensor(b, requires_grad=True)\n",
    "\n",
    "    def __call__(self, x):\n",
    "        y = self.a*x + self.b\n",
    "        return  y\n",
    "\n",
    "def mse(model, x, y):\n",
    "    '''Erro quadrático médio'''\n",
    "\n",
    "    ym = model(x)\n",
    "    error = torch.mean((y-ym)**2)\n",
    "\n",
    "    return error\n",
    "\n",
    "def step(model, x, y, lr):\n",
    "\n",
    "    # Apaga os gradientes\n",
    "    model.a.grad = None\n",
    "    model.b.grad = None\n",
    "    error = mse(model, x, y)\n",
    "    # Calcula os gradientes\n",
    "    error.backward()\n",
    "    # Atualiza os gradientes\n",
    "    with torch.no_grad():\n",
    "        model.a -= lr*model.a.grad\n",
    "        model.b -= lr*model.b.grad\n",
    "\n",
    "    return error.item()\n",
    "\n",
    "data = torch.from_numpy(np.loadtxt('../data/age_data_1.txt'))\n",
    "x, y = data.T\n",
    "\n",
    "model = Model(a=0., b=0.)\n",
    "num_epochs = 100\n",
    "lr = 0.3\n",
    "errors = []\n",
    "for epoch in range(0, num_epochs):\n",
    "    error = step(model, x, y, lr)\n",
    "    errors.append(error)\n",
    "\n",
    "plt.plot(errors)"
   ]
  }
 ],
 "metadata": {
  "kernelspec": {
   "display_name": "pytorch",
   "language": "python",
   "name": "python3"
  },
  "language_info": {
   "codemirror_mode": {
    "name": "ipython",
    "version": 3
   },
   "file_extension": ".py",
   "mimetype": "text/x-python",
   "name": "python",
   "nbconvert_exporter": "python",
   "pygments_lexer": "ipython3",
   "version": "3.12.2"
  }
 },
 "nbformat": 4,
 "nbformat_minor": 2
}
