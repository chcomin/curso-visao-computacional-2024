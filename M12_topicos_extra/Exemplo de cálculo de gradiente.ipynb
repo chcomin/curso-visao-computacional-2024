{
 "cells": [
  {
   "cell_type": "markdown",
   "metadata": {},
   "source": [
    "# Cálculo de gradiente para uma rede linear\n",
    "\n",
    "Este notebook implementa a equação \n",
    "\n",
    "\\begin{equation}\n",
    "    \\frac{\\partial \\mathcal{L}(x;\\mathbb{W})}{\\partial w_{ij}^l} = \\nabla{\\mathbf{a}_L}\\mathcal{L}(x;\\mathbb{W})W_L W_{L-1}\\dots W_{l+1}\\mathbf{\\delta}_i^T a^{l-1}\n",
    "\\end{equation}\n",
    "deduzida nas notas de aula."
   ]
  },
  {
   "cell_type": "code",
   "execution_count": 2,
   "metadata": {},
   "outputs": [
    {
     "name": "stdout",
     "output_type": "stream",
     "text": [
      "tensor(-0.0414) tensor(-0.0414)\n"
     ]
    }
   ],
   "source": [
    "import torch\n",
    "from torch import nn\n",
    "\n",
    "@torch.no_grad\n",
    "def calc_grad(model, x, i, j):\n",
    "    '''Calcula o gradiente da primeira camada do modelo para o parâmetro na\n",
    "     posição (i,j). Note que a primeira camada é a camada de entrada, portanto\n",
    "    é necessário propagar os gradientes ao longo de toda a rede. É assumido \n",
    "    que o modelo é formado apenas por camadas lineares com bias=0.'''\n",
    "\n",
    "    L = len(model) - 1\n",
    "    # Assume que a loss foi calculada como loss = aL.sum(), e portanto o gradiente\n",
    "    # da loss em relação à saída da rede é dado por um vetor de valores 1.\n",
    "    grad_loss_aL = torch.ones(model[-1].weight.shape[0])\n",
    "    v = grad_loss_aL\n",
    "    for l in range(L, 0, -1):\n",
    "        # Produto entre gradiente e matrizes Jacobianas\n",
    "        v = v@model[l].weight\n",
    "    # Seleção do resultado na posição i e multiplicação por x[j]\n",
    "    grad_lij = v[i]*x[j]\n",
    "\n",
    "    return grad_lij\n",
    "\n",
    "def calc_grad_pytorch(model, x, i, j):\n",
    "    '''Calcula o gradiente usando Pytorch.'''\n",
    "\n",
    "    out = model(x)\n",
    "    loss = out.sum()\n",
    "    loss.backward()\n",
    "    grad_lij = model[0].weight.grad[i,j]\n",
    "\n",
    "    return grad_lij\n",
    "\n",
    "# Modelo de exemplo\n",
    "model = nn.Sequential(\n",
    "    nn.Linear(10, 20, bias=False),\n",
    "    nn.Linear(20, 30, bias=False),\n",
    "    nn.Linear(30, 40, bias=False),\n",
    "    nn.Linear(40, 50, bias=False),\n",
    "    nn.Linear(50, 60, bias=False),\n",
    ")\n",
    "x = torch.rand(10)\n",
    "grad_lij = calc_grad(model, x, i=4, j=6)\n",
    "grad_lij_pt = calc_grad_pytorch(model, x, i=4, j=6)\n",
    "# Compara os valores\n",
    "print(grad_lij, grad_lij_pt)"
   ]
  }
 ],
 "metadata": {
  "kernelspec": {
   "display_name": "vc2024",
   "language": "python",
   "name": "python3"
  },
  "language_info": {
   "codemirror_mode": {
    "name": "ipython",
    "version": 3
   },
   "file_extension": ".py",
   "mimetype": "text/x-python",
   "name": "python",
   "nbconvert_exporter": "python",
   "pygments_lexer": "ipython3",
   "version": "3.12.2"
  }
 },
 "nbformat": 4,
 "nbformat_minor": 2
}
