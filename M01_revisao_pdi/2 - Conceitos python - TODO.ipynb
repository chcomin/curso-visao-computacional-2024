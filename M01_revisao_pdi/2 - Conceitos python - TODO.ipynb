{
 "cells": [
  {
   "cell_type": "markdown",
   "metadata": {},
   "source": [
    "# Alguns conceitos básicos de Python\n",
    "\n",
    "* python dunder\n",
    "* args, kwargs\n",
    "* numpy broadcasting\n",
    "* IPhyton display\n"
   ]
  },
  {
   "cell_type": "code",
   "execution_count": null,
   "metadata": {},
   "outputs": [],
   "source": []
  }
 ],
 "metadata": {
  "language_info": {
   "name": "python"
  }
 },
 "nbformat": 4,
 "nbformat_minor": 2
}
