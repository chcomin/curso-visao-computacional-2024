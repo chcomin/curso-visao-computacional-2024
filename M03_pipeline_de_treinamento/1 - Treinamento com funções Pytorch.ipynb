{
 "cells": [
  {
   "cell_type": "markdown",
   "metadata": {},
   "source": [
    "# Treinamento usando funções Pytorch\n",
    "\n",
    "Vamos substituir algumas funções que fizemos no notebook do módulo 1 por funções do Pytorch"
   ]
  },
  {
   "cell_type": "code",
   "execution_count": 1,
   "metadata": {},
   "outputs": [],
   "source": [
    "import numpy as np\n",
    "import matplotlib.pyplot as plt\n",
    "import torch\n",
    "from torch import nn\n",
    "import torch.nn.functional as F\n",
    "\n",
    "data = torch.from_numpy(np.loadtxt('../data/age_data_3.txt')).to(torch.float32)\n",
    "inputs, targets = data.T"
   ]
  },
  {
   "cell_type": "markdown",
   "metadata": {},
   "source": [
    "### Camada linear Pytorch\n",
    "\n",
    "A camada linear do Pytorch nada mais é do que uma combinação linear das variáveis de entrada. Ela possui os atributos .weight e .bias que são iguais aos atributos a e b que usamos no nosos modelo linear"
   ]
  },
  {
   "cell_type": "code",
   "execution_count": 2,
   "metadata": {},
   "outputs": [
    {
     "name": "stdout",
     "output_type": "stream",
     "text": [
      "Parameter containing:\n",
      "tensor([[-0.9056]], requires_grad=True)\n",
      "Parameter containing:\n",
      "tensor([0.6290], requires_grad=True)\n"
     ]
    }
   ],
   "source": [
    "model = nn.Linear(in_features=1, out_features=1, bias=True)\n",
    "print(model.weight)\n",
    "print(model.bias)"
   ]
  },
  {
   "cell_type": "code",
   "execution_count": 3,
   "metadata": {},
   "outputs": [
    {
     "name": "stdout",
     "output_type": "stream",
     "text": [
      "tensor([[-0.6207],\n",
      "        [-0.4939],\n",
      "        [-0.5482],\n",
      "        [-0.6569],\n",
      "        [-0.6297],\n",
      "        [-0.3671],\n",
      "        [-0.5482],\n",
      "        [-0.4396],\n",
      "        [-0.4486],\n",
      "        [-0.4939]], grad_fn=<SliceBackward0>)\n",
      "tensor([[-0.6207],\n",
      "        [-0.4939],\n",
      "        [-0.5482],\n",
      "        [-0.6569],\n",
      "        [-0.6297],\n",
      "        [-0.3671],\n",
      "        [-0.5482],\n",
      "        [-0.4396],\n",
      "        [-0.4486],\n",
      "        [-0.4939]], grad_fn=<SliceBackward0>)\n"
     ]
    }
   ],
   "source": [
    "#Modelos do Pytorch sempre esperam um tensor com tamanho NxC1xC2..., onde N é o número\n",
    "#de instâncias que serão processadas e C1, C2, ... é a dimensão dos dados.\n",
    "#Para imagens, os dados terão tamanho NxHxW, onde H é o número de linhas e W o número \n",
    "#de colunas das imagens. Mas nos dados deste notebook, cada instância possui um único \n",
    "#atributo (altura):\n",
    "#                     dimensão Nx1\n",
    "inputs = inputs.reshape(len(inputs),1)\n",
    "targets = targets.reshape(len(targets),1)\n",
    "\n",
    "res = model(inputs)\n",
    "# imprime os 10 primeiros resultados\n",
    "print(res[:10])\n",
    "# O código acima faz a seguinte operação:\n",
    "res_comp = model.weight*inputs + model.bias\n",
    "print(res_comp[:10])"
   ]
  },
  {
   "cell_type": "markdown",
   "metadata": {},
   "source": [
    "### Treinamento usando funções do Pytorch"
   ]
  },
  {
   "cell_type": "code",
   "execution_count": 4,
   "metadata": {},
   "outputs": [
    {
     "data": {
      "text/plain": [
       "[<matplotlib.lines.Line2D at 0x138ea0560>]"
      ]
     },
     "execution_count": 4,
     "metadata": {},
     "output_type": "execute_result"
    },
    {
     "data": {
      "image/png": "[encoded data removed]",
      "text/plain": [
       "<Figure size 640x480 with 1 Axes>"
      ]
     },
     "metadata": {},
     "output_type": "display_data"
    }
   ],
   "source": [
    "with torch.no_grad():\n",
    "    model.weight[:] = 19.\n",
    "    model.bias[:] = -25.\n",
    "\n",
    "num_epochs = 1000\n",
    "lr = 0.03\n",
    "losses = []\n",
    "for epoch in range(0, num_epochs):\n",
    "    # Apaga os gradientes\n",
    "    model.zero_grad()\n",
    "    scores = model(inputs)\n",
    "\n",
    "    # Por padrão o Pytorch calcula a média das entropias, que é o mais adequado.\n",
    "    # Mas no notebook anterior usamos a soma\n",
    "    loss = F.binary_cross_entropy_with_logits(scores, targets, reduction='sum')\n",
    "    # A linha acima é equivalente a fazer:\n",
    "    #probs = F.sigmoid(scores)\n",
    "    #loss = F.binary_cross_entropy(probs, targets, reduction='sum')\n",
    "\n",
    "    # Calcula os gradientes\n",
    "    loss.backward()\n",
    "    # Atualiza os gradientes\n",
    "    with torch.no_grad():\n",
    "        model.weight -= lr*model.weight.grad\n",
    "        model.bias -= lr*model.bias.grad\n",
    "\n",
    "    losses.append(loss.item())\n",
    "\n",
    "plt.plot(losses)"
   ]
  },
  {
   "cell_type": "markdown",
   "metadata": {},
   "source": [
    "### Treinamento usando um otimizador do Pytorch\n",
    "\n",
    "Ao invés de implementar um passo do gradiente, podemos utilizar uma classe pronta para fazer isso:"
   ]
  },
  {
   "cell_type": "code",
   "execution_count": 5,
   "metadata": {},
   "outputs": [
    {
     "data": {
      "text/plain": [
       "[<matplotlib.lines.Line2D at 0x13b095550>]"
      ]
     },
     "execution_count": 5,
     "metadata": {},
     "output_type": "execute_result"
    },
    {
     "data": {
      "image/png": "[encoded data removed]",
      "text/plain": [
       "<Figure size 640x480 with 1 Axes>"
      ]
     },
     "metadata": {},
     "output_type": "display_data"
    }
   ],
   "source": [
    "with torch.no_grad():\n",
    "    model.weight[:] = 19.\n",
    "    model.bias[:] = -25.\n",
    "\n",
    "# Classe Stochastic Gradient Descent. Recebe como entrada os\n",
    "# parâmetros do modelo e lr\n",
    "sgd = torch.optim.SGD(model.parameters(), lr=lr)\n",
    "losses = []\n",
    "for epoch in range(0, num_epochs):\n",
    "    # Apaga os gradientes\n",
    "    sgd.zero_grad()\n",
    "    scores = model(inputs)\n",
    "\n",
    "    loss = F.binary_cross_entropy_with_logits(scores, targets, reduction='sum')\n",
    "\n",
    "    # Calcula os gradientes\n",
    "    loss.backward()\n",
    "    # Atualiza os gradientes\n",
    "    sgd.step()\n",
    "\n",
    "    losses.append(loss.item())\n",
    "\n",
    "plt.plot(losses)"
   ]
  }
 ],
 "metadata": {
  "kernelspec": {
   "display_name": "pytorch",
   "language": "python",
   "name": "python3"
  },
  "language_info": {
   "codemirror_mode": {
    "name": "ipython",
    "version": 3
   },
   "file_extension": ".py",
   "mimetype": "text/x-python",
   "name": "python",
   "nbconvert_exporter": "python",
   "pygments_lexer": "ipython3",
   "version": "3.12.2"
  }
 },
 "nbformat": 4,
 "nbformat_minor": 2
}
