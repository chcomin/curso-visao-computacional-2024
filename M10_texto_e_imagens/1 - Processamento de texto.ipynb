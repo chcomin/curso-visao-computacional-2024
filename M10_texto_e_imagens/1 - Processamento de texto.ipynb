{
 "cells": [
  {
   "cell_type": "markdown",
   "metadata": {},
   "source": [
    "# Processamento de texto\n",
    "\n",
    "Iremos estudar brevemente como processar texto usando redes neurais. Como esse não é um objetivo do curso, utilizaremos a biblioteca Hugginface para fazer essa tarefa. Mas é importante entendermos o processamento realizado pela biblioteca."
   ]
  },
  {
   "cell_type": "markdown",
   "metadata": {},
   "source": [
    "### Pipeline do Hugginface\n",
    "\n",
    "Primeiramente utilizaremos um pipeline do Hugginface, que é a interface de mais alto nível da biblioteca\n",
    "\n",
    "Lista de modelos disponíveis para o pipeline: https://huggingface.co/models \\\n",
    "Lista de tarefas disponíveis para o pipeline: https://huggingface.co/docs/transformers/main_classes/pipelines#transformers.pipeline.task"
   ]
  },
  {
   "cell_type": "code",
   "execution_count": 1,
   "metadata": {},
   "outputs": [],
   "source": [
    "from transformers import pipeline\n",
    "\n",
    "pipe = pipeline(model='distilbert/distilbert-base-cased', task='feature-extraction', \n",
    "                return_tensors=True)\n",
    "\n",
    "text = 'Some sentence to test the model'"
   ]
  },
  {
   "cell_type": "code",
   "execution_count": 2,
   "metadata": {},
   "outputs": [
    {
     "data": {
      "text/plain": [
       "tensor([[[ 0.3386,  0.0341, -0.0293,  ..., -0.2339,  0.0973,  0.0785],\n",
       "         [ 0.1333, -0.3066,  0.1266,  ...,  0.0262,  0.0969,  0.2786],\n",
       "         [ 0.2536, -0.0148,  0.1565,  ..., -0.0567, -0.1064,  0.1481],\n",
       "         ...,\n",
       "         [-0.0250, -0.2859,  0.0105,  ...,  0.2711, -0.1073,  0.3281],\n",
       "         [ 0.0498, -0.1095, -0.2095,  ...,  0.3505, -0.0599, -0.0365],\n",
       "         [ 0.7945,  0.0952, -0.0333,  ..., -0.0862,  0.5560, -0.2026]]])"
      ]
     },
     "execution_count": 2,
     "metadata": {},
     "output_type": "execute_result"
    }
   ],
   "source": [
    "y = pipe(text)\n",
    "y"
   ]
  },
  {
   "cell_type": "code",
   "execution_count": 3,
   "metadata": {},
   "outputs": [
    {
     "data": {
      "text/plain": [
       "torch.Size([8, 768])"
      ]
     },
     "execution_count": 3,
     "metadata": {},
     "output_type": "execute_result"
    }
   ],
   "source": [
    "y[0].shape"
   ]
  },
  {
   "cell_type": "markdown",
   "metadata": {},
   "source": [
    "A sentença é transformada em uma matriz de tamanho 8x768. Vamos entender como isso é feito.\n",
    "\n",
    "O pipeline é composto por um tokenizador e uma rede neural:"
   ]
  },
  {
   "cell_type": "code",
   "execution_count": 4,
   "metadata": {},
   "outputs": [
    {
     "name": "stdout",
     "output_type": "stream",
     "text": [
      "DistilBertTokenizerFast(name_or_path='distilbert/distilbert-base-cased', vocab_size=28996, model_max_length=512, is_fast=True, padding_side='right', truncation_side='right', special_tokens={'unk_token': '[UNK]', 'sep_token': '[SEP]', 'pad_token': '[PAD]', 'cls_token': '[CLS]', 'mask_token': '[MASK]'}, clean_up_tokenization_spaces=True),  added_tokens_decoder={\n",
      "\t0: AddedToken(\"[PAD]\", rstrip=False, lstrip=False, single_word=False, normalized=False, special=True),\n",
      "\t100: AddedToken(\"[UNK]\", rstrip=False, lstrip=False, single_word=False, normalized=False, special=True),\n",
      "\t101: AddedToken(\"[CLS]\", rstrip=False, lstrip=False, single_word=False, normalized=False, special=True),\n",
      "\t102: AddedToken(\"[SEP]\", rstrip=False, lstrip=False, single_word=False, normalized=False, special=True),\n",
      "\t103: AddedToken(\"[MASK]\", rstrip=False, lstrip=False, single_word=False, normalized=False, special=True),\n",
      "}\n",
      "DistilBertModel(\n",
      "  (embeddings): Embeddings(\n",
      "    (word_embeddings): Embedding(28996, 768, padding_idx=0)\n",
      "    (position_embeddings): Embedding(512, 768)\n",
      "    (LayerNorm): LayerNorm((768,), eps=1e-12, elementwise_affine=True)\n",
      "    (dropout): Dropout(p=0.1, inplace=False)\n",
      "  )\n",
      "  (transformer): Transformer(\n",
      "    (layer): ModuleList(\n",
      "      (0-5): 6 x TransformerBlock(\n",
      "        (attention): MultiHeadSelfAttention(\n",
      "          (dropout): Dropout(p=0.1, inplace=False)\n",
      "          (q_lin): Linear(in_features=768, out_features=768, bias=True)\n",
      "          (k_lin): Linear(in_features=768, out_features=768, bias=True)\n",
      "          (v_lin): Linear(in_features=768, out_features=768, bias=True)\n",
      "          (out_lin): Linear(in_features=768, out_features=768, bias=True)\n",
      "        )\n",
      "        (sa_layer_norm): LayerNorm((768,), eps=1e-12, elementwise_affine=True)\n",
      "        (ffn): FFN(\n",
      "          (dropout): Dropout(p=0.1, inplace=False)\n",
      "          (lin1): Linear(in_features=768, out_features=3072, bias=True)\n",
      "          (lin2): Linear(in_features=3072, out_features=768, bias=True)\n",
      "          (activation): GELUActivation()\n",
      "        )\n",
      "        (output_layer_norm): LayerNorm((768,), eps=1e-12, elementwise_affine=True)\n",
      "      )\n",
      "    )\n",
      "  )\n",
      ")\n"
     ]
    }
   ],
   "source": [
    "tokenizer = pipe.tokenizer\n",
    "model = pipe.model\n",
    "\n",
    "print(tokenizer)\n",
    "print(model)"
   ]
  },
  {
   "cell_type": "markdown",
   "metadata": {},
   "source": [
    "### Tokenizador"
   ]
  },
  {
   "cell_type": "markdown",
   "metadata": {},
   "source": [
    "O tokenizador possui um dicionário que transforma trechos da sentença em um número:"
   ]
  },
  {
   "cell_type": "code",
   "execution_count": 5,
   "metadata": {},
   "outputs": [
    {
     "name": "stdout",
     "output_type": "stream",
     "text": [
      "##low 6737\n",
      "Chargers 21309\n",
      "Edit 18269\n",
      "potentially 9046\n",
      "##sboro 27019\n",
      "reelected 23575\n",
      "##well 3192\n",
      "tenth 8281\n",
      "Aviv 12927\n",
      "Reno 19139\n",
      "regardless 8334\n"
     ]
    }
   ],
   "source": [
    "vocab = tokenizer.vocab\n",
    "# Imprime os 10 primeiros elementos do vocabulário\n",
    "for idx, (key, value) in enumerate(vocab.items()):\n",
    "    print(key, value)\n",
    "    if idx==10:\n",
    "        break\n"
   ]
  },
  {
   "cell_type": "markdown",
   "metadata": {},
   "source": [
    "Algumas palavras do vocabulário são termos como `##ing`. Isso porque o modelo usado para tokenização (WordPiece) pode quebrar palavras em diferentes subpalavras que ocorrem com muita frequência. Por exemplo, a palavra `partying` é tokenizada como '['party', '##ing']', pois a palavra `party` ocorre com frequência de forma isolada e o final de palavra `ing` também é bem comum.\n",
    "\n",
    "Isso possibilita que o vocabulário seja menor, pois não é necessário armazenar todas as palavras do idioma, apenas partes de palavras."
   ]
  },
  {
   "cell_type": "code",
   "execution_count": 6,
   "metadata": {},
   "outputs": [
    {
     "data": {
      "text/plain": [
       "28996"
      ]
     },
     "execution_count": 6,
     "metadata": {},
     "output_type": "execute_result"
    }
   ],
   "source": [
    "# Tamanho total do vocabulário\n",
    "len(vocab)"
   ]
  },
  {
   "cell_type": "markdown",
   "metadata": {},
   "source": [
    "O processo de tokenização consiste em mapear cada palavra para o respectivo índice no vocabulário"
   ]
  },
  {
   "cell_type": "code",
   "execution_count": 7,
   "metadata": {},
   "outputs": [
    {
     "data": {
      "text/plain": [
       "[1789, 5650, 1106, 2774, 1103, 2235]"
      ]
     },
     "execution_count": 7,
     "metadata": {},
     "output_type": "execute_result"
    }
   ],
   "source": [
    "[tokenizer.vocab[w] for w in text.split()]"
   ]
  },
  {
   "cell_type": "code",
   "execution_count": 8,
   "metadata": {},
   "outputs": [
    {
     "data": {
      "text/plain": [
       "[101, 1789, 5650, 1106, 2774, 1103, 2235, 102]"
      ]
     },
     "execution_count": 8,
     "metadata": {},
     "output_type": "execute_result"
    }
   ],
   "source": [
    "tokens = tokenizer.encode(text)\n",
    "tokens"
   ]
  },
  {
   "cell_type": "markdown",
   "metadata": {},
   "source": [
    "São adicionados tokens especiais à sentença. No caso, o token de classificação e o token de separação entre sentenças:"
   ]
  },
  {
   "cell_type": "code",
   "execution_count": 9,
   "metadata": {},
   "outputs": [
    {
     "data": {
      "text/plain": [
       "['[CLS]', 'Some', 'sentence', 'to', 'test', 'the', 'model', '[SEP]']"
      ]
     },
     "execution_count": 9,
     "metadata": {},
     "output_type": "execute_result"
    }
   ],
   "source": [
    "tokenizer(text).tokens()"
   ]
  },
  {
   "cell_type": "markdown",
   "metadata": {},
   "source": [
    "A forma padrão de usar o tokenizador é chamando a instância da classe:"
   ]
  },
  {
   "cell_type": "code",
   "execution_count": 10,
   "metadata": {},
   "outputs": [
    {
     "data": {
      "text/plain": [
       "{'input_ids': tensor([[ 101, 1789, 5650, 1106, 2774, 1103, 2235,  102],\n",
       "        [ 101, 2543, 5650,  102,    0,    0,    0,    0]]), 'attention_mask': tensor([[1, 1, 1, 1, 1, 1, 1, 1],\n",
       "        [1, 1, 1, 1, 0, 0, 0, 0]])}"
      ]
     },
     "execution_count": 10,
     "metadata": {},
     "output_type": "execute_result"
    }
   ],
   "source": [
    "texts = [text, 'Another sentence']\n",
    "tokens = tokenizer(texts, return_tensors='pt', padding=True)\n",
    "tokens"
   ]
  },
  {
   "cell_type": "markdown",
   "metadata": {},
   "source": [
    "`input_ids` são os tokens gerados para cada sentença. Sentenças curtas são preenchidas com 0 para ficarem com o mesmo tamanho que a maior sentença. \n",
    "\n",
    "O modelo BERT também possui a chamada `attention_mask`, que é uma máscara que indica quais tokens o modelo pode utilizar para fazer previsões. No nosso caso a máscara será usada somente para ignorar tokens de padding."
   ]
  },
  {
   "cell_type": "markdown",
   "metadata": {},
   "source": [
    "### Embedding\n",
    "\n",
    "Os ids de tokens são transformados em vetores de valores. Isso é feito através de uma matriz de tamanho `len(vocab)x768`, na qual cada linha corresponde a um token."
   ]
  },
  {
   "cell_type": "code",
   "execution_count": 12,
   "metadata": {},
   "outputs": [
    {
     "data": {
      "text/plain": [
       "torch.Size([2, 8, 768])"
      ]
     },
     "execution_count": 12,
     "metadata": {},
     "output_type": "execute_result"
    }
   ],
   "source": [
    "embedding = model.embeddings(tokens['input_ids'])\n",
    "embedding.shape"
   ]
  },
  {
   "cell_type": "markdown",
   "metadata": {},
   "source": [
    "A matriz de embedding inicialmente é aleatória. Ela é treinada juntamente com o modelo e otimizada para fornecer os melhores embeddings possíveis para a tarefa na qual o modelo é treinado. O processo é feito da seguinte forma:"
   ]
  },
  {
   "cell_type": "code",
   "execution_count": 13,
   "metadata": {},
   "outputs": [
    {
     "data": {
      "text/plain": [
       "torch.Size([8, 768])"
      ]
     },
     "execution_count": 13,
     "metadata": {},
     "output_type": "execute_result"
    }
   ],
   "source": [
    "import torch\n",
    "\n",
    "embedding = torch.rand(len(vocab), 768, requires_grad=True)\n",
    "\n",
    "# Embedding da sentença\n",
    "x = embedding[tokenizer.encode(text)]\n",
    "x.shape\n",
    "\n",
    "# Uso da sentença para treinar o modelo \n",
    "#..."
   ]
  },
  {
   "cell_type": "markdown",
   "metadata": {},
   "source": [
    "### Modelo BERT\n",
    "\n",
    "Para aplicar o modelo nos tokens, basta fazermos:"
   ]
  },
  {
   "cell_type": "code",
   "execution_count": 14,
   "metadata": {},
   "outputs": [
    {
     "data": {
      "text/plain": [
       "torch.Size([2, 8, 768])"
      ]
     },
     "execution_count": 14,
     "metadata": {},
     "output_type": "execute_result"
    }
   ],
   "source": [
    "res = model(**tokens)\n",
    "res[0].shape"
   ]
  },
  {
   "cell_type": "markdown",
   "metadata": {},
   "source": [
    "O modelo gera duas matrizes, uma para cada sentença. Cada sentença possui 8 tokens. Para cada token, são gerados 768 atributos. No caso do modelo BERT, é comum utilizar os atributos gerados para o token de classificação (CLS) para caracterizar a sentença como um todo."
   ]
  },
  {
   "cell_type": "code",
   "execution_count": 15,
   "metadata": {},
   "outputs": [
    {
     "data": {
      "text/plain": [
       "torch.Size([2, 768])"
      ]
     },
     "execution_count": 15,
     "metadata": {},
     "output_type": "execute_result"
    }
   ],
   "source": [
    "text_features = res[0][:,0]\n",
    "text_features.shape"
   ]
  },
  {
   "cell_type": "markdown",
   "metadata": {},
   "source": [
    "Utilização da GPU"
   ]
  },
  {
   "cell_type": "code",
   "execution_count": 16,
   "metadata": {},
   "outputs": [],
   "source": [
    "model.to('cuda')\n",
    "# A tokenização é feita na CPU\n",
    "tokens = tokenizer(texts, return_tensors='pt', padding=True)\n",
    "# Envia os tensores gerados para a GPU\n",
    "tokens = tokens.to('cuda')\n",
    "# Aplica o modelo\n",
    "res = model(**tokens)"
   ]
  },
  {
   "cell_type": "markdown",
   "metadata": {},
   "source": [
    "### Codificador de texto\n",
    "\n",
    "Vamos criar um modelo para codificar textos. Esse modelo será utilizado junto com um modelo de imagens."
   ]
  },
  {
   "cell_type": "code",
   "execution_count": 17,
   "metadata": {},
   "outputs": [
    {
     "data": {
      "text/plain": [
       "torch.Size([2, 768])"
      ]
     },
     "execution_count": 17,
     "metadata": {},
     "output_type": "execute_result"
    }
   ],
   "source": [
    "from torch import nn\n",
    "from transformers import pipeline\n",
    "\n",
    "class TextEncoder(nn.Module):\n",
    "\n",
    "    def __init__(self):\n",
    "        super().__init__()\n",
    "\n",
    "        # Carrega o pipeline do Hugginface, que inclui um tokenizador e\n",
    "        # um modelo de classificação de texto\n",
    "        pipe = pipeline(model='distilbert/distilbert-base-cased', task='feature-extraction')\n",
    "        tokenizer = pipe.tokenizer\n",
    "        model = pipe.model\n",
    "\n",
    "        self.tokenizer = tokenizer\n",
    "        self.model = model\n",
    "        # Índice do token associado à classificação\n",
    "        self.cls_token_id = 0\n",
    "        # Dimensão de saída do modelo distilbert\n",
    "        self.feature_dim = 768\n",
    "\n",
    "    def forward(self, text):\n",
    "\n",
    "        # Se houver uma lista de textos, é preciso preencher com zeros\n",
    "        # para deixá-los com mesmo tamanho\n",
    "        padding = isinstance(text, (list, tuple))\n",
    "\n",
    "        tokens = self.tokenizer(text, return_tensors='pt', padding=padding)\n",
    "\n",
    "        # Envia o texto tokenizado para o mesmo device que o modelo\n",
    "        tokens = tokens.to(self.model.device)\n",
    "        res = self.model(**tokens)[0]\n",
    "\n",
    "        # Acessa os atributos associados com o token de classificação\n",
    "        features = res[:, self.cls_token_id]\n",
    "        \n",
    "        return features\n",
    "\n",
    "text_encoder = TextEncoder()\n",
    "features = text_encoder(texts)\n",
    "features.shape"
   ]
  }
 ],
 "metadata": {
  "kernelspec": {
   "display_name": "vc2024",
   "language": "python",
   "name": "python3"
  },
  "language_info": {
   "codemirror_mode": {
    "name": "ipython",
    "version": 3
   },
   "file_extension": ".py",
   "mimetype": "text/x-python",
   "name": "python",
   "nbconvert_exporter": "python",
   "pygments_lexer": "ipython3",
   "version": "3.12.2"
  }
 },
 "nbformat": 4,
 "nbformat_minor": 2
}
